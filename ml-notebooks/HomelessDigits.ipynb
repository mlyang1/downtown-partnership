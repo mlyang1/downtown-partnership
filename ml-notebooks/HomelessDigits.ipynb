{
 "cells": [
  {
   "cell_type": "code",
   "execution_count": 1,
   "metadata": {},
   "outputs": [],
   "source": [
    "import seaborn as sns\n",
    "import metapack as mp\n",
    "import pandas as pd\n",
    "import numpy as np\n",
    "import matplotlib.pyplot as plt\n",
    "from IPython.display import display \n",
    "from dtcv import get_image\n",
    "import cv2\n",
    "\n",
    "%matplotlib inline\n",
    "sns.set_context('notebook')\n",
    "mp.jupyter.init()\n"
   ]
  },
  {
   "cell_type": "code",
   "execution_count": 2,
   "metadata": {},
   "outputs": [
    {
     "data": {
      "text/html": [
       "<h1>San Diego Downtown Homless Computer Vision Package</h1>\n",
       "<p><code>sandiegodata.org-downtown_cv-5</code> Last Update: 2019-09-13T04:52:01</p>\n",
       "<p><em>Files and code for analyzing San Diego downtown homelessness  data with computer vision</em></p>\n",
       "<p>This dataset collects records related to a conversion of 5 years of paper maps\n",
       "that record positions of homeless sleepers in downtown San Diego. The San Diego\n",
       "Regional Data Library is <a href=\"http://downtown-homelessness.sandiegodata.org/\">converting these paper maps to a digital\n",
       "form</a> with a manual process that\n",
       "uses an image annotation tool, and theses annotations can be used to train\n",
       "computer vision algorithms to georeference maps and recognize handwritten marks.</p>\n",
       "<p>These datasets link to map urls and annotations, for three kinds of annotations:</p>\n",
       "<ul>\n",
       "<li>Ground Control Points, which identify the map image locations for known intersections, linking image coordinates ( in pixels ) to geographic coordinates.</li>\n",
       "<li>Image locations of handwritten marks and the number written in the mark.</li>\n",
       "<li>File annotations, for other handwritten notes such as the temperature and presence of rain. </li>\n",
       "</ul>\n",
       "<h2>More Information:</h2>\n",
       "<ul>\n",
       "<li><a href=\"https://www.sandiegodata.org/2019/09/computer-vision-for-greater-good/\">Blog Post</a>. For more discussion about the GCP and handwritten marks, and the tasks in volved\n",
       "in developing computer vision algorithms for these data, see our recent blog\n",
       "post on the subject.</li>\n",
       "<li><a href=\"https://nbviewer.jupyter.org/github/sandiegodata-projects/homelessness/blob/master/datasets/sandiegodata.org-downtown_cv/notebooks/Template%20Matching%20Clusters.ipynb\">Clustering Notebook</a>. For some examples of using OpenCV to extract and match templates, to georeference maps, see the Templates and Clustering Jupyter Notebook].</li>\n",
       "<li><a href=\"https://nbviewer.jupyter.org/github/sandiegodata-projects/homelessness/blob/master/datasets/sandiegodata.org-downtown_cv/notebooks/Extract%20Marks.ipynb\">Extract Marks Notebook</a>. For examples of extracting ( but not recognizing ) handwritten marks, see this notebook. </li>\n",
       "</ul>\n",
       "<h2>Developer notes</h2>\n",
       "<p>After anotation JSON files are copied into S#, the list of S# urls must be\n",
       "updated. To refresh the list of urls run</p>\n",
       "<pre><code>$  bin/update_s3.sh &lt;s3-profile&gt;\n",
       "</code></pre>\n",
       "<h2>Contacts</h2>\n",
       "<ul>\n",
       "<li><strong>Wrangler</strong> <a href=\"mailto:eric@civicknowledge.com\">Eric Busboom</a>, <a href=\"http://civicknowledge.com\">Civic Knowledge</a></li>\n",
       "</ul>\n",
       "<h2>Resources</h2>\n",
       "<ul>\n",
       "<li><strong> <a href=\"data/gcp.csv\">gcp</a></strong>. Ground control points</li>\n",
       "<li><strong> <a href=\"data/intersection_regions.csv\">intersection_regions</a></strong>. Polygon transformations for each the intersections of each map</li>\n",
       "<li><strong> <a href=\"data/intersections.csv\">intersections</a></strong>. List of intersections.</li>\n",
       "<li><strong> <a href=\"data/file_annotations.csv\">file_annotations</a></strong>. File annotations on count files</li>\n",
       "<li><strong> <a href=\"data/counts.csv\">counts</a></strong>. Annotation position, types and counts of handwritten marks</li>\n",
       "</ul>"
      ],
      "text/plain": [
       "# San Diego Downtown Homless Computer Vision Package\n",
       "`sandiegodata.org-downtown_cv-5` Last Update: 2019-09-13T04:52:01\n",
       "\n",
       "_Files and code for analyzing San Diego downtown homelessness  data with computer vision_\n",
       "\n",
       "\n",
       "This dataset collects records related to a conversion of 5 years of paper maps\n",
       "that record positions of homeless sleepers in downtown San Diego. The San Diego\n",
       "Regional Data Library is [converting these paper maps to a digital\n",
       "form](http://downtown-homelessness.sandiegodata.org/) with a manual process that\n",
       "uses an image annotation tool, and theses annotations can be used to train\n",
       "computer vision algorithms to georeference maps and recognize handwritten marks.\n",
       "\n",
       "These datasets link to map urls and annotations, for three kinds of annotations:\n",
       "\n",
       "* Ground Control Points, which identify the map image locations for known intersections, linking image coordinates ( in pixels ) to geographic coordinates.\n",
       "* Image locations of handwritten marks and the number written in the mark.\n",
       "* File annotations, for other handwritten notes such as the temperature and presence of rain. \n",
       "\n",
       "## More Information:\n",
       "\n",
       "* [Blog Post](https://www.sandiegodata.org/2019/09/computer-vision-for-greater-good/). For more discussion about the GCP and handwritten marks, and the tasks in volved\n",
       "in developing computer vision algorithms for these data, see our recent blog\n",
       "post on the subject.\n",
       "* [Clustering Notebook](https://nbviewer.jupyter.org/github/sandiegodata-projects/homelessness/blob/master/datasets/sandiegodata.org-downtown_cv/notebooks/Template%20Matching%20Clusters.ipynb). For some examples of using OpenCV to extract and match templates, to georeference maps, see the Templates and Clustering Jupyter Notebook].\n",
       "* [Extract Marks Notebook](https://nbviewer.jupyter.org/github/sandiegodata-projects/homelessness/blob/master/datasets/sandiegodata.org-downtown_cv/notebooks/Extract%20Marks.ipynb). For examples of extracting ( but not recognizing ) handwritten marks, see this notebook. \n",
       "\n",
       "\n",
       "## Developer notes\n",
       "\n",
       "After anotation JSON files are copied into S#, the list of S# urls must be\n",
       "updated. To refresh the list of urls run\n",
       "\n",
       "    $  bin/update_s3.sh <s3-profile>\n",
       "\n",
       "\n",
       " \n",
       "\n",
       "## Contacts\n",
       "\n",
       "* **Wrangler** [Eric Busboom](mailto:eric@civicknowledge.com), [Civic Knowledge](http://civicknowledge.com)\n",
       "\n",
       "## Resources\n",
       "\n",
       "* ** [gcp](data/gcp.csv)**. Ground control points\n",
       "* ** [intersection_regions](data/intersection_regions.csv)**. Polygon transformations for each the intersections of each map\n",
       "* ** [intersections](data/intersections.csv)**. List of intersections.\n",
       "* ** [file_annotations](data/file_annotations.csv)**. File annotations on count files\n",
       "* ** [counts](data/counts.csv)**. Annotation position, types and counts of handwritten marks\n"
      ]
     },
     "execution_count": 2,
     "metadata": {},
     "output_type": "execute_result"
    }
   ],
   "source": [
    "#pkg = mp.jupyter.open_package()\n",
    "#pkg = mp.jupyter.open_source_package()\n",
    "pkg = mp.open_package('http://library.metatab.org/sandiegodata.org-downtown_cv-5.zip')\n",
    "\n",
    "pkg"
   ]
  },
  {
   "cell_type": "code",
   "execution_count": 3,
   "metadata": {},
   "outputs": [
    {
     "data": {
      "text/html": [
       "<h3><a name=\"resource-counts\"></a>counts</h3><p><a target=\"_blank\" href=\"http://library.metatab.org/sandiegodata.org-downtown_cv-5.zip#data%2Fcounts.csv\">http://library.metatab.org/sandiegodata.org-downtown_cv-5.zip#data%2Fcounts.csv</a></p><table>\n",
       "<tr><th>Header</th><th>Type</th><th>Description</th></tr><tr><td>image_url</td><td>string</td><td>Map image URL</td></tr> \n",
       "<tr><td>cx</td><td>integer</td><td>X value of the center of the circle region, in pixels</td></tr> \n",
       "<tr><td>cy</td><td>integer</td><td>Y value of the center of the circle region in pixels</td></tr> \n",
       "<tr><td>r</td><td>integer</td><td>Radius of the circle region, in pixels</td></tr> \n",
       "<tr><td>type</td><td>string</td><td>Type of sleeper: Individual, Vehicle or Structure</td></tr> \n",
       "<tr><td>count</td><td>string</td><td>Count of sleepers</td></tr> </table>"
      ],
      "text/plain": [
       "<Resource: metadata.csv 32:1 root.datafile data/counts.csv ['counts', 'Annotation position, types and counts of handwritten marks', '']>"
      ]
     },
     "metadata": {},
     "output_type": "display_data"
    }
   ],
   "source": [
    "display(pkg.resource('counts'))\n",
    "counts = pkg.resource('counts').dataframe()"
   ]
  },
  {
   "cell_type": "code",
   "execution_count": 4,
   "metadata": {},
   "outputs": [],
   "source": [
    "# This may take a few minutes; it will download about 330 images and save them to the /tmp directory\n",
    "counts['image'] = counts.image_url.apply(get_image)\n",
    "\n",
    "counts['count'] = pd.to_numeric(counts['count'])"
   ]
  },
  {
   "cell_type": "code",
   "execution_count": 5,
   "metadata": {},
   "outputs": [
    {
     "data": {
      "text/plain": [
       "<matplotlib.image.AxesImage at 0x7fa993d04390>"
      ]
     },
     "execution_count": 5,
     "metadata": {},
     "output_type": "execute_result"
    },
    {
     "data": {
      "image/png": "[encoded data removed]",
      "text/plain": [
       "<Figure size 432x288 with 1 Axes>"
      ]
     },
     "metadata": {
      "needs_background": "light"
     },
     "output_type": "display_data"
    }
   ],
   "source": [
    "def crop(row):\n",
    "    \"\"\"Crop the handwritten mark, and hopefully the shape around it, from the image\"\"\"\n",
    "    x, y, r = row.cx, row.cy, row.r\n",
    "    \n",
    "    r = int(r*1.0)\n",
    "   \n",
    "    return row.image[y-r:y+r, x-r:x+r ]\n",
    "\n",
    "plt.imshow(crop(counts.iloc[60]))"
   ]
  },
  {
   "cell_type": "code",
   "execution_count": 6,
   "metadata": {},
   "outputs": [
    {
     "name": "stdout",
     "output_type": "stream",
     "text": [
      "4153\n"
     ]
    },
    {
     "data": {
      "text/plain": [
       "<matplotlib.image.AxesImage at 0x7faae933bf28>"
      ]
     },
     "execution_count": 6,
     "metadata": {},
     "output_type": "execute_result"
    },
    {
     "data": {
      "image/png": "[encoded data removed]",
      "text/plain": [
       "<Figure size 432x288 with 1 Axes>"
      ]
     },
     "metadata": {
      "needs_background": "light"
     },
     "output_type": "display_data"
    }
   ],
   "source": [
    "numbers = []\n",
    "\n",
    "def invert(img):\n",
    "    # Convert the img to grayscale \n",
    "    gray = cv2.cvtColor(img,cv2.COLOR_BGR2GRAY) \n",
    "    r = cv2.resize(gray, (100,100))\n",
    "    _, tr = cv2.threshold (r, 70, 255, cv2.THRESH_BINARY_INV);\n",
    "    return tr\n",
    "\n",
    "for  name, row in  counts.iterrows():\n",
    "    if row['count'] is not None and not np.isnan(row['count']) and row['count'] < 10 :\n",
    "        numbers.append((row['count'], invert(crop(row))))\n",
    "    \n",
    "print(len(numbers))\n",
    "plt.imshow(numbers[0][1])"
   ]
  },
  {
   "cell_type": "code",
   "execution_count": 7,
   "metadata": {},
   "outputs": [
    {
     "name": "stderr",
     "output_type": "stream",
     "text": [
      "Using TensorFlow backend.\n",
      "/Users/eric/anaconda3/envs/data36/lib/python3.6/site-packages/tensorflow/python/framework/dtypes.py:516: FutureWarning: Passing (type, 1) or '1type' as a synonym of type is deprecated; in a future version of numpy, it will be understood as (type, (1,)) / '(1,)type'.\n",
      "  _np_qint8 = np.dtype([(\"qint8\", np.int8, 1)])\n",
      "/Users/eric/anaconda3/envs/data36/lib/python3.6/site-packages/tensorflow/python/framework/dtypes.py:517: FutureWarning: Passing (type, 1) or '1type' as a synonym of type is deprecated; in a future version of numpy, it will be understood as (type, (1,)) / '(1,)type'.\n",
      "  _np_quint8 = np.dtype([(\"quint8\", np.uint8, 1)])\n",
      "/Users/eric/anaconda3/envs/data36/lib/python3.6/site-packages/tensorflow/python/framework/dtypes.py:518: FutureWarning: Passing (type, 1) or '1type' as a synonym of type is deprecated; in a future version of numpy, it will be understood as (type, (1,)) / '(1,)type'.\n",
      "  _np_qint16 = np.dtype([(\"qint16\", np.int16, 1)])\n",
      "/Users/eric/anaconda3/envs/data36/lib/python3.6/site-packages/tensorflow/python/framework/dtypes.py:519: FutureWarning: Passing (type, 1) or '1type' as a synonym of type is deprecated; in a future version of numpy, it will be understood as (type, (1,)) / '(1,)type'.\n",
      "  _np_quint16 = np.dtype([(\"quint16\", np.uint16, 1)])\n",
      "/Users/eric/anaconda3/envs/data36/lib/python3.6/site-packages/tensorflow/python/framework/dtypes.py:520: FutureWarning: Passing (type, 1) or '1type' as a synonym of type is deprecated; in a future version of numpy, it will be understood as (type, (1,)) / '(1,)type'.\n",
      "  _np_qint32 = np.dtype([(\"qint32\", np.int32, 1)])\n",
      "/Users/eric/anaconda3/envs/data36/lib/python3.6/site-packages/tensorflow/python/framework/dtypes.py:525: FutureWarning: Passing (type, 1) or '1type' as a synonym of type is deprecated; in a future version of numpy, it will be understood as (type, (1,)) / '(1,)type'.\n",
      "  np_resource = np.dtype([(\"resource\", np.ubyte, 1)])\n",
      "/Users/eric/anaconda3/envs/data36/lib/python3.6/site-packages/tensorboard/compat/tensorflow_stub/dtypes.py:541: FutureWarning: Passing (type, 1) or '1type' as a synonym of type is deprecated; in a future version of numpy, it will be understood as (type, (1,)) / '(1,)type'.\n",
      "  _np_qint8 = np.dtype([(\"qint8\", np.int8, 1)])\n",
      "/Users/eric/anaconda3/envs/data36/lib/python3.6/site-packages/tensorboard/compat/tensorflow_stub/dtypes.py:542: FutureWarning: Passing (type, 1) or '1type' as a synonym of type is deprecated; in a future version of numpy, it will be understood as (type, (1,)) / '(1,)type'.\n",
      "  _np_quint8 = np.dtype([(\"quint8\", np.uint8, 1)])\n",
      "/Users/eric/anaconda3/envs/data36/lib/python3.6/site-packages/tensorboard/compat/tensorflow_stub/dtypes.py:543: FutureWarning: Passing (type, 1) or '1type' as a synonym of type is deprecated; in a future version of numpy, it will be understood as (type, (1,)) / '(1,)type'.\n",
      "  _np_qint16 = np.dtype([(\"qint16\", np.int16, 1)])\n",
      "/Users/eric/anaconda3/envs/data36/lib/python3.6/site-packages/tensorboard/compat/tensorflow_stub/dtypes.py:544: FutureWarning: Passing (type, 1) or '1type' as a synonym of type is deprecated; in a future version of numpy, it will be understood as (type, (1,)) / '(1,)type'.\n",
      "  _np_quint16 = np.dtype([(\"quint16\", np.uint16, 1)])\n",
      "/Users/eric/anaconda3/envs/data36/lib/python3.6/site-packages/tensorboard/compat/tensorflow_stub/dtypes.py:545: FutureWarning: Passing (type, 1) or '1type' as a synonym of type is deprecated; in a future version of numpy, it will be understood as (type, (1,)) / '(1,)type'.\n",
      "  _np_qint32 = np.dtype([(\"qint32\", np.int32, 1)])\n",
      "/Users/eric/anaconda3/envs/data36/lib/python3.6/site-packages/tensorboard/compat/tensorflow_stub/dtypes.py:550: FutureWarning: Passing (type, 1) or '1type' as a synonym of type is deprecated; in a future version of numpy, it will be understood as (type, (1,)) / '(1,)type'.\n",
      "  np_resource = np.dtype([(\"resource\", np.ubyte, 1)])\n"
     ]
    }
   ],
   "source": [
    "'''Trains a simple convnet on the MNIST dataset.\n",
    "\n",
    "Gets to 99.25% test accuracy after 12 epochs\n",
    "(there is still a lot of margin for parameter tuning).\n",
    "16 seconds per epoch on a GRID K520 GPU.\n",
    "'''\n",
    "\n",
    "from __future__ import print_function\n",
    "import keras\n",
    "from keras.datasets import mnist\n",
    "from keras.models import Sequential\n",
    "from keras.layers import Dense, Dropout, Flatten\n",
    "from keras.layers import Conv2D, MaxPooling2D\n",
    "from keras import backend as K\n",
    "\n",
    "batch_size = 128\n",
    "\n",
    "epochs = 12\n",
    "\n",
    "\n",
    "# the data, split between train and test sets\n",
    "#(x_train, y_train), (x_test, y_test) = mnist.load_data()\n",
    "# input image dimensions\n",
    "#img_rows, img_cols = 28, 28\n",
    "\n",
    "\n",
    "X = np.array([e[1] for e in numbers])\n",
    "y = np.array([e[0] for e in numbers])\n",
    "\n",
    "num_classes = len(np.unique(y))+1\n",
    "\n",
    "l  = len(X)\n",
    "train_l = int(l*.9)\n",
    "x_train = X[:train_l]\n",
    "y_train = y[:train_l]\n",
    "\n",
    "x_test = X[train_l:]\n",
    "y_test = y[train_l:]\n",
    "\n",
    "img_rows, img_cols = x_train[0].shape\n"
   ]
  },
  {
   "cell_type": "code",
   "execution_count": 9,
   "metadata": {},
   "outputs": [
    {
     "name": "stdout",
     "output_type": "stream",
     "text": [
      "x_train shape: (3737, 100, 100, 1)\n",
      "3737 train samples\n",
      "416 test samples\n"
     ]
    }
   ],
   "source": [
    "if K.image_data_format() == 'channels_first':\n",
    "    x_train = x_train.reshape(x_train.shape[0], 1, img_rows, img_cols)\n",
    "    x_test = x_test.reshape(x_test.shape[0], 1, img_rows, img_cols)\n",
    "    input_shape = (1, img_rows, img_cols)\n",
    "else:\n",
    "    x_train = x_train.reshape(x_train.shape[0], img_rows, img_cols, 1)\n",
    "    x_test = x_test.reshape(x_test.shape[0], img_rows, img_cols, 1)\n",
    "    input_shape = (img_rows, img_cols, 1)\n",
    "\n",
    "x_train = x_train.astype('float32')\n",
    "x_test = x_test.astype('float32')\n",
    "x_train /= 255\n",
    "x_test /= 255\n",
    "print('x_train shape:', x_train.shape)\n",
    "print(x_train.shape[0], 'train samples')\n",
    "print(x_test.shape[0], 'test samples')"
   ]
  },
  {
   "cell_type": "code",
   "execution_count": null,
   "metadata": {},
   "outputs": [
    {
     "name": "stdout",
     "output_type": "stream",
     "text": [
      "WARNING:tensorflow:From /Users/eric/anaconda3/envs/data36/lib/python3.6/site-packages/keras/backend/tensorflow_backend.py:74: The name tf.get_default_graph is deprecated. Please use tf.compat.v1.get_default_graph instead.\n",
      "\n",
      "WARNING:tensorflow:From /Users/eric/anaconda3/envs/data36/lib/python3.6/site-packages/keras/backend/tensorflow_backend.py:517: The name tf.placeholder is deprecated. Please use tf.compat.v1.placeholder instead.\n",
      "\n",
      "WARNING:tensorflow:From /Users/eric/anaconda3/envs/data36/lib/python3.6/site-packages/keras/backend/tensorflow_backend.py:4138: The name tf.random_uniform is deprecated. Please use tf.random.uniform instead.\n",
      "\n",
      "WARNING:tensorflow:From /Users/eric/anaconda3/envs/data36/lib/python3.6/site-packages/keras/backend/tensorflow_backend.py:3976: The name tf.nn.max_pool is deprecated. Please use tf.nn.max_pool2d instead.\n",
      "\n",
      "WARNING:tensorflow:From /Users/eric/anaconda3/envs/data36/lib/python3.6/site-packages/keras/backend/tensorflow_backend.py:133: The name tf.placeholder_with_default is deprecated. Please use tf.compat.v1.placeholder_with_default instead.\n",
      "\n",
      "WARNING:tensorflow:From /Users/eric/anaconda3/envs/data36/lib/python3.6/site-packages/keras/backend/tensorflow_backend.py:3445: calling dropout (from tensorflow.python.ops.nn_ops) with keep_prob is deprecated and will be removed in a future version.\n",
      "Instructions for updating:\n",
      "Please use `rate` instead of `keep_prob`. Rate should be set to `rate = 1 - keep_prob`.\n",
      "WARNING:tensorflow:From /Users/eric/anaconda3/envs/data36/lib/python3.6/site-packages/keras/optimizers.py:790: The name tf.train.Optimizer is deprecated. Please use tf.compat.v1.train.Optimizer instead.\n",
      "\n",
      "WARNING:tensorflow:From /Users/eric/anaconda3/envs/data36/lib/python3.6/site-packages/keras/backend/tensorflow_backend.py:3295: The name tf.log is deprecated. Please use tf.math.log instead.\n",
      "\n",
      "WARNING:tensorflow:From /Users/eric/anaconda3/envs/data36/lib/python3.6/site-packages/tensorflow/python/ops/math_grad.py:1250: add_dispatch_support.<locals>.wrapper (from tensorflow.python.ops.array_ops) is deprecated and will be removed in a future version.\n",
      "Instructions for updating:\n",
      "Use tf.where in 2.0, which has the same broadcast rule as np.where\n",
      "Train on 3737 samples, validate on 416 samples\n",
      "Epoch 1/12\n"
     ]
    }
   ],
   "source": [
    "# convert class vectors to binary class matrices\n",
    "y_train = keras.utils.to_categorical(y_train, num_classes)\n",
    "y_test = keras.utils.to_categorical(y_test, num_classes)\n",
    "\n",
    "model = Sequential()\n",
    "model.add(Conv2D(32, kernel_size=(3, 3),activation='relu',input_shape=input_shape))\n",
    "model.add(Conv2D(64, (3, 3), activation='relu'))\n",
    "model.add(MaxPooling2D(pool_size=(2, 2)))\n",
    "model.add(Dropout(0.25))\n",
    "model.add(Flatten())\n",
    "model.add(Dense(128, activation='relu'))\n",
    "model.add(Dropout(0.5))\n",
    "model.add(Dense(num_classes, activation='softmax'))\n",
    "\n",
    "model.compile(loss=keras.losses.categorical_crossentropy,\n",
    "              optimizer=keras.optimizers.Adadelta(),\n",
    "              metrics=['accuracy'])\n",
    "\n",
    "model.fit(x_train, y_train,\n",
    "          batch_size=batch_size,\n",
    "          epochs=epochs,\n",
    "          verbose=1,\n",
    "          validation_data=(x_test, y_test))\n",
    "score = model.evaluate(x_test, y_test, verbose=0)\n",
    "print('Test loss:', score[0])\n",
    "print('Test accuracy:', score[1])"
   ]
  },
  {
   "cell_type": "code",
   "execution_count": null,
   "metadata": {},
   "outputs": [],
   "source": []
  }
 ],
 "metadata": {
  "kernelspec": {
   "display_name": "Python 3",
   "language": "python",
   "name": "python3"
  },
  "language_info": {
   "codemirror_mode": {
    "name": "ipython",
    "version": 3
   },
   "file_extension": ".py",
   "mimetype": "text/x-python",
   "name": "python",
   "nbconvert_exporter": "python",
   "pygments_lexer": "ipython3",
   "version": "3.6.6"
  }
 },
 "nbformat": 4,
 "nbformat_minor": 4
}
