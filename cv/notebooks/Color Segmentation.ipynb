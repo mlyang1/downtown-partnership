{
 "cells": [
  {
   "cell_type": "code",
   "execution_count": 1,
   "metadata": {},
   "outputs": [
    {
     "ename": "ModuleNotFoundError",
     "evalue": "No module named 'pytesseract'",
     "output_type": "error",
     "traceback": [
      "\u001b[0;31m---------------------------------------------------------------------------\u001b[0m",
      "\u001b[0;31mModuleNotFoundError\u001b[0m                       Traceback (most recent call last)",
      "Input \u001b[0;32mIn [1]\u001b[0m, in \u001b[0;36m<cell line: 4>\u001b[0;34m()\u001b[0m\n\u001b[1;32m      2\u001b[0m \u001b[38;5;28;01mfrom\u001b[39;00m \u001b[38;5;21;01mPIL\u001b[39;00m \u001b[38;5;28;01mimport\u001b[39;00m Image\n\u001b[1;32m      3\u001b[0m \u001b[38;5;28;01mimport\u001b[39;00m \u001b[38;5;21;01msys\u001b[39;00m\n\u001b[0;32m----> 4\u001b[0m \u001b[38;5;28;01mimport\u001b[39;00m \u001b[38;5;21;01mpytesseract\u001b[39;00m\n\u001b[1;32m      5\u001b[0m \u001b[38;5;28;01mfrom\u001b[39;00m \u001b[38;5;21;01mpathlib\u001b[39;00m \u001b[38;5;28;01mimport\u001b[39;00m Path\n\u001b[1;32m      6\u001b[0m \u001b[38;5;28;01mimport\u001b[39;00m \u001b[38;5;21;01mcv2\u001b[39;00m\n",
      "\u001b[0;31mModuleNotFoundError\u001b[0m: No module named 'pytesseract'"
     ]
    }
   ],
   "source": [
    "from IPython.display import Image as ImageDisp\n",
    "from PIL import Image\n",
    "import sys\n",
    "import pytesseract\n",
    "from pathlib import Path\n",
    "import cv2\n",
    "import numpy as np\n",
    "from pytesseract import TesseractError\n",
    "from matplotlib import pyplot as plt\n",
    "import pandas as pd\n",
    "\n"
   ]
  },
  {
   "cell_type": "code",
   "execution_count": null,
   "metadata": {},
   "outputs": [],
   "source": [
    "def imshow(img, size=8):\n",
    "    plt.figure(figsize = (size, size))\n",
    "    plt.imshow(cv2.cvtColor(img, cv2.COLOR_BGR2RGB), interpolation='nearest', aspect='auto')"
   ]
  },
  {
   "cell_type": "code",
   "execution_count": null,
   "metadata": {},
   "outputs": [],
   "source": [
    "img = cv2.imread('/Users/eric/Desktop/processed_images/gaslamp/201402.png')"
   ]
  },
  {
   "cell_type": "code",
   "execution_count": null,
   "metadata": {},
   "outputs": [],
   "source": [
    "import matplotlib.pyplot as plt\n",
    "import matplotlib as mpl \n",
    "\n",
    "def cluster_colors(img, n_clusters=12):\n",
    "    from sklearn.cluster import KMeans\n",
    "\n",
    "    pixels = img.reshape((img.shape[0] * img.shape[1], 3))\n",
    "\n",
    "    clt = KMeans(n_clusters = n_clusters)\n",
    "    clt.fit(pixels)\n",
    "    \n",
    "    return clt\n",
    "\n",
    "clt = cluster_colors(img)   "
   ]
  },
  {
   "cell_type": "code",
   "execution_count": null,
   "metadata": {},
   "outputs": [],
   "source": [
    "centers = clt.cluster_centers_.astype('uint8')\n",
    "centers_img = np.round(centers.reshape((1,12,3)))\n",
    "\n",
    "imshow(centers_img, size=3)\n"
   ]
  },
  {
   "cell_type": "code",
   "execution_count": null,
   "metadata": {},
   "outputs": [],
   "source": [
    "cv2.cvtColor(centers_img, cv2.COLOR_BGR2HSV).reshape((centers_img.shape[0] * centers_img.shape[1], 3))[11]"
   ]
  },
  {
   "cell_type": "code",
   "execution_count": null,
   "metadata": {},
   "outputs": [],
   "source": [
    "centers[11]"
   ]
  },
  {
   "cell_type": "code",
   "execution_count": null,
   "metadata": {},
   "outputs": [],
   "source": [
    "color = centers[8].astype('uint16')\n",
    "\n",
    "max_red, min_red = (color+65), (color-65)\n",
    "\n",
    "mask = cv2.inRange(img,min_red,max_red)\n",
    "\n",
    "#result = cv2.bitwise_not(cv2.bitwise_and(img, img, mask=mask))\n",
    "result =cv2.bitwise_and(img, img, mask=mask)\n",
    " \n",
    "#result = cv2.cvtColor(cv2.cvtColor(result, cv2.COLOR_BGR2GRAY), cv2.COLOR_GRAY2BGR)\n",
    "    \n",
    "print(mask.sum(), min_red, max_red) #imshow(result)\n",
    "\n",
    "#cv2.imwrite( \"result.png\", result );\n",
    "\n",
    "img_new = Image.fromarray(result)\n",
    "img_new.save(\"result.png\", dpi=(72, 72))\n",
    "imshow(result)\n"
   ]
  },
  {
   "cell_type": "code",
   "execution_count": null,
   "metadata": {},
   "outputs": [],
   "source": [
    "from pytesseract import Output\n",
    "\n",
    "pytesseract.image_to_data('result.png',\n",
    "                          config='--psm 11 --oem 3 -c tessedit_char_whitelist=0123456789X', \n",
    "                          output_type=Output.DICT)\n"
   ]
  },
  {
   "cell_type": "code",
   "execution_count": null,
   "metadata": {},
   "outputs": [],
   "source": [
    "#### extract all contours\n",
    "gray = cv2.cvtColor(result, cv2.COLOR_BGR2GRAY)\n",
    "_, contours, _  = cv2.findContours(gray, cv2.RETR_TREE, cv2.CHAIN_APPROX_SIMPLE)\n",
    "contours[0].shape"
   ]
  },
  {
   "cell_type": "code",
   "execution_count": null,
   "metadata": {},
   "outputs": [],
   "source": [
    "pd.Series(imgray).hist()"
   ]
  },
  {
   "cell_type": "code",
   "execution_count": null,
   "metadata": {},
   "outputs": [],
   "source": [
    "imgray = cv2.cvtColor(result, cv2.COLOR_BGR2GRAY)\n",
    "ret, thresh = cv2.threshold(imgray, 10, 255, cv2.THRESH_BINARY)\n",
    "\n",
    "plt.figure(figsize = (8,8))\n",
    "plt.imshow(thresh, interpolation='nearest', aspect='auto', cmap='gray')\n",
    "Image.fromarray(thresh).save(\"grey.png\", dpi=(72, 72))\n"
   ]
  },
  {
   "cell_type": "code",
   "execution_count": null,
   "metadata": {},
   "outputs": [],
   "source": []
  },
  {
   "cell_type": "code",
   "execution_count": null,
   "metadata": {},
   "outputs": [],
   "source": [
    "im2, contours, hierarchy = cv2.findContours(thresh, cv2.RETR_TREE, cv2.CHAIN_APPROX_SIMPLE)\n",
    "\n",
    "i = thresh.copy()\n",
    "\n",
    "#cont = cv2.drawContours(result.copy(), contours[0:100], -1, (0,255,0), 3)\n",
    "\n",
    "print(len(contours))\n",
    "\n",
    "for c in contours:\n",
    "    # get the bounding rect\n",
    "    x, y, w, h = cv2.boundingRect(c)\n",
    "    # draw a white rectangle to visualize the bounding rect\n",
    "    cv2.rectangle(i, (x, y), (x + w, y + h), 255, 1)\n",
    "    \n",
    "plt.figure(figsize = (15, 15))\n",
    "plt.imshow(i, interpolation='nearest', aspect='auto', cmap='gray')\n",
    "Image.fromarray(i).save(\"bounds.png\", dpi=(72, 72))\n"
   ]
  },
  {
   "cell_type": "code",
   "execution_count": null,
   "metadata": {},
   "outputs": [],
   "source": [
    "len(contours)"
   ]
  },
  {
   "cell_type": "code",
   "execution_count": null,
   "metadata": {},
   "outputs": [],
   "source": []
  }
 ],
 "metadata": {
  "kernelspec": {
   "display_name": "Python 3 (ipykernel)",
   "language": "python",
   "name": "python3"
  },
  "language_info": {
   "codemirror_mode": {
    "name": "ipython",
    "version": 3
   },
   "file_extension": ".py",
   "mimetype": "text/x-python",
   "name": "python",
   "nbconvert_exporter": "python",
   "pygments_lexer": "ipython3",
   "version": "3.9.12"
  }
 },
 "nbformat": 4,
 "nbformat_minor": 4
}
