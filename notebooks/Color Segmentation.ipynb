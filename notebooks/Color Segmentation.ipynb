{
 "cells": [
  {
   "cell_type": "code",
   "execution_count": 71,
   "metadata": {},
   "outputs": [
    {
     "ename": "ModuleNotFoundError",
     "evalue": "No module named 'pandas'",
     "output_type": "error",
     "traceback": [
      "\u001b[0;31m---------------------------------------------------------------------------\u001b[0m",
      "\u001b[0;31mModuleNotFoundError\u001b[0m                       Traceback (most recent call last)",
      "\u001b[0;32m<ipython-input-71-1fefa0750a50>\u001b[0m in \u001b[0;36m<module>\u001b[0;34m\u001b[0m\n\u001b[1;32m      8\u001b[0m \u001b[0;32mfrom\u001b[0m \u001b[0mpytesseract\u001b[0m \u001b[0;32mimport\u001b[0m \u001b[0mTesseractError\u001b[0m\u001b[0;34m\u001b[0m\u001b[0;34m\u001b[0m\u001b[0m\n\u001b[1;32m      9\u001b[0m \u001b[0;32mfrom\u001b[0m \u001b[0mmatplotlib\u001b[0m \u001b[0;32mimport\u001b[0m \u001b[0mpyplot\u001b[0m \u001b[0;32mas\u001b[0m \u001b[0mplt\u001b[0m\u001b[0;34m\u001b[0m\u001b[0;34m\u001b[0m\u001b[0m\n\u001b[0;32m---> 10\u001b[0;31m \u001b[0;32mimport\u001b[0m \u001b[0mpandas\u001b[0m \u001b[0;32mas\u001b[0m \u001b[0mpd\u001b[0m\u001b[0;34m\u001b[0m\u001b[0;34m\u001b[0m\u001b[0m\n\u001b[0m\u001b[1;32m     11\u001b[0m \u001b[0;34m\u001b[0m\u001b[0m\n",
      "\u001b[0;31mModuleNotFoundError\u001b[0m: No module named 'pandas'"
     ]
    }
   ],
   "source": [
    "from IPython.display import Image as ImageDisp\n",
    "from PIL import Image\n",
    "import sys\n",
    "import pytesseract\n",
    "from pathlib import Path\n",
    "import cv2\n",
    "import numpy as np\n",
    "from pytesseract import TesseractError\n",
    "from matplotlib import pyplot as plt\n",
    "import pandas as pd\n",
    "\n"
   ]
  },
  {
   "cell_type": "code",
   "execution_count": 2,
   "metadata": {},
   "outputs": [],
   "source": [
    "def imshow(img, size=8):\n",
    "    plt.figure(figsize = (size, size))\n",
    "    plt.imshow(cv2.cvtColor(img, cv2.COLOR_BGR2RGB), interpolation='nearest', aspect='auto')"
   ]
  },
  {
   "cell_type": "code",
   "execution_count": 3,
   "metadata": {},
   "outputs": [],
   "source": [
    "img = cv2.imread('/Users/eric/Desktop/processed_images/gaslamp/201402.png')"
   ]
  },
  {
   "cell_type": "code",
   "execution_count": 4,
   "metadata": {},
   "outputs": [],
   "source": [
    "import matplotlib.pyplot as plt\n",
    "import matplotlib as mpl \n",
    "\n",
    "def cluster_colors(img, n_clusters=12):\n",
    "    from sklearn.cluster import KMeans\n",
    "\n",
    "    pixels = img.reshape((img.shape[0] * img.shape[1], 3))\n",
    "\n",
    "    clt = KMeans(n_clusters = n_clusters)\n",
    "    clt.fit(pixels)\n",
    "    \n",
    "    return clt\n",
    "\n",
    "clt = cluster_colors(img)   "
   ]
  },
  {
   "cell_type": "code",
   "execution_count": 5,
   "metadata": {},
   "outputs": [
    {
     "data": {
      "image/png": "[encoded data removed]",
      "text/plain": [
       "<Figure size 216x216 with 1 Axes>"
      ]
     },
     "metadata": {
      "needs_background": "light"
     },
     "output_type": "display_data"
    }
   ],
   "source": [
    "centers = clt.cluster_centers_.astype('uint8')\n",
    "centers_img = np.round(centers.reshape((1,12,3)))\n",
    "\n",
    "imshow(centers_img, size=3)\n"
   ]
  },
  {
   "cell_type": "code",
   "execution_count": 6,
   "metadata": {},
   "outputs": [
    {
     "data": {
      "text/plain": [
       "array([150,   2, 240], dtype=uint8)"
      ]
     },
     "execution_count": 6,
     "metadata": {},
     "output_type": "execute_result"
    }
   ],
   "source": [
    "cv2.cvtColor(centers_img, cv2.COLOR_BGR2HSV).reshape((centers_img.shape[0] * centers_img.shape[1], 3))[11]"
   ]
  },
  {
   "cell_type": "code",
   "execution_count": 7,
   "metadata": {},
   "outputs": [
    {
     "data": {
      "text/plain": [
       "array([240, 238, 240], dtype=uint8)"
      ]
     },
     "execution_count": 7,
     "metadata": {},
     "output_type": "execute_result"
    }
   ],
   "source": [
    "centers[11]"
   ]
  },
  {
   "cell_type": "code",
   "execution_count": 51,
   "metadata": {},
   "outputs": [
    {
     "name": "stdout",
     "output_type": "stream",
     "text": [
      "749955 [ 20  21 180] [150 151 310]\n"
     ]
    },
    {
     "data": {
      "image/png": "[encoded data removed]",
      "text/plain": [
       "<Figure size 576x576 with 1 Axes>"
      ]
     },
     "metadata": {
      "needs_background": "light"
     },
     "output_type": "display_data"
    }
   ],
   "source": [
    "color = centers[8].astype('uint16')\n",
    "\n",
    "max_red, min_red = (color+65), (color-65)\n",
    "\n",
    "mask = cv2.inRange(img,min_red,max_red)\n",
    "\n",
    "#result = cv2.bitwise_not(cv2.bitwise_and(img, img, mask=mask))\n",
    "result =cv2.bitwise_and(img, img, mask=mask)\n",
    " \n",
    "#result = cv2.cvtColor(cv2.cvtColor(result, cv2.COLOR_BGR2GRAY), cv2.COLOR_GRAY2BGR)\n",
    "    \n",
    "print(mask.sum(), min_red, max_red) #imshow(result)\n",
    "\n",
    "#cv2.imwrite( \"result.png\", result );\n",
    "\n",
    "img_new = Image.fromarray(result)\n",
    "img_new.save(\"result.png\", dpi=(72, 72))\n",
    "imshow(result)\n"
   ]
  },
  {
   "cell_type": "code",
   "execution_count": 9,
   "metadata": {},
   "outputs": [
    {
     "data": {
      "text/plain": [
       "{'level': [1, 2, 3, 4, 5, 2, 3, 4, 5, 5, 2, 3, 4, 5, 2, 3, 4, 5],\n",
       " 'page_num': [1, 1, 1, 1, 1, 1, 1, 1, 1, 1, 1, 1, 1, 1, 1, 1, 1, 1],\n",
       " 'block_num': [0, 1, 1, 1, 1, 2, 2, 2, 2, 2, 3, 3, 3, 3, 4, 4, 4, 4],\n",
       " 'par_num': [0, 0, 1, 1, 1, 0, 1, 1, 1, 1, 0, 1, 1, 1, 0, 1, 1, 1],\n",
       " 'line_num': [0, 0, 0, 1, 1, 0, 0, 1, 1, 1, 0, 0, 1, 1, 0, 0, 1, 1],\n",
       " 'word_num': [0, 0, 0, 0, 1, 0, 0, 0, 1, 2, 0, 0, 0, 1, 0, 0, 0, 1],\n",
       " 'left': [0,\n",
       "  206,\n",
       "  206,\n",
       "  206,\n",
       "  206,\n",
       "  218,\n",
       "  218,\n",
       "  218,\n",
       "  218,\n",
       "  272,\n",
       "  264,\n",
       "  264,\n",
       "  264,\n",
       "  264,\n",
       "  264,\n",
       "  264,\n",
       "  264,\n",
       "  264],\n",
       " 'top': [0,\n",
       "  810,\n",
       "  810,\n",
       "  810,\n",
       "  810,\n",
       "  841,\n",
       "  841,\n",
       "  841,\n",
       "  841,\n",
       "  841,\n",
       "  900,\n",
       "  900,\n",
       "  900,\n",
       "  900,\n",
       "  960,\n",
       "  960,\n",
       "  960,\n",
       "  960],\n",
       " 'width': [1224,\n",
       "  129,\n",
       "  129,\n",
       "  129,\n",
       "  129,\n",
       "  105,\n",
       "  105,\n",
       "  105,\n",
       "  52,\n",
       "  51,\n",
       "  13,\n",
       "  13,\n",
       "  13,\n",
       "  13,\n",
       "  13,\n",
       "  13,\n",
       "  13,\n",
       "  13],\n",
       " 'height': [1584,\n",
       "  23,\n",
       "  23,\n",
       "  23,\n",
       "  23,\n",
       "  17,\n",
       "  17,\n",
       "  17,\n",
       "  17,\n",
       "  17,\n",
       "  17,\n",
       "  17,\n",
       "  17,\n",
       "  17,\n",
       "  17,\n",
       "  17,\n",
       "  17,\n",
       "  17],\n",
       " 'conf': ['-1',\n",
       "  '-1',\n",
       "  '-1',\n",
       "  '-1',\n",
       "  91,\n",
       "  '-1',\n",
       "  '-1',\n",
       "  '-1',\n",
       "  12,\n",
       "  0,\n",
       "  '-1',\n",
       "  '-1',\n",
       "  '-1',\n",
       "  58,\n",
       "  '-1',\n",
       "  '-1',\n",
       "  '-1',\n",
       "  58],\n",
       " 'text': ['',\n",
       "  '',\n",
       "  '',\n",
       "  '',\n",
       "  'gaslamp',\n",
       "  '',\n",
       "  '',\n",
       "  '',\n",
       "  'PARE',\n",
       "  'eyeaeto)',\n",
       "  '',\n",
       "  '',\n",
       "  '',\n",
       "  'xX',\n",
       "  '',\n",
       "  '',\n",
       "  '',\n",
       "  'xX']}"
      ]
     },
     "execution_count": 9,
     "metadata": {},
     "output_type": "execute_result"
    }
   ],
   "source": [
    "from pytesseract import Output\n",
    "\n",
    "pytesseract.image_to_data('result.png',\n",
    "                          config='--psm 11 --oem 3 -c tessedit_char_whitelist=0123456789X', \n",
    "                          output_type=Output.DICT)\n"
   ]
  },
  {
   "cell_type": "code",
   "execution_count": 10,
   "metadata": {},
   "outputs": [
    {
     "data": {
      "text/plain": [
       "(46, 1, 2)"
      ]
     },
     "execution_count": 10,
     "metadata": {},
     "output_type": "execute_result"
    }
   ],
   "source": [
    "#### extract all contours\n",
    "gray = cv2.cvtColor(result, cv2.COLOR_BGR2GRAY)\n",
    "_, contours, _  = cv2.findContours(gray, cv2.RETR_TREE, cv2.CHAIN_APPROX_SIMPLE)\n",
    "contours[0].shape"
   ]
  },
  {
   "cell_type": "code",
   "execution_count": 70,
   "metadata": {},
   "outputs": [
    {
     "ename": "NameError",
     "evalue": "name 'pd' is not defined",
     "output_type": "error",
     "traceback": [
      "\u001b[0;31m---------------------------------------------------------------------------\u001b[0m",
      "\u001b[0;31mNameError\u001b[0m                                 Traceback (most recent call last)",
      "\u001b[0;32m<ipython-input-70-4b8e20c055a8>\u001b[0m in \u001b[0;36m<module>\u001b[0;34m\u001b[0m\n\u001b[0;32m----> 1\u001b[0;31m \u001b[0mpd\u001b[0m\u001b[0;34m.\u001b[0m\u001b[0mSeries\u001b[0m\u001b[0;34m(\u001b[0m\u001b[0mimgray\u001b[0m\u001b[0;34m)\u001b[0m\u001b[0;34m.\u001b[0m\u001b[0mhist\u001b[0m\u001b[0;34m(\u001b[0m\u001b[0;34m)\u001b[0m\u001b[0;34m\u001b[0m\u001b[0;34m\u001b[0m\u001b[0m\n\u001b[0m",
      "\u001b[0;31mNameError\u001b[0m: name 'pd' is not defined"
     ]
    }
   ],
   "source": [
    "pd.Series(imgray).hist()"
   ]
  },
  {
   "cell_type": "code",
   "execution_count": 90,
   "metadata": {},
   "outputs": [
    {
     "data": {
      "image/png": "[encoded data removed]",
      "text/plain": [
       "<Figure size 576x576 with 1 Axes>"
      ]
     },
     "metadata": {
      "needs_background": "light"
     },
     "output_type": "display_data"
    }
   ],
   "source": [
    "imgray = cv2.cvtColor(result, cv2.COLOR_BGR2GRAY)\n",
    "ret, thresh = cv2.threshold(imgray, 10, 255, cv2.THRESH_BINARY)\n",
    "\n",
    "plt.figure(figsize = (8,8))\n",
    "plt.imshow(thresh, interpolation='nearest', aspect='auto', cmap='gray')\n",
    "Image.fromarray(thresh).save(\"grey.png\", dpi=(72, 72))\n"
   ]
  },
  {
   "cell_type": "code",
   "execution_count": null,
   "metadata": {},
   "outputs": [],
   "source": []
  },
  {
   "cell_type": "code",
   "execution_count": 92,
   "metadata": {},
   "outputs": [
    {
     "name": "stdout",
     "output_type": "stream",
     "text": [
      "50\n"
     ]
    },
    {
     "data": {
      "image/png": "[encoded data removed]",
      "text/plain": [
       "<Figure size 1080x1080 with 1 Axes>"
      ]
     },
     "metadata": {
      "needs_background": "light"
     },
     "output_type": "display_data"
    }
   ],
   "source": [
    "im2, contours, hierarchy = cv2.findContours(thresh, cv2.RETR_TREE, cv2.CHAIN_APPROX_SIMPLE)\n",
    "\n",
    "i = thresh.copy()\n",
    "\n",
    "#cont = cv2.drawContours(result.copy(), contours[0:100], -1, (0,255,0), 3)\n",
    "\n",
    "print(len(contours))\n",
    "\n",
    "for c in contours:\n",
    "    # get the bounding rect\n",
    "    x, y, w, h = cv2.boundingRect(c)\n",
    "    # draw a white rectangle to visualize the bounding rect\n",
    "    cv2.rectangle(i, (x, y), (x + w, y + h), 255, 1)\n",
    "    \n",
    "plt.figure(figsize = (15, 15))\n",
    "plt.imshow(i, interpolation='nearest', aspect='auto', cmap='gray')\n",
    "Image.fromarray(i).save(\"bounds.png\", dpi=(72, 72))\n"
   ]
  },
  {
   "cell_type": "code",
   "execution_count": 39,
   "metadata": {},
   "outputs": [
    {
     "data": {
      "text/plain": [
       "242"
      ]
     },
     "execution_count": 39,
     "metadata": {},
     "output_type": "execute_result"
    }
   ],
   "source": [
    "len(contours)"
   ]
  },
  {
   "cell_type": "code",
   "execution_count": null,
   "metadata": {},
   "outputs": [],
   "source": []
  }
 ],
 "metadata": {
  "kernelspec": {
   "display_name": "Python 3",
   "language": "python",
   "name": "python3"
  },
  "language_info": {
   "codemirror_mode": {
    "name": "ipython",
    "version": 3
   },
   "file_extension": ".py",
   "mimetype": "text/x-python",
   "name": "python",
   "nbconvert_exporter": "python",
   "pygments_lexer": "ipython3",
   "version": "3.6.8"
  }
 },
 "nbformat": 4,
 "nbformat_minor": 2
}
