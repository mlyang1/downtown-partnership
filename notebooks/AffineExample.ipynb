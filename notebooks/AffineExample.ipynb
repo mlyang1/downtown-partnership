{
 "cells": [
  {
   "cell_type": "code",
   "execution_count": null,
   "metadata": {},
   "outputs": [],
   "source": [
    "import matplotlib.pyplot as plt\n",
    "import numpy as np\n",
    "import string\n",
    "\n",
    "fig = plt.figure()\n",
    "ax = plt.gca()\n",
    "color_lut = 'rgbc'\n",
    "xs, ys, xs_s, ys_s = [], [], [], []\n",
    "\n",
    "# Pad and unpack the transformation matrix to be 3x1 or 3x3,\n",
    "# necessary for it to handle both rotation and translation\n",
    "pad = lambda x: np.hstack([x, np.ones((x.shape[0], 1))])\n",
    "unpad = lambda x: x[:, :-1]\n",
    "\n",
    "# matrix with row vectors of points\n",
    "A = np.array([(0, 1), \n",
    "              (1, 0), \n",
    "              (0, -1), \n",
    "              (-1, 0)])\n",
    "\n",
    "# create the scaling transformation matrix\n",
    "# Don't know why it has to be transposed\n",
    "T = np.array([[2, 0, 2], \n",
    "              [0, 2, 2], \n",
    "              [0, 0, 1]]).T\n",
    "\n",
    "O = pad(A) @ T \n",
    "O = np.dot(pad(A), T)\n",
    "#O = np.matmul(pad(A), T)\n",
    "\n",
    "print(pad(A))\n",
    "print(O)\n",
    "\n",
    "O = unpad(O)\n",
    "\n",
    "for i, (row, output_row) in enumerate(zip(A, O)):\n",
    "\n",
    "    x, y  = row\n",
    "    plt.scatter(x, y, color=color_lut[i])\n",
    "    plt.text(x + 0.15, y, f\"{string.ascii_letters[int(i)]}\")\n",
    "    \n",
    "    x_s, y_s = output_row\n",
    "    xs_s.append(x_s)\n",
    "    ys_s.append(y_s)\n",
    "    plt.scatter(x_s, y_s, color=color_lut[i])\n",
    "    plt.text(x_s + 0.15, y_s, f\"{string.ascii_letters[int(i)]}'\")\n",
    "    \n",
    "\n",
    "xs_s.append(xs_s[0])\n",
    "ys_s.append(ys_s[0])\n",
    "plt.plot(xs, ys, color=\"gray\", linestyle='dotted')\n",
    "plt.plot(xs_s, ys_s, color=\"gray\", linestyle='dotted')\n",
    "ax.set_xticks(np.arange(-5, 3, 5))\n",
    "ax.set_yticks(np.arange(-5, 3, 5))\n",
    "plt.grid()\n",
    "plt.show()"
   ]
  }
 ],
 "metadata": {
  "kernelspec": {
   "display_name": "Python 3",
   "language": "python",
   "name": "python3"
  },
  "language_info": {
   "codemirror_mode": {
    "name": "ipython",
    "version": 3
   },
   "file_extension": ".py",
   "mimetype": "text/x-python",
   "name": "python",
   "nbconvert_exporter": "python",
   "pygments_lexer": "ipython3",
   "version": "3.7.3"
  }
 },
 "nbformat": 4,
 "nbformat_minor": 2
}
