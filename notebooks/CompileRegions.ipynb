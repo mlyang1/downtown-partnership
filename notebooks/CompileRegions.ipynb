{
 "cells": [
  {
   "cell_type": "code",
   "execution_count": 112,
   "metadata": {},
   "outputs": [
    {
     "data": {
      "text/plain": [
       "14    POLYGON ((1637 829, 545 840, 548 963, 1636 132...\n",
       "15    POLYGON ((522 872, 524 991, 1613 1362.5, 1616 ...\n",
       "16    POLYGON ((541.5 831, 540 956, 1630 1326, 1626 ...\n",
       "17    POLYGON ((1587.5 562, 427.5 579.5, 430.5 755, ...\n",
       "18    POLYGON ((455 526, 459 714, 1618.5 1289, 1610 ...\n",
       "19    POLYGON ((1626.5 503, 470.5 505, 474.5 695, 16...\n",
       "20    POLYGON ((1620.5 510, 460.5 511, 461 700, 1617...\n",
       "21    POLYGON ((1610 529, 452.5 531, 455 719, 1611 1...\n",
       "22    POLYGON ((459 519, 460 707, 1618.5 1286, 1618 ...\n",
       "23    POLYGON ((468 509, 467 692, 1629 1272, 1622.5 ...\n",
       "24    POLYGON ((1613 515, 457 518, 460.5 700, 1622.5...\n",
       "25    POLYGON ((424 545, 427 730, 1581 1313, 1581 55...\n",
       "26    POLYGON ((1637.5 547.5, 484.5 550.5, 486.5 742...\n",
       "27    POLYGON ((1564.5 519.5, 405.5 529.5, 413.5 711...\n",
       "28    POLYGON ((1603.5 560.5, 446.5 571.5, 449.5 757...\n",
       "29    POLYGON ((1576.5 539.5, 466.5 542.5, 467.5 728...\n",
       "30    POLYGON ((320.5 366, 318.5 499, 1126.5 904.5, ...\n",
       "31    POLYGON ((1146 352.5, 338.5 361.5, 338.5 490.5...\n",
       "Name: source, dtype: object"
      ]
     },
     "execution_count": 112,
     "metadata": {},
     "output_type": "execute_result"
    }
   ],
   "source": [
    "import seaborn as sns\n",
    "import pandas as pd\n",
    "import geopandas as gpd\n",
    "import descartes\n",
    "import numpy as np\n",
    "import matplotlib.pyplot as plt\n",
    "from IPython.display import display \n",
    "from shapely import wkt\n",
    "from shapely.geometry import Polygon, LineString, Point\n",
    "\n",
    "\n",
    "\n",
    "from pathlib import Path\n",
    "import json\n",
    "from operator import itemgetter\n",
    "import pandas as pd\n",
    "import geopandas as gpd\n",
    "from shapely import wkt\n",
    "from shapely.geometry import Polygon, LineString, Point\n",
    "from shapely.ops import nearest_points\n",
    "\n",
    "\n",
    "\n",
    "p = Path('/Users/eric/Google Sync/sandiegodata.org/Projects/Downtown Partnership Homeless/Uploads')\n",
    "\n",
    "cols = 'x y width height'.split()\n",
    "\n",
    "region_ig = itemgetter(*cols)\n",
    "\n",
    "rows = []\n",
    "for fn in p.glob('*.json'):\n",
    "    with fn.open() as f:\n",
    "        d = json.load(f)['_via_img_metadata']\n",
    "\n",
    "        for k,v in d.items():\n",
    "            if k == 'example':\n",
    "                continue\n",
    "\n",
    "            image_url = v['filename']\n",
    "\n",
    "            for region in v['regions']:\n",
    "                row = [fn,image_url] + list(region_ig(region['shape_attributes'])) + [region['region_attributes']['Intersection']]\n",
    "                rows.append(row)\n",
    "\n",
    "df = pd.DataFrame(rows, columns=['source','image']+cols+['intersection'])\n",
    "\n",
    "intr = pd.read_csv('/Users/eric/proj/data-projects/downtown-partnership/annotations/generate_tasks/gcp_intersections_2230.csv')\n",
    "intr_gpd = gpd.GeoDataFrame(intr, geometry=intr.WKT.apply(wkt.loads)).drop(columns='WKT')\n",
    "\n",
    "df = gpd.GeoDataFrame(df.merge(intr_gpd, on='intersection').sort_values(['image', 'neighborhood', 'intersection']))\n",
    "\n",
    "df['image_x'] = df.x+(df.width/2)\n",
    "df['image_y'] = df.y+(df.height/2)\n",
    "\n",
    "df['geo_x'] = df.geometry.x\n",
    "df['geo_y'] = df.geometry.y\n",
    "\n",
    "df.to_csv('intersections.csv')\n",
    "\n",
    "t = df.groupby(['image', 'neighborhood'])\n",
    "\n",
    "rows = []\n",
    "\n",
    "\n",
    "def reorder_points(v):\n",
    "    \"\"\"Reorder points to ensure the shape is valid\"\"\"\n",
    "    \n",
    "    return Polygon(list(v.convex_hull.exterior.coords)[:-1])\n",
    "    \n",
    "  \n",
    "for name,g in t:\n",
    "\n",
    "    g = g.sort_values(['image_y', 'image_x'])\n",
    "\n",
    "    image_p = Polygon([ [r.image_x, r.image_y] for idx, r in g.iterrows()])\n",
    "\n",
    "    geo_p = Polygon([[r.geo_x, r.geo_y] for idx, r in g.iterrows()])\n",
    "\n",
    "    rows.append([name[0], name[1], reorder_points(image_p).wkt, (geo_p).wkt])\n",
    "\n",
    "\n",
    "df = pd.DataFrame(rows, columns='url neighborhood  source dest'.split())\n",
    "\n",
    "df.to_csv('poly.csv', index=False)\n",
    "\n",
    "p = df[df.neighborhood=='marina'].source.apply(wkt.loads)\n",
    "p"
   ]
  },
  {
   "cell_type": "code",
   "execution_count": 111,
   "metadata": {},
   "outputs": [
    {
     "data": {
      "image/svg+xml": [
       "<svg xmlns=\"http://www.w3.org/2000/svg\" xmlns:xlink=\"http://www.w3.org/1999/xlink\" width=\"300\" height=\"300\" viewBox=\"478.24 828.24 1181.52 578.02\" preserveAspectRatio=\"xMinYMin meet\"><g transform=\"matrix(1,0,0,-1,0,2234.5)\"><path fill-rule=\"evenodd\" fill=\"#66cc99\" stroke=\"#555555\" stroke-width=\"7.8768\" opacity=\"0.6\" d=\"M 522.0,872.0 L 524.0,991.0 L 1613.0,1362.5 L 1616.0,878.0 L 522.0,872.0 z\" /></g></svg>"
      ],
      "text/plain": [
       "<shapely.geometry.polygon.Polygon at 0x7febe09f4ba8>"
      ]
     },
     "execution_count": 111,
     "metadata": {},
     "output_type": "execute_result"
    }
   ],
   "source": [
    "p.loc[15]"
   ]
  },
  {
   "cell_type": "code",
   "execution_count": null,
   "metadata": {},
   "outputs": [],
   "source": []
  }
 ],
 "metadata": {
  "kernelspec": {
   "display_name": "Python 3",
   "language": "python",
   "name": "python3"
  },
  "language_info": {
   "codemirror_mode": {
    "name": "ipython",
    "version": 3
   },
   "file_extension": ".py",
   "mimetype": "text/x-python",
   "name": "python",
   "nbconvert_exporter": "python",
   "pygments_lexer": "ipython3",
   "version": "3.7.3"
  }
 },
 "nbformat": 4,
 "nbformat_minor": 2
}
