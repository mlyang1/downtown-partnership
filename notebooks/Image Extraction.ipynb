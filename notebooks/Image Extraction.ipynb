{
 "cells": [
  {
   "cell_type": "code",
   "execution_count": 26,
   "metadata": {},
   "outputs": [
    {
     "data": {
      "text/plain": [
       "Affine(0.727885353525, 0.0045510660637, -13042185.071796978,\n",
       "       0.0044628920644, -0.7137830395292, 3857835.447511919)"
      ]
     },
     "execution_count": 26,
     "metadata": {},
     "output_type": "execute_result"
    }
   ],
   "source": [
    "from pathlib import Path\n",
    "image_dir = Path('/Users/eric/proj/virt-proj/data-project/downtown-partnership/scratch/')\n",
    "from PIL import Image\n",
    "import affine\n",
    "\n",
    "# Read a six line world file\n",
    "# with open('aerial.jpw', 'r') as fp:\n",
    "#   a = affine.loadsw(fp.read())\n",
    "\n",
    "# or load raw text here\n",
    "with open(image_dir.joinpath('foobar-001-cropped_georeferenced.pgw')) as f:\n",
    "    a = affine.loadsw(f.read())\n",
    "    \n",
    "a"
   ]
  },
  {
   "cell_type": "code",
   "execution_count": 22,
   "metadata": {},
   "outputs": [],
   "source": [
    "\n",
    " \n",
    "def crop(image_path, coords, saved_location):\n",
    "    \"\"\"\n",
    "    @param image_path: The path to the image to edit\n",
    "    @param coords: A tuple of x/y coordinates (x1, y1, x2, y2)\n",
    "    @param saved_location: Path to save the cropped image\n",
    "    \"\"\"\n",
    "    image_obj = Image.open(image_path)\n",
    "    cropped_image = image_obj.crop(coords)\n",
    "    cropped_image.save(saved_location)\n",
    "    cropped_image.show()\n",
    " \n",
    "\n",
    "\n",
    "crop(image_dir.joinpath('foobar-001.png'), (140, 301, 1922+140, 1100+301),\n",
    "     image_dir.joinpath('foobar-001-cropped.png'))"
   ]
  },
  {
   "cell_type": "code",
   "execution_count": 23,
   "metadata": {},
   "outputs": [],
   "source": [
    "crop(image_dir.joinpath('foobar-002.png'), (205, 375, 1908+205, 1057+375),\n",
    "     image_dir.joinpath('foobar-002-cropped.png'))"
   ]
  },
  {
   "cell_type": "code",
   "execution_count": null,
   "metadata": {},
   "outputs": [],
   "source": []
  }
 ],
 "metadata": {
  "kernelspec": {
   "display_name": "Python 3",
   "language": "python",
   "name": "python3"
  },
  "language_info": {
   "codemirror_mode": {
    "name": "ipython",
    "version": 3
   },
   "file_extension": ".py",
   "mimetype": "text/x-python",
   "name": "python",
   "nbconvert_exporter": "python",
   "pygments_lexer": "ipython3",
   "version": "3.7.3"
  }
 },
 "nbformat": 4,
 "nbformat_minor": 2
}
