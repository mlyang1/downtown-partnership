{
 "cells": [
  {
   "cell_type": "code",
   "execution_count": 1,
   "metadata": {},
   "outputs": [],
   "source": [
    "import seaborn as sns\n",
    "import metapack as mp\n",
    "import pandas as pd\n",
    "import numpy as np\n",
    "import matplotlib.pyplot as plt\n",
    "from IPython.display import display \n",
    "import geopandas as gpd\n",
    "from shapely.geometry import Point\n",
    "\n",
    "from geoid.tiger import Block\n",
    "\n",
    "\n",
    "%load_ext autoreload\n",
    "%autoreload 2\n",
    "%matplotlib inline\n",
    "sns.set_context('notebook')\n",
    "mp.jupyter.init()\n"
   ]
  },
  {
   "cell_type": "code",
   "execution_count": 2,
   "metadata": {},
   "outputs": [
    {
     "data": {
      "text/html": [
       "<h1>Downtown San Diego Homeless Sleepers</h1>\n",
       "<p><code>sandiegodata.org-dowtown_homeless-6</code> Last Update: 2019-10-01T20:27:07</p>\n",
       "<p><em>Five years of monthly geographic positions for homeless sleepers in Downtown San Diego</em></p>\n",
       "<p><strong>NOTE: This is an early version of the data, and there are still some noteable\n",
       "discrepancies versus the official Downtown San Diego Partnership counts. This\n",
       "data is suitable for some exploratory analysis, but not final results. Contact\n",
       "eric@sandiegodata.org for more information</strong></p>\n",
       "<p>This dataset provides geographic locations for homeless sleepers in Downtown San Diego, as counted by enumerators from the Downtown San Diego Partnership. These counts have been done monthly since 2012, and this dataset provides counts since 2014. </p>\n",
       "<p><center><a href=\"https://data.sandiegodata.org/wp-content/uploads/sites/18/2019/10/Homeless-Sleepers.png\"><img src=\"https://data.sandiegodata.org/wp-content/uploads/sites/18/2019/10/Homeless-Sleepers.png\" width=\"400px\"></a></center></p>\n",
       "<p>The count is done on paper maps with handwritten count marks. The San Diego\n",
       "Regional Data Library's <a href=\"http://downtown-homelessness.sandiegodata.org/\">Downton Homelessness\n",
       "project</a> converted these\n",
       "scanned count maps using a <a href=\"http://www.robots.ox.ac.uk/~vgg/software/via/\">web based image annotation\n",
       "tool</a>.</p>\n",
       "<h2>Caveats</h2>\n",
       "<p>Because this data is extracted, manually, from manually recorded maps, there\n",
       "are a lot of quality issues. </p>\n",
       "<h3>Missing Months</h3>\n",
       "<p>Because of conversion errors and some complications with the source maps, there\n",
       "are several months of data that are excluded from this dataset</p>\n",
       "<ul>\n",
       "<li><strong>August 2014</strong>. In the original datasets, August 2014 was a duplicate of September 2014. </li>\n",
       "<li><strong>September 2014</strong>. Comfusion related to the duplication of September and August resulted in September being incompletely processed. </li>\n",
       "<li><strong>June 2015</strong>. All of the map images for this month were blank. An alternate source PDF exists that is not blank, but this file was not used.     </li>\n",
       "</ul>\n",
       "<h3>Not Using Ocupancy Multipliers</h3>\n",
       "<p>Since about 2017, HUD has instructed point-in-time homeless counts to multiply\n",
       "the counts of sleepers in structures and vehicles by factors to account for\n",
       "people who may be obsured and not directly countable. From April 2017 on,\n",
       "Downtown San Diego Partnership has been using these factors.</p>\n",
       "<p>However, this dataset does not use the occupancy factors, to allow analysts to\n",
       "apply these factors consistently across all months of data. As a result, the\n",
       "counts from this dataset diverge from the official counts after March 2017.</p>\n",
       "<h3>Other Issues</h3>\n",
       "<ul>\n",
       "<li>The <code>total_count</code> often does not match the sum of counts on the map. These sums were made by hand, by the enumerator who made the counts, so there are occasional arithmetic errors.  </li>\n",
       "<li>There are many instances of missing values for <code>rain</code> or <code>temp</code></li>\n",
       "<li>Some dates include the day of the month, but many don't These dates have a day of month of 1.</li>\n",
       "<li>Date day of month is generally unreliable. Only the year and month are reliable, except for files noted above. </li>\n",
       "<li>The <code>neighborhood</code> value is based on the map names, so in some months\n",
       "  the East Village neighborhood is separated into <code>east_village</code> and <code>east_village_south</code></li>\n",
       "</ul>\n",
       "<h3>Comparison to Official Published Counts</h3>\n",
       "<p>This plot shows, per month, the offical published counts from San Diego Downtown Partnership versus the total from this dataset. Note the descrepancies dues to issues noted above, including missing months, minor differences in some months, and the divergence after March 2017 due to occupancy multiplers. </p>\n",
       "<p><center><a href=\"https://data.sandiegodata.org/wp-content/uploads/sites/18/2019/10/homeless-new-vs-official.png\"><img src=\"https://data.sandiegodata.org/wp-content/uploads/sites/18/2019/10/homeless-new-vs-official.png\" width=\"700px\"></a></center></p>\n",
       "<h2>Versions</h2>\n",
       "<ol>\n",
       "<li>Initial Version</li>\n",
       "<li>Reload upstream source, with better datatypes</li>\n",
       "<li>Add monthly and neighborhood totals</li>\n",
       "<li>Updated to version 4 source package</li>\n",
       "<li>Updates to version 5 of source package, which excluded several months with quality problems, improved documentation</li>\n",
       "<li>Added column for source file, removed duplicated data form marina, 2016</li>\n",
       "</ol>\n",
       "<h2>Contacts</h2>\n",
       "<ul>\n",
       "<li><strong>Wrangler</strong> <a href=\"mailto:eric@civicknowledge.com\">Eric Busboom</a>, <a href=\"http://civicknowledge.com\">Civic Knowledge</a></li>\n",
       "</ul>\n",
       "<h2>Resources</h2>\n",
       "<ul>\n",
       "<li><strong> <a href=\"notebooks/Counts.ipynb#homeless_counts\">homeless_counts</a></strong>. Counts of homeless sleepers in Downtown San Diego, 2014 to mid 2018.</li>\n",
       "<li><strong> <a href=\"file:data/neighborhood_totals.csv#&amp;encoding=ascii\">neighborhood_totals</a></strong>. Totals for each of the neighborhoods for 2019 and 2019, from the published Downtown San Diego Partnership statistics</li>\n",
       "<li><strong> <a href=\"file:data/monthly_totals.csv#&amp;encoding=ascii\">monthly_totals</a></strong>. Monthly totals since 2012, from the published Downtown San Diego Partnership statistics</li>\n",
       "</ul>\n",
       "<h2>References</h2>\n",
       "<p><ul><li> <strong>counts</string>, <em>metapack+http://library.metatab.org/sandiegodata.org-downtown_homeless-source-6.csv#counts</em>. Final homeless sleeper counts</li><li> <strong>files</string>, <em>metapack+http://library.metatab.org/sandiegodata.org-downtown_homeless-source-6.csv#files</em>. Final file annotations, including total counts, temperature and weather.</li><li> <strong>blocks</string>, <em>shape+https://www2.census.gov/geo/pvs/tiger2010st/06_California/06073/tl_2010_06073_tabblock10.zip</em>. 2010 Census blocks for San Diego County</li><ul></p>"
      ],
      "text/plain": [
       "# Downtown San Diego Homeless Sleepers\n",
       "`sandiegodata.org-dowtown_homeless-6` Last Update: 2019-10-01T20:27:07\n",
       "\n",
       "_Five years of monthly geographic positions for homeless sleepers in Downtown San Diego_\n",
       "\n",
       "\n",
       "**NOTE: This is an early version of the data, and there are still some noteable\n",
       "discrepancies versus the official Downtown San Diego Partnership counts. This\n",
       "data is suitable for some exploratory analysis, but not final results. Contact\n",
       "eric@sandiegodata.org for more information**\n",
       "\n",
       "This dataset provides geographic locations for homeless sleepers in Downtown San Diego, as counted by enumerators from the Downtown San Diego Partnership. These counts have been done monthly since 2012, and this dataset provides counts since 2014. \n",
       "\n",
       "<center><a href=\"https://data.sandiegodata.org/wp-content/uploads/sites/18/2019/10/Homeless-Sleepers.png\"><img src=\"https://data.sandiegodata.org/wp-content/uploads/sites/18/2019/10/Homeless-Sleepers.png\" width=\"400px\"></a></center>\n",
       "\n",
       "\n",
       "The count is done on paper maps with handwritten count marks. The San Diego\n",
       "Regional Data Library's [Downton Homelessness\n",
       "project](http://downtown-homelessness.sandiegodata.org/) converted these\n",
       "scanned count maps using a [web based image annotation\n",
       "tool](http://www.robots.ox.ac.uk/~vgg/software/via/).\n",
       "\n",
       "\n",
       "## Caveats\n",
       "\n",
       "Because this data is extracted, manually, from manually recorded maps, there\n",
       "are a lot of quality issues. \n",
       "\n",
       "### Missing Months\n",
       "\n",
       "Because of conversion errors and some complications with the source maps, there\n",
       "are several months of data that are excluded from this dataset\n",
       "\n",
       "* **August 2014**. In the original datasets, August 2014 was a duplicate of September 2014. \n",
       "* **September 2014**. Comfusion related to the duplication of September and August resulted in September being incompletely processed. \n",
       "* **June 2015**. All of the map images for this month were blank. An alternate source PDF exists that is not blank, but this file was not used.     \n",
       "\n",
       "\n",
       "### Not Using Ocupancy Multipliers\n",
       "\n",
       "Since about 2017, HUD has instructed point-in-time homeless counts to multiply\n",
       "the counts of sleepers in structures and vehicles by factors to account for\n",
       "people who may be obsured and not directly countable. From April 2017 on,\n",
       "Downtown San Diego Partnership has been using these factors.\n",
       "\n",
       "However, this dataset does not use the occupancy factors, to allow analysts to\n",
       "apply these factors consistently across all months of data. As a result, the\n",
       "counts from this dataset diverge from the official counts after March 2017.\n",
       "\n",
       "### Other Issues \n",
       "\n",
       "* The ``total_count`` often does not match the sum of counts on the map. These sums were made by hand, by the enumerator who made the counts, so there are occasional arithmetic errors.  \n",
       "* There are many instances of missing values for ``rain`` or ``temp``\n",
       "* Some dates include the day of the month, but many don't These dates have a day of month of 1.\n",
       "* Date day of month is generally unreliable. Only the year and month are reliable, except for files noted above. \n",
       "* The ``neighborhood`` value is based on the map names, so in some months\n",
       "  the East Village neighborhood is separated into ``east_village`` and ``east_village_south``\n",
       "\n",
       "### Comparison to Official Published Counts\n",
       "\n",
       "This plot shows, per month, the offical published counts from San Diego Downtown Partnership versus the total from this dataset. Note the descrepancies dues to issues noted above, including missing months, minor differences in some months, and the divergence after March 2017 due to occupancy multiplers. \n",
       "\n",
       "<center><a href=\"https://data.sandiegodata.org/wp-content/uploads/sites/18/2019/10/homeless-new-vs-official.png\"><img src=\"https://data.sandiegodata.org/wp-content/uploads/sites/18/2019/10/homeless-new-vs-official.png\" width=\"700px\"></a></center>\n",
       "\n",
       "## Versions\n",
       "\n",
       "1. Initial Version\n",
       "2. Reload upstream source, with better datatypes\n",
       "3. Add monthly and neighborhood totals\n",
       "4. Updated to version 4 source package\n",
       "5. Updates to version 5 of source package, which excluded several months with quality problems, improved documentation\n",
       "6. Added column for source file, removed duplicated data form marina, 2016\n",
       "\n",
       "\n",
       " \n",
       "\n",
       "## Contacts\n",
       "\n",
       "* **Wrangler** [Eric Busboom](mailto:eric@civicknowledge.com), [Civic Knowledge](http://civicknowledge.com)\n",
       "\n",
       "## Resources\n",
       "\n",
       "* ** [homeless_counts](notebooks/Counts.ipynb#homeless_counts)**. Counts of homeless sleepers in Downtown San Diego, 2014 to mid 2018.\n",
       "* ** [neighborhood_totals](file:data/neighborhood_totals.csv#&encoding=ascii)**. Totals for each of the neighborhoods for 2019 and 2019, from the published Downtown San Diego Partnership statistics\n",
       "* ** [monthly_totals](file:data/monthly_totals.csv#&encoding=ascii)**. Monthly totals since 2012, from the published Downtown San Diego Partnership statistics\n",
       "\n",
       "## References\n",
       "<ul><li> <strong>counts</string>, <em>metapack+http://library.metatab.org/sandiegodata.org-downtown_homeless-source-6.csv#counts</em>. Final homeless sleeper counts</li><li> <strong>files</string>, <em>metapack+http://library.metatab.org/sandiegodata.org-downtown_homeless-source-6.csv#files</em>. Final file annotations, including total counts, temperature and weather.</li><li> <strong>blocks</string>, <em>shape+https://www2.census.gov/geo/pvs/tiger2010st/06_California/06073/tl_2010_06073_tabblock10.zip</em>. 2010 Census blocks for San Diego County</li><ul>\n"
      ]
     },
     "execution_count": 2,
     "metadata": {},
     "output_type": "execute_result"
    }
   ],
   "source": [
    "#pkg = mp.jupyter.open_package()\n",
    "pkg = mp.jupyter.open_source_package()\n",
    "pkg"
   ]
  },
  {
   "cell_type": "code",
   "execution_count": 3,
   "metadata": {},
   "outputs": [
    {
     "data": {
      "text/html": [
       "<h3><a name=\"resource-files\"></a>files</h3><p><a target=\"_blank\" href=\"http://library.metatab.org/sandiegodata.org-downtown_homeless-source-6/data/files.csv\">http://library.metatab.org/sandiegodata.org-downtown_homeless-source-6/data/files.csv</a></p><table>\n",
       "<tr><th>Header</th><th>Type</th><th>Description</th></tr><tr><td>image_url</td><td>string</td><td>Url to the original scanned, hand-marked map</td></tr> \n",
       "<tr><td>file_id</td><td>string</td><td>Hash of image_url, to identify files.</td></tr> \n",
       "<tr><td>source_file</td><td>string</td><td>Source file for the annotation data</td></tr> \n",
       "<tr><td>url_year</td><td>integer</td><td>Year of the observation, from the URL to the image</td></tr> \n",
       "<tr><td>url_month</td><td>integer</td><td>Month of the observation, from the URL of the image</td></tr> \n",
       "<tr><td>date</td><td>date</td><td>Date of the observation, either from the annotation on the map, or from the URL.</td></tr> \n",
       "<tr><td>neighborhood</td><td>string</td><td>Neighborhood name</td></tr> \n",
       "<tr><td>url_neighborhood</td><td>string</td><td>Neighborhood name, from the URL</td></tr> \n",
       "<tr><td>total_count</td><td>number</td><td>Total count for all sleepers.</td></tr> \n",
       "<tr><td>temp</td><td>integer</td><td>Temperature, F</td></tr> \n",
       "<tr><td>rain</td><td>string</td><td>Rain or clear</td></tr> </table>"
      ],
      "text/plain": [
       "<Reference: metadata.csv 28:1 root.reference metapack+http://library.metatab.org/sandiegodata.org-downtown_homeless-source-6.csv#files ['files', 'Final file annotations, including total counts, temperature and weather.', '', '']>"
      ]
     },
     "metadata": {},
     "output_type": "display_data"
    },
    {
     "data": {
      "text/html": [
       "<div>\n",
       "<style scoped>\n",
       "    .dataframe tbody tr th:only-of-type {\n",
       "        vertical-align: middle;\n",
       "    }\n",
       "\n",
       "    .dataframe tbody tr th {\n",
       "        vertical-align: top;\n",
       "    }\n",
       "\n",
       "    .dataframe thead th {\n",
       "        text-align: right;\n",
       "    }\n",
       "</style>\n",
       "<table border=\"1\" class=\"dataframe\">\n",
       "  <thead>\n",
       "    <tr style=\"text-align: right;\">\n",
       "      <th></th>\n",
       "      <th>image_url</th>\n",
       "      <th>file_id</th>\n",
       "      <th>source_file</th>\n",
       "      <th>url_year</th>\n",
       "      <th>url_month</th>\n",
       "      <th>date</th>\n",
       "      <th>neighborhood</th>\n",
       "      <th>url_neighborhood</th>\n",
       "      <th>total_count</th>\n",
       "      <th>temp</th>\n",
       "      <th>rain</th>\n",
       "    </tr>\n",
       "  </thead>\n",
       "  <tbody>\n",
       "    <tr>\n",
       "      <th>0</th>\n",
       "      <td>http://ds.civicknowledge.org/downtownsandiego....</td>\n",
       "      <td>1+VNSWKPSeaP9tCNcDBttFERz5ShCwWDB3nFdA==</td>\n",
       "      <td>/Users/eric/Google Sync/sandiegodata.org/Proje...</td>\n",
       "      <td>2018</td>\n",
       "      <td>1</td>\n",
       "      <td>2018-01-24</td>\n",
       "      <td>gaslamp</td>\n",
       "      <td>gaslamp</td>\n",
       "      <td>44.0</td>\n",
       "      <td>52</td>\n",
       "      <td>clear</td>\n",
       "    </tr>\n",
       "    <tr>\n",
       "      <th>1</th>\n",
       "      <td>http://ds.civicknowledge.org/downtownsandiego....</td>\n",
       "      <td>1QhVjL/Wldqt4GuayIgonXlakyvaH1mFXnuM4Q==</td>\n",
       "      <td>/Users/eric/Google Sync/sandiegodata.org/Proje...</td>\n",
       "      <td>2018</td>\n",
       "      <td>2</td>\n",
       "      <td>2018-02-21</td>\n",
       "      <td>gaslamp</td>\n",
       "      <td>gaslamp</td>\n",
       "      <td>84.0</td>\n",
       "      <td>52</td>\n",
       "      <td></td>\n",
       "    </tr>\n",
       "    <tr>\n",
       "      <th>2</th>\n",
       "      <td>http://ds.civicknowledge.org/downtownsandiego....</td>\n",
       "      <td>HeTq4NUb6SibcePiFf38/I9hH18b8QFVMy7CEQ==</td>\n",
       "      <td>/Users/eric/Google Sync/sandiegodata.org/Proje...</td>\n",
       "      <td>2018</td>\n",
       "      <td>3</td>\n",
       "      <td>2018-03-28</td>\n",
       "      <td>gaslamp</td>\n",
       "      <td>gaslamp</td>\n",
       "      <td>93.0</td>\n",
       "      <td>59</td>\n",
       "      <td>clear</td>\n",
       "    </tr>\n",
       "    <tr>\n",
       "      <th>3</th>\n",
       "      <td>http://ds.civicknowledge.org/downtownsandiego....</td>\n",
       "      <td>X0hZ11Wses2vsnM5PEopC+0txD7ilh09V9MdMA==</td>\n",
       "      <td>/Users/eric/Google Sync/sandiegodata.org/Proje...</td>\n",
       "      <td>2018</td>\n",
       "      <td>4</td>\n",
       "      <td>2018-04-25</td>\n",
       "      <td>gaslamp</td>\n",
       "      <td>gaslamp</td>\n",
       "      <td>51.0</td>\n",
       "      <td></td>\n",
       "      <td>clear</td>\n",
       "    </tr>\n",
       "    <tr>\n",
       "      <th>4</th>\n",
       "      <td>http://ds.civicknowledge.org/downtownsandiego....</td>\n",
       "      <td>U288AZMit4z4lyorhTO1SZRrT/c+vNACk+4vKA==</td>\n",
       "      <td>/Users/eric/Google Sync/sandiegodata.org/Proje...</td>\n",
       "      <td>2018</td>\n",
       "      <td>5</td>\n",
       "      <td>2018-05-31</td>\n",
       "      <td>gaslamp</td>\n",
       "      <td>gaslamp</td>\n",
       "      <td>65.0</td>\n",
       "      <td>60</td>\n",
       "      <td>clear</td>\n",
       "    </tr>\n",
       "  </tbody>\n",
       "</table>\n",
       "</div>"
      ],
      "text/plain": [
       "                                           image_url  \\\n",
       "0  http://ds.civicknowledge.org/downtownsandiego....   \n",
       "1  http://ds.civicknowledge.org/downtownsandiego....   \n",
       "2  http://ds.civicknowledge.org/downtownsandiego....   \n",
       "3  http://ds.civicknowledge.org/downtownsandiego....   \n",
       "4  http://ds.civicknowledge.org/downtownsandiego....   \n",
       "\n",
       "                                    file_id  \\\n",
       "0  1+VNSWKPSeaP9tCNcDBttFERz5ShCwWDB3nFdA==   \n",
       "1  1QhVjL/Wldqt4GuayIgonXlakyvaH1mFXnuM4Q==   \n",
       "2  HeTq4NUb6SibcePiFf38/I9hH18b8QFVMy7CEQ==   \n",
       "3  X0hZ11Wses2vsnM5PEopC+0txD7ilh09V9MdMA==   \n",
       "4  U288AZMit4z4lyorhTO1SZRrT/c+vNACk+4vKA==   \n",
       "\n",
       "                                         source_file  url_year  url_month  \\\n",
       "0  /Users/eric/Google Sync/sandiegodata.org/Proje...      2018          1   \n",
       "1  /Users/eric/Google Sync/sandiegodata.org/Proje...      2018          2   \n",
       "2  /Users/eric/Google Sync/sandiegodata.org/Proje...      2018          3   \n",
       "3  /Users/eric/Google Sync/sandiegodata.org/Proje...      2018          4   \n",
       "4  /Users/eric/Google Sync/sandiegodata.org/Proje...      2018          5   \n",
       "\n",
       "        date neighborhood url_neighborhood total_count temp   rain  \n",
       "0 2018-01-24      gaslamp          gaslamp        44.0   52  clear  \n",
       "1 2018-02-21      gaslamp          gaslamp        84.0   52         \n",
       "2 2018-03-28      gaslamp          gaslamp        93.0   59  clear  \n",
       "3 2018-04-25      gaslamp          gaslamp        51.0       clear  \n",
       "4 2018-05-31      gaslamp          gaslamp        65.0   60  clear  "
      ]
     },
     "execution_count": 3,
     "metadata": {},
     "output_type": "execute_result"
    }
   ],
   "source": [
    "display(pkg.reference('files'))\n",
    "files =  pkg.reference('files').dataframe()\n",
    "\n",
    "files['neighborhood'] = files.neighborhood.replace({'east_village_south':'east_village'})\n",
    "\n",
    "files.head()"
   ]
  },
  {
   "cell_type": "code",
   "execution_count": 4,
   "metadata": {},
   "outputs": [
    {
     "data": {
      "text/plain": [
       "array(['gaslamp', 'core', 'marina', 'cortez', 'columbia', 'east_village'],\n",
       "      dtype=object)"
      ]
     },
     "execution_count": 4,
     "metadata": {},
     "output_type": "execute_result"
    }
   ],
   "source": [
    "files.neighborhood.unique()"
   ]
  },
  {
   "cell_type": "code",
   "execution_count": 5,
   "metadata": {},
   "outputs": [
    {
     "data": {
      "text/html": [
       "<h3><a name=\"resource-counts\"></a>counts</h3><p><a target=\"_blank\" href=\"http://library.metatab.org/sandiegodata.org-downtown_homeless-source-6/data/counts.csv\">http://library.metatab.org/sandiegodata.org-downtown_homeless-source-6/data/counts.csv</a></p><table>\n",
       "<tr><th>Header</th><th>Type</th><th>Description</th></tr><tr><td>file_id</td><td>string</td><td>Link to files table</td></tr> \n",
       "<tr><td>neighborhood</td><td>string</td><td>Neighborhood name</td></tr> \n",
       "<tr><td>date</td><td>date</td><td>Date of the count, or the first of the month if the day of the date isn't specified.</td></tr> \n",
       "<tr><td>count</td><td>integer</td><td>Number of sleepers counted in the observation</td></tr> \n",
       "<tr><td>type</td><td>string</td><td>\"Individual\", \"Structure\" or \"Vehicle\"</td></tr> \n",
       "<tr><td>x</td><td>number</td><td>Geographic X position, EPSG:2230, California State Plane 6</td></tr> \n",
       "<tr><td>y</td><td>number</td><td>Geographic Y position, EPSG:2230, California State Plane 6</td></tr> </table>"
      ],
      "text/plain": [
       "<Reference: metadata.csv 27:1 root.reference metapack+http://library.metatab.org/sandiegodata.org-downtown_homeless-source-6.csv#counts ['counts', 'Final homeless sleeper counts', '', '']>"
      ]
     },
     "metadata": {},
     "output_type": "display_data"
    },
    {
     "data": {
      "text/html": [
       "<div>\n",
       "<style scoped>\n",
       "    .dataframe tbody tr th:only-of-type {\n",
       "        vertical-align: middle;\n",
       "    }\n",
       "\n",
       "    .dataframe tbody tr th {\n",
       "        vertical-align: top;\n",
       "    }\n",
       "\n",
       "    .dataframe thead th {\n",
       "        text-align: right;\n",
       "    }\n",
       "</style>\n",
       "<table border=\"1\" class=\"dataframe\">\n",
       "  <thead>\n",
       "    <tr style=\"text-align: right;\">\n",
       "      <th></th>\n",
       "      <th>file_id</th>\n",
       "      <th>neighborhood</th>\n",
       "      <th>date</th>\n",
       "      <th>count</th>\n",
       "      <th>type</th>\n",
       "      <th>x</th>\n",
       "      <th>y</th>\n",
       "    </tr>\n",
       "  </thead>\n",
       "  <tbody>\n",
       "    <tr>\n",
       "      <th>0</th>\n",
       "      <td>1+VNSWKPSeaP9tCNcDBttFERz5ShCwWDB3nFdA==</td>\n",
       "      <td>gaslamp</td>\n",
       "      <td>2018-01-24</td>\n",
       "      <td>1</td>\n",
       "      <td>Individual</td>\n",
       "      <td>6.281628e+06</td>\n",
       "      <td>1.841306e+06</td>\n",
       "    </tr>\n",
       "    <tr>\n",
       "      <th>1</th>\n",
       "      <td>1+VNSWKPSeaP9tCNcDBttFERz5ShCwWDB3nFdA==</td>\n",
       "      <td>gaslamp</td>\n",
       "      <td>2018-01-24</td>\n",
       "      <td>2</td>\n",
       "      <td>Individual</td>\n",
       "      <td>6.281782e+06</td>\n",
       "      <td>1.841132e+06</td>\n",
       "    </tr>\n",
       "    <tr>\n",
       "      <th>2</th>\n",
       "      <td>1+VNSWKPSeaP9tCNcDBttFERz5ShCwWDB3nFdA==</td>\n",
       "      <td>gaslamp</td>\n",
       "      <td>2018-01-24</td>\n",
       "      <td>2</td>\n",
       "      <td>Individual</td>\n",
       "      <td>6.281640e+06</td>\n",
       "      <td>1.841133e+06</td>\n",
       "    </tr>\n",
       "    <tr>\n",
       "      <th>3</th>\n",
       "      <td>1+VNSWKPSeaP9tCNcDBttFERz5ShCwWDB3nFdA==</td>\n",
       "      <td>gaslamp</td>\n",
       "      <td>2018-01-24</td>\n",
       "      <td>2</td>\n",
       "      <td>Individual</td>\n",
       "      <td>6.281563e+06</td>\n",
       "      <td>1.840941e+06</td>\n",
       "    </tr>\n",
       "    <tr>\n",
       "      <th>4</th>\n",
       "      <td>1+VNSWKPSeaP9tCNcDBttFERz5ShCwWDB3nFdA==</td>\n",
       "      <td>gaslamp</td>\n",
       "      <td>2018-01-24</td>\n",
       "      <td>2</td>\n",
       "      <td>Individual</td>\n",
       "      <td>6.281498e+06</td>\n",
       "      <td>1.840795e+06</td>\n",
       "    </tr>\n",
       "  </tbody>\n",
       "</table>\n",
       "</div>"
      ],
      "text/plain": [
       "                                    file_id neighborhood       date  count  \\\n",
       "0  1+VNSWKPSeaP9tCNcDBttFERz5ShCwWDB3nFdA==      gaslamp 2018-01-24      1   \n",
       "1  1+VNSWKPSeaP9tCNcDBttFERz5ShCwWDB3nFdA==      gaslamp 2018-01-24      2   \n",
       "2  1+VNSWKPSeaP9tCNcDBttFERz5ShCwWDB3nFdA==      gaslamp 2018-01-24      2   \n",
       "3  1+VNSWKPSeaP9tCNcDBttFERz5ShCwWDB3nFdA==      gaslamp 2018-01-24      2   \n",
       "4  1+VNSWKPSeaP9tCNcDBttFERz5ShCwWDB3nFdA==      gaslamp 2018-01-24      2   \n",
       "\n",
       "         type             x             y  \n",
       "0  Individual  6.281628e+06  1.841306e+06  \n",
       "1  Individual  6.281782e+06  1.841132e+06  \n",
       "2  Individual  6.281640e+06  1.841133e+06  \n",
       "3  Individual  6.281563e+06  1.840941e+06  \n",
       "4  Individual  6.281498e+06  1.840795e+06  "
      ]
     },
     "execution_count": 5,
     "metadata": {},
     "output_type": "execute_result"
    }
   ],
   "source": [
    "display(pkg.reference('counts'))\n",
    "counts =  pkg.reference('counts').dataframe()\n",
    "counts['neighborhood'] = counts.neighborhood.replace({'east_village_south':'east_village'})\n",
    "\n",
    "counts.head()"
   ]
  },
  {
   "cell_type": "code",
   "execution_count": 6,
   "metadata": {},
   "outputs": [
    {
     "data": {
      "text/plain": [
       "array(['gaslamp', 'core', 'marina', 'cortez', 'columbia', 'east_village'],\n",
       "      dtype=object)"
      ]
     },
     "execution_count": 6,
     "metadata": {},
     "output_type": "execute_result"
    }
   ],
   "source": [
    "counts.neighborhood.unique()"
   ]
  },
  {
   "cell_type": "code",
   "execution_count": 7,
   "metadata": {},
   "outputs": [
    {
     "data": {
      "text/plain": [
       "<matplotlib.axes._subplots.AxesSubplot at 0x7fdd899054a8>"
      ]
     },
     "execution_count": 7,
     "metadata": {},
     "output_type": "execute_result"
    },
    {
     "data": {
      "image/png": "[encoded data removed]",
      "text/plain": [
       "<Figure size 432x288 with 1 Axes>"
      ]
     },
     "metadata": {
      "needs_background": "light"
     },
     "output_type": "display_data"
    }
   ],
   "source": [
    "blocks = pkg.reference('blocks').geoframe().to_crs({'init' :'epsg:4326'})\n",
    "blocks['GEOID10'] = blocks.GEOID10.apply(lambda v: str(Block.parse(v).as_acs() ))\n",
    "blocks.plot()"
   ]
  },
  {
   "cell_type": "code",
   "execution_count": 8,
   "metadata": {},
   "outputs": [
    {
     "data": {
      "text/plain": [
       "{'init': 'epsg:4326'}"
      ]
     },
     "execution_count": 8,
     "metadata": {},
     "output_type": "execute_result"
    }
   ],
   "source": [
    "blocks.crs"
   ]
  },
  {
   "cell_type": "code",
   "execution_count": 9,
   "metadata": {},
   "outputs": [
    {
     "data": {
      "text/html": [
       "<div>\n",
       "<style scoped>\n",
       "    .dataframe tbody tr th:only-of-type {\n",
       "        vertical-align: middle;\n",
       "    }\n",
       "\n",
       "    .dataframe tbody tr th {\n",
       "        vertical-align: top;\n",
       "    }\n",
       "\n",
       "    .dataframe thead th {\n",
       "        text-align: right;\n",
       "    }\n",
       "</style>\n",
       "<table border=\"1\" class=\"dataframe\">\n",
       "  <thead>\n",
       "    <tr style=\"text-align: right;\">\n",
       "      <th></th>\n",
       "      <th>neighborhood</th>\n",
       "      <th>date</th>\n",
       "      <th>type</th>\n",
       "      <th>x</th>\n",
       "      <th>y</th>\n",
       "      <th>temp</th>\n",
       "      <th>rain</th>\n",
       "      <th>geometry</th>\n",
       "    </tr>\n",
       "  </thead>\n",
       "  <tbody>\n",
       "    <tr>\n",
       "      <th>0</th>\n",
       "      <td>gaslamp</td>\n",
       "      <td>2018-01-24</td>\n",
       "      <td>individual</td>\n",
       "      <td>6.281628e+06</td>\n",
       "      <td>1.841306e+06</td>\n",
       "      <td>52</td>\n",
       "      <td>clear</td>\n",
       "      <td>POINT (-117.1604454384227 32.71542000484128)</td>\n",
       "    </tr>\n",
       "    <tr>\n",
       "      <th>1</th>\n",
       "      <td>gaslamp</td>\n",
       "      <td>2018-01-24</td>\n",
       "      <td>individual</td>\n",
       "      <td>6.281782e+06</td>\n",
       "      <td>1.841132e+06</td>\n",
       "      <td>52</td>\n",
       "      <td>clear</td>\n",
       "      <td>POINT (-117.1599399955244 32.7149455478407)</td>\n",
       "    </tr>\n",
       "    <tr>\n",
       "      <th>1</th>\n",
       "      <td>gaslamp</td>\n",
       "      <td>2018-01-24</td>\n",
       "      <td>individual</td>\n",
       "      <td>6.281782e+06</td>\n",
       "      <td>1.841132e+06</td>\n",
       "      <td>52</td>\n",
       "      <td>clear</td>\n",
       "      <td>POINT (-117.1599399955244 32.7149455478407)</td>\n",
       "    </tr>\n",
       "    <tr>\n",
       "      <th>2</th>\n",
       "      <td>gaslamp</td>\n",
       "      <td>2018-01-24</td>\n",
       "      <td>individual</td>\n",
       "      <td>6.281640e+06</td>\n",
       "      <td>1.841133e+06</td>\n",
       "      <td>52</td>\n",
       "      <td>clear</td>\n",
       "      <td>POINT (-117.1604008320354 32.71494445980255)</td>\n",
       "    </tr>\n",
       "    <tr>\n",
       "      <th>2</th>\n",
       "      <td>gaslamp</td>\n",
       "      <td>2018-01-24</td>\n",
       "      <td>individual</td>\n",
       "      <td>6.281640e+06</td>\n",
       "      <td>1.841133e+06</td>\n",
       "      <td>52</td>\n",
       "      <td>clear</td>\n",
       "      <td>POINT (-117.1604008320354 32.71494445980255)</td>\n",
       "    </tr>\n",
       "  </tbody>\n",
       "</table>\n",
       "</div>"
      ],
      "text/plain": [
       "  neighborhood       date        type             x             y temp   rain  \\\n",
       "0      gaslamp 2018-01-24  individual  6.281628e+06  1.841306e+06   52  clear   \n",
       "1      gaslamp 2018-01-24  individual  6.281782e+06  1.841132e+06   52  clear   \n",
       "1      gaslamp 2018-01-24  individual  6.281782e+06  1.841132e+06   52  clear   \n",
       "2      gaslamp 2018-01-24  individual  6.281640e+06  1.841133e+06   52  clear   \n",
       "2      gaslamp 2018-01-24  individual  6.281640e+06  1.841133e+06   52  clear   \n",
       "\n",
       "                                       geometry  \n",
       "0  POINT (-117.1604454384227 32.71542000484128)  \n",
       "1   POINT (-117.1599399955244 32.7149455478407)  \n",
       "1   POINT (-117.1599399955244 32.7149455478407)  \n",
       "2  POINT (-117.1604008320354 32.71494445980255)  \n",
       "2  POINT (-117.1604008320354 32.71494445980255)  "
      ]
     },
     "metadata": {},
     "output_type": "display_data"
    },
    {
     "data": {
      "text/plain": [
       "<matplotlib.axes._subplots.AxesSubplot at 0x7fdd48abce48>"
      ]
     },
     "execution_count": 9,
     "metadata": {},
     "output_type": "execute_result"
    },
    {
     "data": {
      "image/png": "[encoded data removed]",
      "text/plain": [
       "<Figure size 432x288 with 1 Axes>"
      ]
     },
     "metadata": {
      "needs_background": "light"
     },
     "output_type": "display_data"
    }
   ],
   "source": [
    "df = counts.merge(files[['file_id','temp','rain']], on='file_id').drop(columns=['file_id'])\n",
    "df['type'] = df['type'].str.lower()\n",
    "\n",
    "df['geometry'] = df.apply(lambda r: Point(r.x, r.y), axis=1)\n",
    "gdf = gpd.GeoDataFrame(df, geometry='geometry')\n",
    "gdf.crs={'init' :'epsg:2230'}\n",
    "gdf = gdf.to_crs({'init' :'epsg:4326'})\n",
    "\n",
    "rows = []\n",
    "for idx, row in gdf.iterrows():\n",
    "    for i in range(row['count']):\n",
    "        rows.append(row)\n",
    "        \n",
    "dfr = gpd.GeoDataFrame(rows, columns = df.columns, crs={'init': 'epsg:4326'}).drop(columns='count')\n",
    "display(dfr.head())\n",
    "dfr.plot()"
   ]
  },
  {
   "cell_type": "code",
   "execution_count": 10,
   "metadata": {},
   "outputs": [
    {
     "data": {
      "text/plain": [
       "<matplotlib.axes._subplots.AxesSubplot at 0x7fdd7b9a0c50>"
      ]
     },
     "execution_count": 10,
     "metadata": {},
     "output_type": "execute_result"
    },
    {
     "data": {
      "image/png": "[encoded data removed]",
      "text/plain": [
       "<Figure size 432x288 with 1 Axes>"
      ]
     },
     "metadata": {
      "needs_background": "light"
     },
     "output_type": "display_data"
    }
   ],
   "source": [
    "j = gpd.sjoin(blocks[['GEOID10','geometry']], dfr)\n",
    "\n",
    "j['records'] = 1\n",
    "t= j.groupby(['GEOID10']).agg({'records':'count','geometry':'first'})\n",
    "t=gpd.GeoDataFrame(t, geometry='geometry')\n",
    "\n",
    "t.plot(column='records')\n"
   ]
  },
  {
   "cell_type": "code",
   "execution_count": 11,
   "metadata": {},
   "outputs": [
    {
     "data": {
      "text/html": [
       "<div>\n",
       "<style scoped>\n",
       "    .dataframe tbody tr th:only-of-type {\n",
       "        vertical-align: middle;\n",
       "    }\n",
       "\n",
       "    .dataframe tbody tr th {\n",
       "        vertical-align: top;\n",
       "    }\n",
       "\n",
       "    .dataframe thead th {\n",
       "        text-align: right;\n",
       "    }\n",
       "</style>\n",
       "<table border=\"1\" class=\"dataframe\">\n",
       "  <thead>\n",
       "    <tr style=\"text-align: right;\">\n",
       "      <th></th>\n",
       "      <th>neighborhood</th>\n",
       "      <th>date</th>\n",
       "      <th>type</th>\n",
       "      <th>temp</th>\n",
       "      <th>rain</th>\n",
       "      <th>geoid</th>\n",
       "      <th>x</th>\n",
       "      <th>y</th>\n",
       "      <th>geometry</th>\n",
       "    </tr>\n",
       "  </thead>\n",
       "  <tbody>\n",
       "    <tr>\n",
       "      <th>1370</th>\n",
       "      <td>east_village</td>\n",
       "      <td>2017-08-31</td>\n",
       "      <td>individual</td>\n",
       "      <td></td>\n",
       "      <td></td>\n",
       "      <td>10100US060730054004017</td>\n",
       "      <td>6.282685e+06</td>\n",
       "      <td>1.839585e+06</td>\n",
       "      <td>POLYGON ((-117.157385 32.710435, -117.157386 3...</td>\n",
       "    </tr>\n",
       "    <tr>\n",
       "      <th>1370</th>\n",
       "      <td>east_village</td>\n",
       "      <td>2017-08-31</td>\n",
       "      <td>individual</td>\n",
       "      <td></td>\n",
       "      <td></td>\n",
       "      <td>10100US060730054004017</td>\n",
       "      <td>6.282685e+06</td>\n",
       "      <td>1.839585e+06</td>\n",
       "      <td>POLYGON ((-117.157385 32.710435, -117.157386 3...</td>\n",
       "    </tr>\n",
       "    <tr>\n",
       "      <th>1370</th>\n",
       "      <td>east_village</td>\n",
       "      <td>2015-02-26</td>\n",
       "      <td>individual</td>\n",
       "      <td></td>\n",
       "      <td>clear</td>\n",
       "      <td>10100US060730054004017</td>\n",
       "      <td>6.282705e+06</td>\n",
       "      <td>1.839576e+06</td>\n",
       "      <td>POLYGON ((-117.157385 32.710435, -117.157386 3...</td>\n",
       "    </tr>\n",
       "    <tr>\n",
       "      <th>1370</th>\n",
       "      <td>east_village</td>\n",
       "      <td>2017-10-23</td>\n",
       "      <td>individual</td>\n",
       "      <td>66</td>\n",
       "      <td>clear</td>\n",
       "      <td>10100US060730054004017</td>\n",
       "      <td>6.282745e+06</td>\n",
       "      <td>1.839588e+06</td>\n",
       "      <td>POLYGON ((-117.157385 32.710435, -117.157386 3...</td>\n",
       "    </tr>\n",
       "    <tr>\n",
       "      <th>1370</th>\n",
       "      <td>east_village</td>\n",
       "      <td>2015-03-26</td>\n",
       "      <td>individual</td>\n",
       "      <td></td>\n",
       "      <td>clear</td>\n",
       "      <td>10100US060730054004017</td>\n",
       "      <td>6.282740e+06</td>\n",
       "      <td>1.839639e+06</td>\n",
       "      <td>POLYGON ((-117.157385 32.710435, -117.157386 3...</td>\n",
       "    </tr>\n",
       "  </tbody>\n",
       "</table>\n",
       "</div>"
      ],
      "text/plain": [
       "      neighborhood       date        type temp   rain                   geoid  \\\n",
       "1370  east_village 2017-08-31  individual              10100US060730054004017   \n",
       "1370  east_village 2017-08-31  individual              10100US060730054004017   \n",
       "1370  east_village 2015-02-26  individual       clear  10100US060730054004017   \n",
       "1370  east_village 2017-10-23  individual   66  clear  10100US060730054004017   \n",
       "1370  east_village 2015-03-26  individual       clear  10100US060730054004017   \n",
       "\n",
       "                 x             y  \\\n",
       "1370  6.282685e+06  1.839585e+06   \n",
       "1370  6.282685e+06  1.839585e+06   \n",
       "1370  6.282705e+06  1.839576e+06   \n",
       "1370  6.282745e+06  1.839588e+06   \n",
       "1370  6.282740e+06  1.839639e+06   \n",
       "\n",
       "                                               geometry  \n",
       "1370  POLYGON ((-117.157385 32.710435, -117.157386 3...  \n",
       "1370  POLYGON ((-117.157385 32.710435, -117.157386 3...  \n",
       "1370  POLYGON ((-117.157385 32.710435, -117.157386 3...  \n",
       "1370  POLYGON ((-117.157385 32.710435, -117.157386 3...  \n",
       "1370  POLYGON ((-117.157385 32.710435, -117.157386 3...  "
      ]
     },
     "execution_count": 11,
     "metadata": {},
     "output_type": "execute_result"
    }
   ],
   "source": [
    "t = j.drop(columns=['records', 'index_right']).rename(columns={'GEOID10':'geoid'})\n",
    "homeless_counts = t[['neighborhood', 'date','type',  'temp', 'rain',  'geoid', 'x','y', 'geometry']]\n",
    "homeless_counts.head()"
   ]
  },
  {
   "cell_type": "code",
   "execution_count": 12,
   "metadata": {},
   "outputs": [
    {
     "data": {
      "text/plain": [
       "287"
      ]
     },
     "execution_count": 12,
     "metadata": {},
     "output_type": "execute_result"
    }
   ],
   "source": [
    "homeless_counts.geoid.nunique()"
   ]
  },
  {
   "cell_type": "code",
   "execution_count": 13,
   "metadata": {},
   "outputs": [
    {
     "data": {
      "text/plain": [
       "array(['east_village', 'cortez', 'marina', 'columbia', 'core', 'gaslamp'],\n",
       "      dtype=object)"
      ]
     },
     "execution_count": 13,
     "metadata": {},
     "output_type": "execute_result"
    }
   ],
   "source": [
    "homeless_counts.neighborhood.unique()"
   ]
  },
  {
   "cell_type": "code",
   "execution_count": null,
   "metadata": {},
   "outputs": [],
   "source": []
  }
 ],
 "metadata": {
  "kernelspec": {
   "display_name": "Python 3",
   "language": "python",
   "name": "python3"
  },
  "language_info": {
   "codemirror_mode": {
    "name": "ipython",
    "version": 3
   },
   "file_extension": ".py",
   "mimetype": "text/x-python",
   "name": "python",
   "nbconvert_exporter": "python",
   "pygments_lexer": "ipython3",
   "version": "3.6.8"
  }
 },
 "nbformat": 4,
 "nbformat_minor": 2
}
