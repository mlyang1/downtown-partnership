{
 "cells": [
  {
   "cell_type": "markdown",
   "metadata": {},
   "source": [
    "# Exploratory Data Analysis\n",
    "\n",
    "When placed in Metapack data package, this notebook will load the package and run a variety of common EDA operations on the first resource. \n"
   ]
  },
  {
   "cell_type": "code",
   "execution_count": 1,
   "metadata": {},
   "outputs": [],
   "source": [
    "import matplotlib.pyplot as plt \n",
    "import seaborn as sns\n",
    "import metapack as mp\n",
    "import pandas as pd\n",
    "import numpy as np\n",
    "from IPython.display import display \n",
    "\n",
    "%matplotlib inline\n",
    "sns.set_context('notebook')\n"
   ]
  },
  {
   "cell_type": "code",
   "execution_count": 2,
   "metadata": {},
   "outputs": [
    {
     "data": {
      "text/html": [
       "<h1>Downtown San Diego Homeless Sleepers</h1>\n",
       "<p><code>sandiegodata.org-dowtown_homeless-1</code> Last Update: 2019-09-27T22:15:43</p>\n",
       "<p><em>Five years of monthly geographic positions for homeless sleepers in Downtown San Diego</em></p>\n",
       "<p>This dataset provides geographic locations for homeless sleepers in Downtown San Diego, as counted by enumerators from the Downtown San Diego Partnership. These counts have been done monthly since 2012, and this dataset provides counts since 2014. </p>\n",
       "<p><center><a href=\"https://i2.wp.com/www.sandiegodata.org/wp-content/uploads/sites/19/2019/09/Homeless-Sleepers.png?ssl=1\"><img src=\"https://i2.wp.com/www.sandiegodata.org/wp-content/uploads/sites/19/2019/09/Homeless-Sleepers.png?ssl=1\" width=\"400px\"></a></center></p>\n",
       "<p>The count is done on paper maps with handwritten count marks. The San Diego\n",
       "Regional Data Library's <a href=\"http://downtown-homelessness.sandiegodata.org/\">Downton Homelessness\n",
       "project</a> converted these\n",
       "scanned count maps using a <a href=\"http://www.robots.ox.ac.uk/~vgg/software/via/\">web based image annotation\n",
       "tool</a>.</p>\n",
       "<h2>Caveats</h2>\n",
       "<ul>\n",
       "<li>The <code>total_count</code> often does not match the sum of counts on the map. These sums were made by hand, buy the enumerator who made the counts, so there are occasional arithmetic errors.  </li>\n",
       "<li>There are many instances of missing values for <code>rain</code> or <code>temp</code></li>\n",
       "<li>Some dates include the day of the month, but many don't These dates have a day of month of 1</li>\n",
       "</ul>\n",
       "<h2>Contacts</h2>\n",
       "<ul>\n",
       "<li><strong>Wrangler</strong> <a href=\"mailto:eric@civicknowledge.com\">Eric Busboom</a>, <a href=\"http://civicknowledge.com\">Civic Knowledge</a></li>\n",
       "</ul>\n",
       "<h2>Resources</h2>\n",
       "<ul>\n",
       "<li><strong> <a href=\"data/homeless_counts.csv\">homeless_counts</a></strong>. Counts of homeless sleepers in Downtown San Diego, 2014 to mid 2018.</li>\n",
       "</ul>\n",
       "<h2>References</h2>\n",
       "<p><ul><li> <strong>counts</string>, <em>metapack+http://library.metatab.org/sandiegodata.org-downtown_homeless-source-1.csv#counts</em>. Final homeless sleeper counts</li><li> <strong>files</string>, <em>metapack+http://library.metatab.org/sandiegodata.org-downtown_homeless-source-1.csv#files</em>. Final file annotations, including total counts, temperature and weather.</li><li> <strong>blocks</string>, <em>shape+https://www2.census.gov/geo/pvs/tiger2010st/06_California/06073/tl_2010_06073_tabblock10.zip</em>. 2010 Census blocks for San Diego County</li><ul></p>"
      ],
      "text/plain": [
       "# Downtown San Diego Homeless Sleepers\n",
       "`sandiegodata.org-dowtown_homeless-1` Last Update: 2019-09-27T22:15:43\n",
       "\n",
       "_Five years of monthly geographic positions for homeless sleepers in Downtown San Diego_\n",
       "\n",
       "\n",
       "This dataset provides geographic locations for homeless sleepers in Downtown San Diego, as counted by enumerators from the Downtown San Diego Partnership. These counts have been done monthly since 2012, and this dataset provides counts since 2014. \n",
       "\n",
       "<center><a href=\"https://i2.wp.com/www.sandiegodata.org/wp-content/uploads/sites/19/2019/09/Homeless-Sleepers.png?ssl=1\"><img src=\"https://i2.wp.com/www.sandiegodata.org/wp-content/uploads/sites/19/2019/09/Homeless-Sleepers.png?ssl=1\" width=\"400px\"></a></center>\n",
       "\n",
       "\n",
       "The count is done on paper maps with handwritten count marks. The San Diego\n",
       "Regional Data Library's [Downton Homelessness\n",
       "project](http://downtown-homelessness.sandiegodata.org/) converted these\n",
       "scanned count maps using a [web based image annotation\n",
       "tool](http://www.robots.ox.ac.uk/~vgg/software/via/).\n",
       "\n",
       "\n",
       "## Caveats\n",
       "\n",
       "\n",
       "* The ``total_count`` often does not match the sum of counts on the map. These sums were made by hand, buy the enumerator who made the counts, so there are occasional arithmetic errors.  \n",
       "* There are many instances of missing values for ``rain`` or ``temp``\n",
       "* Some dates include the day of the month, but many don't These dates have a day of month of 1\n",
       "\n",
       "\n",
       " \n",
       "\n",
       "## Contacts\n",
       "\n",
       "* **Wrangler** [Eric Busboom](mailto:eric@civicknowledge.com), [Civic Knowledge](http://civicknowledge.com)\n",
       "\n",
       "## Resources\n",
       "\n",
       "* ** [homeless_counts](data/homeless_counts.csv)**. Counts of homeless sleepers in Downtown San Diego, 2014 to mid 2018.\n",
       "\n",
       "## References\n",
       "<ul><li> <strong>counts</string>, <em>metapack+http://library.metatab.org/sandiegodata.org-downtown_homeless-source-1.csv#counts</em>. Final homeless sleeper counts</li><li> <strong>files</string>, <em>metapack+http://library.metatab.org/sandiegodata.org-downtown_homeless-source-1.csv#files</em>. Final file annotations, including total counts, temperature and weather.</li><li> <strong>blocks</string>, <em>shape+https://www2.census.gov/geo/pvs/tiger2010st/06_California/06073/tl_2010_06073_tabblock10.zip</em>. 2010 Census blocks for San Diego County</li><ul>\n"
      ]
     },
     "execution_count": 2,
     "metadata": {},
     "output_type": "execute_result"
    }
   ],
   "source": [
    "pkg = mp.jupyter.open_package()\n",
    "\n",
    "# For testing and development\n",
    "#pkg = mp.open_package('http://s3.amazonaws.com/library.metatab.org/cde.ca.gov-accountability_dashboard-2.zip')\n",
    "\n",
    "pkg"
   ]
  },
  {
   "cell_type": "code",
   "execution_count": 3,
   "metadata": {
    "tags": [
     "resource_name"
    ]
   },
   "outputs": [],
   "source": [
    "resource_name='homeless_counts'"
   ]
  },
  {
   "cell_type": "code",
   "execution_count": 4,
   "metadata": {},
   "outputs": [
    {
     "data": {
      "text/html": [
       "<h3><a name=\"resource-homeless_counts\"></a>homeless_counts</h3><p><a target=\"_blank\" href=\"file:///Users/eric/proj/data-projects/downtown-partnership/datasets/sandiegodata.org-downtown_homeless/_packages/sandiegodata.org-dowtown_homeless-1/data/homeless_counts.csv\">file:///Users/eric/proj/data-projects/downtown-partnership/datasets/sandiegodata.org-downtown_homeless/_packages/sandiegodata.org-dowtown_homeless-1/data/homeless_counts.csv</a></p><table>\n",
       "<tr><th>Header</th><th>Type</th><th>Description</th></tr><tr><td>neighborhood</td><td>string</td><td>Neighborhood, from the label on the source map</td></tr> \n",
       "<tr><td>date</td><td>datetime</td><td>Date of the observation. Many dates have no know day of month; for these dates, the day of month is set to 1</td></tr> \n",
       "<tr><td>type</td><td>string</td><td>Type of sleeper: individual, vehicle or structure</td></tr> \n",
       "<tr><td>temp</td><td>integer</td><td>Temperature, if it was written on the source map</td></tr> \n",
       "<tr><td>rain</td><td>string</td><td>Rain or clear, if it was written on the source map</td></tr> \n",
       "<tr><td>geoid</td><td>string</td><td>Census geoid for the 2010 Census block the observation is in, in ACS format</td></tr> \n",
       "<tr><td>x</td><td>number</td><td>X geographic position, in California State Plane 6, EPSG:2230</td></tr> \n",
       "<tr><td>y</td><td>number</td><td>Y geographic position, in California State Plane 6, EPSG:2230</td></tr> \n",
       "<tr><td>geometry</td><td>string</td><td>Geographic position of observation, in Lat/Lon, EPSG:4326</td></tr> </table>"
      ],
      "text/plain": [
       "<Resource: metadata.csv 34:1 root.datafile data/homeless_counts.csv ['homeless_counts', 'Counts of homeless sleepers in Downtown San Diego, 2014 to mid 2018.', '', '']>"
      ]
     },
     "execution_count": 4,
     "metadata": {},
     "output_type": "execute_result"
    }
   ],
   "source": [
    "pkg.resource(resource_name)"
   ]
  },
  {
   "cell_type": "code",
   "execution_count": 5,
   "metadata": {},
   "outputs": [],
   "source": [
    "df = pkg.resource(resource_name).read_csv(parse_dates=True)"
   ]
  },
  {
   "cell_type": "code",
   "execution_count": 6,
   "metadata": {},
   "outputs": [
    {
     "data": {
      "text/html": [
       "<div>\n",
       "<style scoped>\n",
       "    .dataframe tbody tr th:only-of-type {\n",
       "        vertical-align: middle;\n",
       "    }\n",
       "\n",
       "    .dataframe tbody tr th {\n",
       "        vertical-align: top;\n",
       "    }\n",
       "\n",
       "    .dataframe thead th {\n",
       "        text-align: right;\n",
       "    }\n",
       "</style>\n",
       "<table border=\"1\" class=\"dataframe\">\n",
       "  <thead>\n",
       "    <tr style=\"text-align: right;\">\n",
       "      <th></th>\n",
       "      <th>neighborhood</th>\n",
       "      <th>date</th>\n",
       "      <th>type</th>\n",
       "      <th>temp</th>\n",
       "      <th>rain</th>\n",
       "      <th>geoid</th>\n",
       "      <th>x</th>\n",
       "      <th>y</th>\n",
       "      <th>geometry</th>\n",
       "    </tr>\n",
       "  </thead>\n",
       "  <tbody>\n",
       "    <tr>\n",
       "      <th>0</th>\n",
       "      <td>east_village</td>\n",
       "      <td>2015-02-26</td>\n",
       "      <td>individual</td>\n",
       "      <td>NaN</td>\n",
       "      <td>clear</td>\n",
       "      <td>10100US060730054004017</td>\n",
       "      <td>6.282705e+06</td>\n",
       "      <td>1.839576e+06</td>\n",
       "      <td>POLYGON ((-117.157385 32.710435, -117.157386 3...</td>\n",
       "    </tr>\n",
       "    <tr>\n",
       "      <th>1</th>\n",
       "      <td>East Village South</td>\n",
       "      <td>2017-08-31</td>\n",
       "      <td>individual</td>\n",
       "      <td>NaN</td>\n",
       "      <td>NaN</td>\n",
       "      <td>10100US060730054004017</td>\n",
       "      <td>6.282685e+06</td>\n",
       "      <td>1.839585e+06</td>\n",
       "      <td>POLYGON ((-117.157385 32.710435, -117.157386 3...</td>\n",
       "    </tr>\n",
       "    <tr>\n",
       "      <th>2</th>\n",
       "      <td>East Village South</td>\n",
       "      <td>2017-08-31</td>\n",
       "      <td>individual</td>\n",
       "      <td>NaN</td>\n",
       "      <td>NaN</td>\n",
       "      <td>10100US060730054004017</td>\n",
       "      <td>6.282685e+06</td>\n",
       "      <td>1.839585e+06</td>\n",
       "      <td>POLYGON ((-117.157385 32.710435, -117.157386 3...</td>\n",
       "    </tr>\n",
       "    <tr>\n",
       "      <th>3</th>\n",
       "      <td>East Village South</td>\n",
       "      <td>2017-10-23</td>\n",
       "      <td>individual</td>\n",
       "      <td>66.0</td>\n",
       "      <td>clear</td>\n",
       "      <td>10100US060730054004017</td>\n",
       "      <td>6.282745e+06</td>\n",
       "      <td>1.839588e+06</td>\n",
       "      <td>POLYGON ((-117.157385 32.710435, -117.157386 3...</td>\n",
       "    </tr>\n",
       "    <tr>\n",
       "      <th>4</th>\n",
       "      <td>east_village</td>\n",
       "      <td>2015-03-26</td>\n",
       "      <td>individual</td>\n",
       "      <td>NaN</td>\n",
       "      <td>clear</td>\n",
       "      <td>10100US060730054004017</td>\n",
       "      <td>6.282740e+06</td>\n",
       "      <td>1.839639e+06</td>\n",
       "      <td>POLYGON ((-117.157385 32.710435, -117.157386 3...</td>\n",
       "    </tr>\n",
       "  </tbody>\n",
       "</table>\n",
       "</div>"
      ],
      "text/plain": [
       "         neighborhood       date        type  temp   rain  \\\n",
       "0        east_village 2015-02-26  individual   NaN  clear   \n",
       "1  East Village South 2017-08-31  individual   NaN    NaN   \n",
       "2  East Village South 2017-08-31  individual   NaN    NaN   \n",
       "3  East Village South 2017-10-23  individual  66.0  clear   \n",
       "4        east_village 2015-03-26  individual   NaN  clear   \n",
       "\n",
       "                    geoid             x             y  \\\n",
       "0  10100US060730054004017  6.282705e+06  1.839576e+06   \n",
       "1  10100US060730054004017  6.282685e+06  1.839585e+06   \n",
       "2  10100US060730054004017  6.282685e+06  1.839585e+06   \n",
       "3  10100US060730054004017  6.282745e+06  1.839588e+06   \n",
       "4  10100US060730054004017  6.282740e+06  1.839639e+06   \n",
       "\n",
       "                                            geometry  \n",
       "0  POLYGON ((-117.157385 32.710435, -117.157386 3...  \n",
       "1  POLYGON ((-117.157385 32.710435, -117.157386 3...  \n",
       "2  POLYGON ((-117.157385 32.710435, -117.157386 3...  \n",
       "3  POLYGON ((-117.157385 32.710435, -117.157386 3...  \n",
       "4  POLYGON ((-117.157385 32.710435, -117.157386 3...  "
      ]
     },
     "execution_count": 6,
     "metadata": {},
     "output_type": "execute_result"
    }
   ],
   "source": [
    "df.head()"
   ]
  },
  {
   "cell_type": "code",
   "execution_count": 7,
   "metadata": {},
   "outputs": [],
   "source": [
    "empty_col_names = [cn for cn in df.columns if df[cn].nunique() == 0]\n",
    "const_col_names= [cn for cn in df.columns if df[cn].nunique() == 1]\n",
    "ignore_cols = empty_col_names+const_col_names\n",
    "dt_col_names= list(df.select_dtypes(include=[np.datetime64]).columns)\n",
    "\n",
    "number_col_names = [ cn for cn in df.select_dtypes(include=[np.number]).columns if cn not in ignore_cols ]\n",
    "other_col_names = [cn for cn in df.columns if cn not in (empty_col_names+const_col_names+dt_col_names+number_col_names)]"
   ]
  },
  {
   "cell_type": "code",
   "execution_count": 8,
   "metadata": {},
   "outputs": [
    {
     "data": {
      "text/html": [
       "<div>\n",
       "<style scoped>\n",
       "    .dataframe tbody tr th:only-of-type {\n",
       "        vertical-align: middle;\n",
       "    }\n",
       "\n",
       "    .dataframe tbody tr th {\n",
       "        vertical-align: top;\n",
       "    }\n",
       "\n",
       "    .dataframe thead th {\n",
       "        text-align: right;\n",
       "    }\n",
       "</style>\n",
       "<table border=\"1\" class=\"dataframe\">\n",
       "  <thead>\n",
       "    <tr style=\"text-align: right;\">\n",
       "      <th></th>\n",
       "      <th>count</th>\n",
       "    </tr>\n",
       "  </thead>\n",
       "  <tbody>\n",
       "    <tr>\n",
       "      <th>empty</th>\n",
       "      <td>0</td>\n",
       "    </tr>\n",
       "    <tr>\n",
       "      <th>const</th>\n",
       "      <td>0</td>\n",
       "    </tr>\n",
       "    <tr>\n",
       "      <th>datetime</th>\n",
       "      <td>1</td>\n",
       "    </tr>\n",
       "    <tr>\n",
       "      <th>number</th>\n",
       "      <td>3</td>\n",
       "    </tr>\n",
       "    <tr>\n",
       "      <th>other</th>\n",
       "      <td>5</td>\n",
       "    </tr>\n",
       "  </tbody>\n",
       "</table>\n",
       "</div>"
      ],
      "text/plain": [
       "          count\n",
       "empty         0\n",
       "const         0\n",
       "datetime      1\n",
       "number        3\n",
       "other         5"
      ]
     },
     "execution_count": 8,
     "metadata": {},
     "output_type": "execute_result"
    }
   ],
   "source": [
    "pd.DataFrame.from_dict({'empty':[len(empty_col_names)], \n",
    "                        'const':[len(const_col_names)],\n",
    "                        'datetime':[len(dt_col_names)],\n",
    "                        'number':[len(number_col_names)],\n",
    "                        'other':[len(other_col_names)],\n",
    "                       }, \n",
    "                       orient='index', columns=['count'])"
   ]
  },
  {
   "cell_type": "markdown",
   "metadata": {},
   "source": [
    "# Constant Columns"
   ]
  },
  {
   "cell_type": "code",
   "execution_count": 9,
   "metadata": {},
   "outputs": [],
   "source": [
    "if const_col_names:\n",
    "    display(df[const_col_names].drop_duplicates().T)"
   ]
  },
  {
   "cell_type": "markdown",
   "metadata": {},
   "source": [
    "# Empty Columns"
   ]
  },
  {
   "cell_type": "code",
   "execution_count": 10,
   "metadata": {},
   "outputs": [],
   "source": [
    "if empty_col_names:\n",
    "    display(df[empty_col_names].drop_duplicates().T)"
   ]
  },
  {
   "cell_type": "markdown",
   "metadata": {},
   "source": [
    "# Date and Time Columns"
   ]
  },
  {
   "cell_type": "code",
   "execution_count": 11,
   "metadata": {},
   "outputs": [
    {
     "name": "stdout",
     "output_type": "stream",
     "text": [
      "<class 'pandas.core.frame.DataFrame'>\n",
      "RangeIndex: 41851 entries, 0 to 41850\n",
      "Data columns (total 1 columns):\n",
      "date    41581 non-null datetime64[ns]\n",
      "dtypes: datetime64[ns](1)\n",
      "memory usage: 327.0 KB\n"
     ]
    },
    {
     "data": {
      "text/plain": [
       "None"
      ]
     },
     "metadata": {},
     "output_type": "display_data"
    },
    {
     "data": {
      "text/html": [
       "<div>\n",
       "<style scoped>\n",
       "    .dataframe tbody tr th:only-of-type {\n",
       "        vertical-align: middle;\n",
       "    }\n",
       "\n",
       "    .dataframe tbody tr th {\n",
       "        vertical-align: top;\n",
       "    }\n",
       "\n",
       "    .dataframe thead th {\n",
       "        text-align: right;\n",
       "    }\n",
       "</style>\n",
       "<table border=\"1\" class=\"dataframe\">\n",
       "  <thead>\n",
       "    <tr style=\"text-align: right;\">\n",
       "      <th></th>\n",
       "      <th>count</th>\n",
       "      <th>unique</th>\n",
       "      <th>top</th>\n",
       "      <th>freq</th>\n",
       "      <th>first</th>\n",
       "      <th>last</th>\n",
       "    </tr>\n",
       "  </thead>\n",
       "  <tbody>\n",
       "    <tr>\n",
       "      <th>date</th>\n",
       "      <td>41581</td>\n",
       "      <td>97</td>\n",
       "      <td>2016-12-29 00:00:00</td>\n",
       "      <td>1414</td>\n",
       "      <td>2014-01-01 00:00:00</td>\n",
       "      <td>2019-02-28 00:00:00</td>\n",
       "    </tr>\n",
       "  </tbody>\n",
       "</table>\n",
       "</div>"
      ],
      "text/plain": [
       "      count unique                  top  freq                first  \\\n",
       "date  41581     97  2016-12-29 00:00:00  1414  2014-01-01 00:00:00   \n",
       "\n",
       "                     last  \n",
       "date  2019-02-28 00:00:00  "
      ]
     },
     "metadata": {},
     "output_type": "display_data"
    }
   ],
   "source": [
    "if dt_col_names:\n",
    "    display(df[dt_col_names].info())\n",
    "    display(df[dt_col_names].describe().T)"
   ]
  },
  {
   "cell_type": "markdown",
   "metadata": {},
   "source": [
    "# Number Columns"
   ]
  },
  {
   "cell_type": "code",
   "execution_count": 12,
   "metadata": {},
   "outputs": [
    {
     "name": "stdout",
     "output_type": "stream",
     "text": [
      "<class 'pandas.core.frame.DataFrame'>\n",
      "RangeIndex: 41851 entries, 0 to 41850\n",
      "Data columns (total 3 columns):\n",
      "temp    15592 non-null float64\n",
      "x       41851 non-null float64\n",
      "y       41851 non-null float64\n",
      "dtypes: float64(3)\n",
      "memory usage: 981.0 KB\n"
     ]
    },
    {
     "data": {
      "text/plain": [
       "None"
      ]
     },
     "metadata": {},
     "output_type": "display_data"
    },
    {
     "data": {
      "text/html": [
       "<div>\n",
       "<style scoped>\n",
       "    .dataframe tbody tr th:only-of-type {\n",
       "        vertical-align: middle;\n",
       "    }\n",
       "\n",
       "    .dataframe tbody tr th {\n",
       "        vertical-align: top;\n",
       "    }\n",
       "\n",
       "    .dataframe thead th {\n",
       "        text-align: right;\n",
       "    }\n",
       "</style>\n",
       "<table border=\"1\" class=\"dataframe\">\n",
       "  <thead>\n",
       "    <tr style=\"text-align: right;\">\n",
       "      <th></th>\n",
       "      <th>count</th>\n",
       "      <th>mean</th>\n",
       "      <th>std</th>\n",
       "      <th>min</th>\n",
       "      <th>25%</th>\n",
       "      <th>50%</th>\n",
       "      <th>75%</th>\n",
       "      <th>max</th>\n",
       "    </tr>\n",
       "  </thead>\n",
       "  <tbody>\n",
       "    <tr>\n",
       "      <th>temp</th>\n",
       "      <td>15592.0</td>\n",
       "      <td>5.705875e+01</td>\n",
       "      <td>7.005831</td>\n",
       "      <td>4.200000e+01</td>\n",
       "      <td>5.200000e+01</td>\n",
       "      <td>5.800000e+01</td>\n",
       "      <td>6.300000e+01</td>\n",
       "      <td>6.700000e+01</td>\n",
       "    </tr>\n",
       "    <tr>\n",
       "      <th>x</th>\n",
       "      <td>41851.0</td>\n",
       "      <td>6.283187e+06</td>\n",
       "      <td>1798.224242</td>\n",
       "      <td>6.278185e+06</td>\n",
       "      <td>6.281651e+06</td>\n",
       "      <td>6.283747e+06</td>\n",
       "      <td>6.284851e+06</td>\n",
       "      <td>6.285441e+06</td>\n",
       "    </tr>\n",
       "    <tr>\n",
       "      <th>y</th>\n",
       "      <td>41851.0</td>\n",
       "      <td>1.840169e+06</td>\n",
       "      <td>1471.006000</td>\n",
       "      <td>1.837472e+06</td>\n",
       "      <td>1.838950e+06</td>\n",
       "      <td>1.839765e+06</td>\n",
       "      <td>1.841285e+06</td>\n",
       "      <td>1.844135e+06</td>\n",
       "    </tr>\n",
       "  </tbody>\n",
       "</table>\n",
       "</div>"
      ],
      "text/plain": [
       "        count          mean          std           min           25%  \\\n",
       "temp  15592.0  5.705875e+01     7.005831  4.200000e+01  5.200000e+01   \n",
       "x     41851.0  6.283187e+06  1798.224242  6.278185e+06  6.281651e+06   \n",
       "y     41851.0  1.840169e+06  1471.006000  1.837472e+06  1.838950e+06   \n",
       "\n",
       "               50%           75%           max  \n",
       "temp  5.800000e+01  6.300000e+01  6.700000e+01  \n",
       "x     6.283747e+06  6.284851e+06  6.285441e+06  \n",
       "y     1.839765e+06  1.841285e+06  1.844135e+06  "
      ]
     },
     "metadata": {},
     "output_type": "display_data"
    }
   ],
   "source": [
    "if number_col_names:\n",
    "    display(df[number_col_names].info())\n",
    "    display(df[number_col_names].describe().T)"
   ]
  },
  {
   "cell_type": "markdown",
   "metadata": {},
   "source": [
    "## Distributions"
   ]
  },
  {
   "cell_type": "code",
   "execution_count": 13,
   "metadata": {
    "scrolled": false
   },
   "outputs": [],
   "source": [
    "def plot_histograms(df):\n",
    "\n",
    "    col_names = list(df.columns)\n",
    "\n",
    "    n_cols = np.ceil(np.sqrt(len(col_names)))\n",
    "    n_rows = np.ceil(np.sqrt(len(col_names)))\n",
    "\n",
    "    #plt.figure(figsize=(3*n_cols,3*n_rows))\n",
    "    fig, ax = plt.subplots(figsize=(3*n_cols,3*n_rows))\n",
    "    \n",
    "    for i in range(0,len(col_names)):\n",
    "        plt.subplot(n_rows + 1,n_cols,i+1)\n",
    "        try:\n",
    "            g = sns.distplot(df[col_names[i]].dropna(),kde=True) \n",
    "            g.set(xticklabels=[])\n",
    "            g.set(yticklabels=[])\n",
    "        except:\n",
    "            pass\n",
    "        \n",
    "    plt.tight_layout()\n",
    "        \n"
   ]
  },
  {
   "cell_type": "code",
   "execution_count": 14,
   "metadata": {},
   "outputs": [
    {
     "data": {
      "image/png": "[encoded data removed]",
      "text/plain": [
       "<Figure size 432x432 with 3 Axes>"
      ]
     },
     "metadata": {
      "needs_background": "light"
     },
     "output_type": "display_data"
    }
   ],
   "source": [
    "plot_histograms(df[number_col_names])"
   ]
  },
  {
   "cell_type": "markdown",
   "metadata": {},
   "source": [
    "## Box Plots"
   ]
  },
  {
   "cell_type": "code",
   "execution_count": 15,
   "metadata": {},
   "outputs": [],
   "source": [
    "def plot_boxes(df):\n",
    "\n",
    "    col_names = list(df.columns)\n",
    "\n",
    "    n_cols = np.ceil(np.sqrt(len(col_names)))\n",
    "    n_rows = np.ceil(np.sqrt(len(col_names)))\n",
    "\n",
    "    #plt.figure(figsize=(2*n_cols,3*n_rows))\n",
    "    fig, ax = plt.subplots(figsize=(2*n_cols,5*n_rows))\n",
    "    \n",
    "    for i in range(0,len(col_names)):\n",
    "        plt.subplot(n_rows + 1,n_cols,i+1)\n",
    "        try:\n",
    "            g = sns.boxplot(df[col_names[i]].dropna(),orient='v') \n",
    "        except:\n",
    "            pass\n",
    "        \n",
    "    plt.tight_layout()\n",
    "  "
   ]
  },
  {
   "cell_type": "code",
   "execution_count": 16,
   "metadata": {},
   "outputs": [
    {
     "data": {
      "image/png": "[encoded data removed]",
      "text/plain": [
       "<Figure size 288x720 with 3 Axes>"
      ]
     },
     "metadata": {
      "needs_background": "light"
     },
     "output_type": "display_data"
    }
   ],
   "source": [
    "  \n",
    "plot_boxes(df[number_col_names])"
   ]
  },
  {
   "cell_type": "code",
   "execution_count": 17,
   "metadata": {},
   "outputs": [],
   "source": [
    "## Correlations"
   ]
  },
  {
   "cell_type": "code",
   "execution_count": 18,
   "metadata": {},
   "outputs": [
    {
     "data": {
      "text/plain": [
       "<matplotlib.axes._subplots.AxesSubplot at 0x7fc7a8f7fb38>"
      ]
     },
     "execution_count": 18,
     "metadata": {},
     "output_type": "execute_result"
    },
    {
     "data": {
      "image/png": "[encoded data removed]",
      "text/plain": [
       "<Figure size 108x108 with 2 Axes>"
      ]
     },
     "metadata": {
      "needs_background": "light"
     },
     "output_type": "display_data"
    }
   ],
   "source": [
    "\n",
    "cm = df[number_col_names].corr()\n",
    "\n",
    "mask = np.zeros_like(cm, dtype=np.bool)\n",
    "mask[np.triu_indices_from(mask)] = True\n",
    "\n",
    "plt.figure(figsize=(.5*len(number_col_names),.5*len(number_col_names)))\n",
    "sns.heatmap(cm, mask=mask, cmap = 'viridis')   "
   ]
  },
  {
   "cell_type": "markdown",
   "metadata": {},
   "source": [
    "# Other Columns"
   ]
  },
  {
   "cell_type": "code",
   "execution_count": 19,
   "metadata": {},
   "outputs": [
    {
     "name": "stdout",
     "output_type": "stream",
     "text": [
      "<class 'pandas.core.frame.DataFrame'>\n",
      "RangeIndex: 41851 entries, 0 to 41850\n",
      "Data columns (total 5 columns):\n",
      "neighborhood    41833 non-null object\n",
      "type            41851 non-null object\n",
      "rain            18447 non-null object\n",
      "geoid           41851 non-null object\n",
      "geometry        41851 non-null object\n",
      "dtypes: object(5)\n",
      "memory usage: 1.6+ MB\n"
     ]
    },
    {
     "data": {
      "text/plain": [
       "None"
      ]
     },
     "metadata": {},
     "output_type": "display_data"
    },
    {
     "data": {
      "text/html": [
       "<div>\n",
       "<style scoped>\n",
       "    .dataframe tbody tr th:only-of-type {\n",
       "        vertical-align: middle;\n",
       "    }\n",
       "\n",
       "    .dataframe tbody tr th {\n",
       "        vertical-align: top;\n",
       "    }\n",
       "\n",
       "    .dataframe thead th {\n",
       "        text-align: right;\n",
       "    }\n",
       "</style>\n",
       "<table border=\"1\" class=\"dataframe\">\n",
       "  <thead>\n",
       "    <tr style=\"text-align: right;\">\n",
       "      <th></th>\n",
       "      <th>count</th>\n",
       "      <th>unique</th>\n",
       "      <th>top</th>\n",
       "      <th>freq</th>\n",
       "    </tr>\n",
       "  </thead>\n",
       "  <tbody>\n",
       "    <tr>\n",
       "      <th>neighborhood</th>\n",
       "      <td>41833</td>\n",
       "      <td>8</td>\n",
       "      <td>east_village</td>\n",
       "      <td>22124</td>\n",
       "    </tr>\n",
       "    <tr>\n",
       "      <th>type</th>\n",
       "      <td>41851</td>\n",
       "      <td>3</td>\n",
       "      <td>individual</td>\n",
       "      <td>39512</td>\n",
       "    </tr>\n",
       "    <tr>\n",
       "      <th>rain</th>\n",
       "      <td>18447</td>\n",
       "      <td>2</td>\n",
       "      <td>clear</td>\n",
       "      <td>16155</td>\n",
       "    </tr>\n",
       "    <tr>\n",
       "      <th>geoid</th>\n",
       "      <td>41851</td>\n",
       "      <td>287</td>\n",
       "      <td>10100US060730051001013</td>\n",
       "      <td>2321</td>\n",
       "    </tr>\n",
       "    <tr>\n",
       "      <th>geometry</th>\n",
       "      <td>41851</td>\n",
       "      <td>287</td>\n",
       "      <td>POLYGON ((-117.148533 32.706671, -117.148531 3...</td>\n",
       "      <td>2321</td>\n",
       "    </tr>\n",
       "  </tbody>\n",
       "</table>\n",
       "</div>"
      ],
      "text/plain": [
       "              count unique                                                top  \\\n",
       "neighborhood  41833      8                                       east_village   \n",
       "type          41851      3                                         individual   \n",
       "rain          18447      2                                              clear   \n",
       "geoid         41851    287                             10100US060730051001013   \n",
       "geometry      41851    287  POLYGON ((-117.148533 32.706671, -117.148531 3...   \n",
       "\n",
       "               freq  \n",
       "neighborhood  22124  \n",
       "type          39512  \n",
       "rain          16155  \n",
       "geoid          2321  \n",
       "geometry       2321  "
      ]
     },
     "metadata": {},
     "output_type": "display_data"
    }
   ],
   "source": [
    "if other_col_names:\n",
    "    display(df[other_col_names].info())\n",
    "    display(df[other_col_names].describe().T)"
   ]
  },
  {
   "cell_type": "markdown",
   "metadata": {},
   "source": [
    "# Nulls\n"
   ]
  },
  {
   "cell_type": "code",
   "execution_count": 20,
   "metadata": {},
   "outputs": [
    {
     "data": {
      "text/plain": [
       "<matplotlib.axes._subplots.AxesSubplot at 0x7fc7c938ecf8>"
      ]
     },
     "execution_count": 20,
     "metadata": {},
     "output_type": "execute_result"
    },
    {
     "data": {
      "image/png": "[encoded data removed]",
      "text/plain": [
       "<Figure size 1080x324 with 1 Axes>"
      ]
     },
     "metadata": {
      "needs_background": "light"
     },
     "output_type": "display_data"
    }
   ],
   "source": [
    "cols = dt_col_names + number_col_names + other_col_names\n",
    "\n",
    "fig, ax = plt.subplots(figsize=(15,.5*len(cols)))\n",
    "sns.heatmap(df[cols].isnull().T,cbar=False,xticklabels=False,cmap = 'viridis', ax=ax )"
   ]
  }
 ],
 "metadata": {
  "celltoolbar": "Tags",
  "kernelspec": {
   "display_name": "Python 3",
   "language": "python",
   "name": "python3"
  },
  "language_info": {
   "codemirror_mode": {
    "name": "ipython",
    "version": 3
   },
   "file_extension": ".py",
   "mimetype": "text/x-python",
   "name": "python",
   "nbconvert_exporter": "python",
   "pygments_lexer": "ipython3",
   "version": "3.6.8"
  }
 },
 "nbformat": 4,
 "nbformat_minor": 2
}
