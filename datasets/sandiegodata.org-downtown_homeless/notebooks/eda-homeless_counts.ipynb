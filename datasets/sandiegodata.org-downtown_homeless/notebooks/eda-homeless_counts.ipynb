{
 "cells": [
  {
   "cell_type": "markdown",
   "metadata": {},
   "source": [
    "# Exploratory Data Analysis\n",
    "\n",
    "When placed in Metapack data package, this notebook will load the package and run a variety of common EDA operations on the first resource. \n"
   ]
  },
  {
   "cell_type": "code",
   "execution_count": 1,
   "metadata": {},
   "outputs": [],
   "source": [
    "import matplotlib.pyplot as plt \n",
    "import seaborn as sns\n",
    "import metapack as mp\n",
    "import pandas as pd\n",
    "import numpy as np\n",
    "from IPython.display import display \n",
    "\n",
    "%matplotlib inline\n",
    "sns.set_context('notebook')\n"
   ]
  },
  {
   "cell_type": "code",
   "execution_count": 2,
   "metadata": {},
   "outputs": [
    {
     "data": {
      "text/html": [
       "<h1>Downtown San Diego Homeless Sleepers</h1>\n",
       "<p><code>sandiegodata.org-dowtown_homeless-9</code> Last Update: 2019-10-03T18:22:47</p>\n",
       "<p><em>Five years of monthly geographic positions for homeless sleepers in Downtown San Diego</em></p>\n",
       "<p>This dataset provides geographic locations for homeless sleepers in Downtown San Diego, as counted by enumerators from the Downtown San Diego Partnership. These counts have been done monthly since 2012, and this dataset provides counts since 2014. </p>\n",
       "<p><center><a\n",
       "href=\"https://data.sandiegodata.org/wp-content/uploads/sites/18/2019/10/Homeless\n",
       "-Sleepers.png\"><img\n",
       "src=\"https://data.sandiegodata.org/wp-content/uploads/sites/18/2019/10/Homeless-\n",
       "Sleepers.png\" width=\"400px\"></a></center></p>\n",
       "<p>The count is done on paper maps with handwritten count marks. The San Diego\n",
       "Regional Data Library's <a href=\"http://downtown-homelessness.sandiegodata.org/\">Downton Homelessness\n",
       "project</a> converted these\n",
       "scanned count maps using a <a href=\"http://www.robots.ox.ac.uk/~vgg/software/via/\">web based image annotation\n",
       "tool</a>.</p>\n",
       "<h2>Base and Imputed Datasets</h2>\n",
       "<p>This distribution has two version of the homeless counts, the base set,\n",
       "<code>homeless_counts</code>, which has three months of missing data, and the imputed\n",
       "dataset, <code>imputed_counts</code> in which these three missing months, 2014-08,\n",
       "2014-09, and 2015-06 are probabilistically re-created.</p>\n",
       "<p>The Imputation process uses the total count for the month, from the\n",
       "<code>monthly_totals</code> dataset, as the number of sleepers that the imputed month\n",
       "will have. Then, the imputation process collects at least 1,000 records with\n",
       "dates near the missing month into a sample set, calculating the portion of\n",
       "records that are in each census block. Then the algorithm randomly selects that\n",
       "number of records for each census block, and adjusts random blocks so the total\n",
       "of the whole set of selected records is equal to the official count for the\n",
       "month.</p>\n",
       "<p>The result is an imputed month that has the same number of records as the\n",
       "official count for the month and as the same portion of sleepers in each census\n",
       "block as in adjacent months.</p>\n",
       "<h2>Notes</h2>\n",
       "<p>Notes for the source dataset, as of April 2019:</p>\n",
       "<p>The preliminary methodology (shown in yellow) [ March 2017 and earlier] counted\n",
       "two individuals per tent and two individuals per vehicle.</p>\n",
       "<p>On April 27, 2017, the Clean &amp; Safe program adopted the counting methodology\n",
       "used by the Regional Task Force on the Homeless. Per the methodology\n",
       "(represented above by the dark green cells), [April 2017 to April 2018,\n",
       "inclusive ] Clean &amp; Safe staff counted 1.75 individuals per visible\n",
       "tent/structure and 1.66 individuals per vehicle that showed clear signs of\n",
       "habitation.</p>\n",
       "<p>In May 2018, the Regional Task Force on the Homeless updated the methodology\n",
       "for vehicles to 2.03 that shows clear signs of habitation (the methodology of\n",
       "1.75 individuals per tent/structure remained the same). The Clean &amp; Safe\n",
       "program implemented this methodology on May 31, 2018 (represented in orange).</p>\n",
       "<p>* Denotes the months that The Downtown Fellowship of Ministries and Churches collaborated with us on the monthly homeless sleep count.</p>\n",
       "<p>**East Village breakout areas include the following:\n",
       "    * North East East Village is the area north of Market Street &amp; east of Park Ave. \n",
       "    * North West is the area north of Market Street &amp; west of Park Ave.\n",
       "    * South East is the area east of Park Ave. south of Market Street\n",
       "    * South West is the area west of Park Ave. south of Market Street</p>\n",
       "<h2>Caveats</h2>\n",
       "<p>Because this data is extracted, manually, from manually recorded maps, there\n",
       "are a lot of quality issues. </p>\n",
       "<h3>Missing Months</h3>\n",
       "<p>Because of conversion errors and some complications with the source maps, there\n",
       "are several months of data that are excluded from this dataset</p>\n",
       "<ul>\n",
       "<li><strong>August 2014</strong>. In the original datasets, August 2014 was a duplicate of September 2014. </li>\n",
       "<li><strong>September 2014</strong>. Comfusion related to the duplication of September and August resulted in September being incompletely processed. </li>\n",
       "<li><strong>June 2015</strong>. All of the map images for this month were blank. An alternate source PDF exists that is not blank, but this file was not used.     </li>\n",
       "<li><strong>March 2018 on</strong>. The converted data includes months up to July 2018, but the data for April, May, June and July 2018 shows very low values for the East Village neghborhood, so these months are excluded.\n",
       "These months are re-created, probabilistically, in the <code>imputed_counts</code>\n",
       "dataset.</li>\n",
       "</ul>\n",
       "<h3>Not Using Ocupancy Multipliers</h3>\n",
       "<p>Since about 2017, HUD has instructed point-in-time homeless counts to multiply\n",
       "the counts of sleepers in structures and vehicles by factors to account for\n",
       "people who may be obsured and not directly countable. From April 2017 on,\n",
       "Downtown San Diego Partnership has been using these factors.</p>\n",
       "<p>However, this dataset does not use the occupancy factors, to allow analysts to\n",
       "apply these factors consistently across all months of data. As a result, the\n",
       "counts from this dataset diverge from the official counts after March 2017.</p>\n",
       "<h3>Other Issues</h3>\n",
       "<ul>\n",
       "<li>The <code>total_count</code> often does not match the sum of counts on the map. These sums were made by hand, by the enumerator who made the counts, so there are occasional arithmetic errors.  </li>\n",
       "<li>There are many instances of missing values for <code>rain</code> or <code>temp</code></li>\n",
       "<li>Some dates include the day of the month, but many don't These dates have a day of month of 1.</li>\n",
       "<li>Date day of month is generally unreliable. Only the year and month are reliable, except for files noted above. </li>\n",
       "<li>The <code>neighborhood</code> value is based on the map names, so in some months\n",
       "  the East Village neighborhood is separated into <code>east_village</code> and <code>east_village_south</code></li>\n",
       "</ul>\n",
       "<h3>Comparison to Official Published Counts</h3>\n",
       "<p>This plot shows, per month, the offical published counts from San Diego\n",
       "Downtown Partnership versus the total from this dataset. Note the descrepancies\n",
       "dues to issues noted above, including missing months, minor differences in some\n",
       "months, and the divergence after March 2017 due to occupancy multiplers.</p>\n",
       "<p><center><a\n",
       "href=\"https://data.sandiegodata.org/wp-content/uploads/sites/18/2019/10/homeless\n",
       "-new-vs-official.png\"><img\n",
       "src=\"https://data.sandiegodata.org/wp-content/uploads/sites/18/2019/10/homeless-\n",
       "new-vs-official.png\" width=\"700px\"></a></center></p>\n",
       "<h2>Versions</h2>\n",
       "<ol>\n",
       "<li>Initial Version</li>\n",
       "<li>Reload upstream source, with better datatypes</li>\n",
       "<li>Add monthly and neighborhood totals</li>\n",
       "<li>Updated to version 4 source package</li>\n",
       "<li>Updates to version 5 of source package, which excluded several months with quality problems, improved documentation</li>\n",
       "<li>Added column for source file, removed duplicated data form marina, 2016</li>\n",
       "<li>Added imputed counts dataset. </li>\n",
       "<li>Updated the <code>monthly_totals</code> dataset</li>\n",
       "<li>Added downtown_blocks geography and removed April 2018 on.</li>\n",
       "</ol>\n",
       "<h2>Contacts</h2>\n",
       "<ul>\n",
       "<li><strong>Wrangler</strong> <a href=\"mailto:eric@civicknowledge.com\">Eric Busboom</a>, <a href=\"http://civicknowledge.com\">Civic Knowledge</a></li>\n",
       "</ul>\n",
       "<h2>Resources</h2>\n",
       "<ul>\n",
       "<li><strong> <a href=\"data/neighborhood_totals.csv\">neighborhood_totals</a></strong>. Totals for each of the neighborhoods for 2018 and 2019, from the published Downtown San Diego Partnership statistics</li>\n",
       "<li><strong> <a href=\"data/monthly_totals.csv\">monthly_totals</a></strong>. Monthly totals since 2012, from the published Downtown San Diego Partnership statistics</li>\n",
       "<li><strong> <a href=\"data/homeless_counts.csv\">homeless_counts</a></strong>. Counts of homeless sleepers in Downtown San Diego, 2014 to mid 2018.</li>\n",
       "<li><strong> <a href=\"data/imputed_counts.csv\">imputed_counts</a></strong>. The homeless_counts file with missing months probablistically imputed</li>\n",
       "<li><strong> <a href=\"data/downtown_blocks.csv\">downtown_blocks</a></strong>. Census TIGER geographic regions for the blocks that have one or more homeless sleepers in this dataset.</li>\n",
       "</ul>\n",
       "<h2>References</h2>\n",
       "<p><ul><li> <strong>counts</string>, <em>metapack+http://library.metatab.org/sandiegodata.org-downtown_homeless-source-6.csv#counts</em>. Final homeless sleeper counts</li><li> <strong>files</string>, <em>metapack+http://library.metatab.org/sandiegodata.org-downtown_homeless-source-6.csv#files</em>. Final file annotations, including total counts, temperature and weather.</li><li> <strong>blocks</string>, <em>shape+https://www2.census.gov/geo/pvs/tiger2010st/06_California/06073/tl_2010_06073_tabblock10.zip</em>. 2010 Census blocks for San Diego County</li><ul></p>"
      ],
      "text/plain": [
       "# Downtown San Diego Homeless Sleepers\n",
       "`sandiegodata.org-dowtown_homeless-9` Last Update: 2019-10-03T18:22:47\n",
       "\n",
       "_Five years of monthly geographic positions for homeless sleepers in Downtown San Diego_\n",
       "\n",
       "\n",
       "This dataset provides geographic locations for homeless sleepers in Downtown San Diego, as counted by enumerators from the Downtown San Diego Partnership. These counts have been done monthly since 2012, and this dataset provides counts since 2014. \n",
       "\n",
       "<center><a\n",
       "href=\"https://data.sandiegodata.org/wp-content/uploads/sites/18/2019/10/Homeless\n",
       "-Sleepers.png\"><img\n",
       "src=\"https://data.sandiegodata.org/wp-content/uploads/sites/18/2019/10/Homeless-\n",
       "Sleepers.png\" width=\"400px\"></a></center>\n",
       "\n",
       "\n",
       "The count is done on paper maps with handwritten count marks. The San Diego\n",
       "Regional Data Library's [Downton Homelessness\n",
       "project](http://downtown-homelessness.sandiegodata.org/) converted these\n",
       "scanned count maps using a [web based image annotation\n",
       "tool](http://www.robots.ox.ac.uk/~vgg/software/via/).\n",
       "\n",
       "## Base and Imputed Datasets\n",
       "\n",
       "This distribution has two version of the homeless counts, the base set,\n",
       "``homeless_counts``, which has three months of missing data, and the imputed\n",
       "dataset, ``imputed_counts`` in which these three missing months, 2014-08,\n",
       "2014-09, and 2015-06 are probabilistically re-created.\n",
       "\n",
       "The Imputation process uses the total count for the month, from the\n",
       "``monthly_totals`` dataset, as the number of sleepers that the imputed month\n",
       "will have. Then, the imputation process collects at least 1,000 records with\n",
       "dates near the missing month into a sample set, calculating the portion of\n",
       "records that are in each census block. Then the algorithm randomly selects that\n",
       "number of records for each census block, and adjusts random blocks so the total\n",
       "of the whole set of selected records is equal to the official count for the\n",
       "month.\n",
       "\n",
       "The result is an imputed month that has the same number of records as the\n",
       "official count for the month and as the same portion of sleepers in each census\n",
       "block as in adjacent months.\n",
       "\n",
       "## Notes\n",
       "\n",
       "Notes for the source dataset, as of April 2019:\n",
       "\n",
       "The preliminary methodology (shown in yellow) [ March 2017 and earlier] counted\n",
       "two individuals per tent and two individuals per vehicle.\n",
       "\n",
       "On April 27, 2017, the Clean & Safe program adopted the counting methodology\n",
       "used by the Regional Task Force on the Homeless. Per the methodology\n",
       "(represented above by the dark green cells), [April 2017 to April 2018,\n",
       "inclusive ] Clean & Safe staff counted 1.75 individuals per visible\n",
       "tent/structure and 1.66 individuals per vehicle that showed clear signs of\n",
       "habitation.\n",
       "\n",
       "In May 2018, the Regional Task Force on the Homeless updated the methodology\n",
       "for vehicles to 2.03 that shows clear signs of habitation (the methodology of\n",
       "1.75 individuals per tent/structure remained the same). The Clean & Safe\n",
       "program implemented this methodology on May 31, 2018 (represented in orange).\n",
       "\n",
       "\\* Denotes the months that The Downtown Fellowship of Ministries and Churches collaborated with us on the monthly homeless sleep count.\n",
       "\n",
       "\\*\\*East Village breakout areas include the following:\n",
       "    * North East East Village is the area north of Market Street & east of Park Ave. \n",
       "    * North West is the area north of Market Street & west of Park Ave.\n",
       "    * South East is the area east of Park Ave. south of Market Street\n",
       "    * South West is the area west of Park Ave. south of Market Street\n",
       "\n",
       "## Caveats\n",
       "\n",
       "Because this data is extracted, manually, from manually recorded maps, there\n",
       "are a lot of quality issues. \n",
       "\n",
       "### Missing Months\n",
       "\n",
       "Because of conversion errors and some complications with the source maps, there\n",
       "are several months of data that are excluded from this dataset\n",
       "\n",
       "* **August 2014**. In the original datasets, August 2014 was a duplicate of September 2014. \n",
       "* **September 2014**. Comfusion related to the duplication of September and August resulted in September being incompletely processed. \n",
       "* **June 2015**. All of the map images for this month were blank. An alternate source PDF exists that is not blank, but this file was not used.     \n",
       "* **March 2018 on**. The converted data includes months up to July 2018, but the data for April, May, June and July 2018 shows very low values for the East Village neghborhood, so these months are excluded.\n",
       "These months are re-created, probabilistically, in the ``imputed_counts``\n",
       "dataset.\n",
       "\n",
       "### Not Using Ocupancy Multipliers\n",
       "\n",
       "Since about 2017, HUD has instructed point-in-time homeless counts to multiply\n",
       "the counts of sleepers in structures and vehicles by factors to account for\n",
       "people who may be obsured and not directly countable. From April 2017 on,\n",
       "Downtown San Diego Partnership has been using these factors.\n",
       "\n",
       "However, this dataset does not use the occupancy factors, to allow analysts to\n",
       "apply these factors consistently across all months of data. As a result, the\n",
       "counts from this dataset diverge from the official counts after March 2017.\n",
       "\n",
       "### Other Issues \n",
       "\n",
       "* The ``total_count`` often does not match the sum of counts on the map. These sums were made by hand, by the enumerator who made the counts, so there are occasional arithmetic errors.  \n",
       "* There are many instances of missing values for ``rain`` or ``temp``\n",
       "* Some dates include the day of the month, but many don't These dates have a day of month of 1.\n",
       "* Date day of month is generally unreliable. Only the year and month are reliable, except for files noted above. \n",
       "* The ``neighborhood`` value is based on the map names, so in some months\n",
       "  the East Village neighborhood is separated into ``east_village`` and ``east_village_south``\n",
       "\n",
       "### Comparison to Official Published Counts\n",
       "\n",
       "This plot shows, per month, the offical published counts from San Diego\n",
       "Downtown Partnership versus the total from this dataset. Note the descrepancies\n",
       "dues to issues noted above, including missing months, minor differences in some\n",
       "months, and the divergence after March 2017 due to occupancy multiplers.\n",
       "\n",
       "<center><a\n",
       "href=\"https://data.sandiegodata.org/wp-content/uploads/sites/18/2019/10/homeless\n",
       "-new-vs-official.png\"><img\n",
       "src=\"https://data.sandiegodata.org/wp-content/uploads/sites/18/2019/10/homeless-\n",
       "new-vs-official.png\" width=\"700px\"></a></center>\n",
       "\n",
       "## Versions\n",
       "\n",
       "1. Initial Version\n",
       "2. Reload upstream source, with better datatypes\n",
       "3. Add monthly and neighborhood totals\n",
       "4. Updated to version 4 source package\n",
       "5. Updates to version 5 of source package, which excluded several months with quality problems, improved documentation\n",
       "6. Added column for source file, removed duplicated data form marina, 2016\n",
       "7. Added imputed counts dataset. \n",
       "8. Updated the ``monthly_totals`` dataset\n",
       "9. Added downtown_blocks geography and removed April 2018 on.\n",
       "\n",
       "\n",
       " \n",
       "\n",
       "## Contacts\n",
       "\n",
       "* **Wrangler** [Eric Busboom](mailto:eric@civicknowledge.com), [Civic Knowledge](http://civicknowledge.com)\n",
       "\n",
       "## Resources\n",
       "\n",
       "* ** [neighborhood_totals](data/neighborhood_totals.csv)**. Totals for each of the neighborhoods for 2018 and 2019, from the published Downtown San Diego Partnership statistics\n",
       "* ** [monthly_totals](data/monthly_totals.csv)**. Monthly totals since 2012, from the published Downtown San Diego Partnership statistics\n",
       "* ** [homeless_counts](data/homeless_counts.csv)**. Counts of homeless sleepers in Downtown San Diego, 2014 to mid 2018.\n",
       "* ** [imputed_counts](data/imputed_counts.csv)**. The homeless_counts file with missing months probablistically imputed\n",
       "* ** [downtown_blocks](data/downtown_blocks.csv)**. Census TIGER geographic regions for the blocks that have one or more homeless sleepers in this dataset.\n",
       "\n",
       "## References\n",
       "<ul><li> <strong>counts</string>, <em>metapack+http://library.metatab.org/sandiegodata.org-downtown_homeless-source-6.csv#counts</em>. Final homeless sleeper counts</li><li> <strong>files</string>, <em>metapack+http://library.metatab.org/sandiegodata.org-downtown_homeless-source-6.csv#files</em>. Final file annotations, including total counts, temperature and weather.</li><li> <strong>blocks</string>, <em>shape+https://www2.census.gov/geo/pvs/tiger2010st/06_California/06073/tl_2010_06073_tabblock10.zip</em>. 2010 Census blocks for San Diego County</li><ul>\n"
      ]
     },
     "execution_count": 2,
     "metadata": {},
     "output_type": "execute_result"
    }
   ],
   "source": [
    "pkg = mp.jupyter.open_package()\n",
    "\n",
    "# For testing and development\n",
    "#pkg = mp.open_package('http://s3.amazonaws.com/library.metatab.org/cde.ca.gov-accountability_dashboard-2.zip')\n",
    "\n",
    "pkg"
   ]
  },
  {
   "cell_type": "code",
   "execution_count": 3,
   "metadata": {
    "tags": [
     "resource_name"
    ]
   },
   "outputs": [],
   "source": [
    "resource_name='homeless_counts'"
   ]
  },
  {
   "cell_type": "code",
   "execution_count": 4,
   "metadata": {},
   "outputs": [
    {
     "data": {
      "text/html": [
       "<h3><a name=\"resource-homeless_counts\"></a>homeless_counts</h3><p><a target=\"_blank\" href=\"file:///Users/eric/proj/data-projects/downtown-partnership/datasets/sandiegodata.org-downtown_homeless/_packages/sandiegodata.org-dowtown_homeless-9/data/homeless_counts.csv\">file:///Users/eric/proj/data-projects/downtown-partnership/datasets/sandiegodata.org-downtown_homeless/_packages/sandiegodata.org-dowtown_homeless-9/data/homeless_counts.csv</a></p><table>\n",
       "<tr><th>Header</th><th>Type</th><th>Description</th></tr><tr><td>neighborhood</td><td>string</td><td>Neighborhood, from the label on the source map</td></tr> \n",
       "<tr><td>date</td><td>date</td><td>Date of the observation. Many dates have no know day of month; for these dates, the day of month is set to 1</td></tr> \n",
       "<tr><td>type</td><td>string</td><td>Type of sleeper: individual, vehicle or structure</td></tr> \n",
       "<tr><td>temp</td><td>float</td><td>Temperature, if it was written on the source map</td></tr> \n",
       "<tr><td>rain</td><td>string</td><td>Rain or clear, if it was written on the source map</td></tr> \n",
       "<tr><td>geoid</td><td>string</td><td>Census geoid for the 2010 Census block the observation is in, in ACS format</td></tr> \n",
       "<tr><td>x</td><td>number</td><td>X geographic position, in California State Plane 6, EPSG:2230</td></tr> \n",
       "<tr><td>y</td><td>number</td><td>Y geographic position, in California State Plane 6, EPSG:2230</td></tr> \n",
       "<tr><td>geometry</td><td>string</td><td>Geographic position of observation, in Lat/Lon, EPSG:4326</td></tr> </table>"
      ],
      "text/plain": [
       "<Resource: metadata.csv 35:1 root.datafile data/homeless_counts.csv ['homeless_counts', 'Counts of homeless sleepers in Downtown San Diego, 2014 to mid 2018.', '', '']>"
      ]
     },
     "execution_count": 4,
     "metadata": {},
     "output_type": "execute_result"
    }
   ],
   "source": [
    "pkg.resource(resource_name)"
   ]
  },
  {
   "cell_type": "code",
   "execution_count": 5,
   "metadata": {},
   "outputs": [],
   "source": [
    "df = pkg.resource(resource_name).read_csv(parse_dates=True)"
   ]
  },
  {
   "cell_type": "code",
   "execution_count": 6,
   "metadata": {},
   "outputs": [
    {
     "data": {
      "text/html": [
       "<div>\n",
       "<style scoped>\n",
       "    .dataframe tbody tr th:only-of-type {\n",
       "        vertical-align: middle;\n",
       "    }\n",
       "\n",
       "    .dataframe tbody tr th {\n",
       "        vertical-align: top;\n",
       "    }\n",
       "\n",
       "    .dataframe thead th {\n",
       "        text-align: right;\n",
       "    }\n",
       "</style>\n",
       "<table border=\"1\" class=\"dataframe\">\n",
       "  <thead>\n",
       "    <tr style=\"text-align: right;\">\n",
       "      <th></th>\n",
       "      <th>neighborhood</th>\n",
       "      <th>date</th>\n",
       "      <th>type</th>\n",
       "      <th>temp</th>\n",
       "      <th>rain</th>\n",
       "      <th>geoid</th>\n",
       "      <th>x</th>\n",
       "      <th>y</th>\n",
       "      <th>geometry</th>\n",
       "    </tr>\n",
       "  </thead>\n",
       "  <tbody>\n",
       "    <tr>\n",
       "      <th>0</th>\n",
       "      <td>east_village</td>\n",
       "      <td>2014-01-01</td>\n",
       "      <td>individual</td>\n",
       "      <td>NaN</td>\n",
       "      <td>NaN</td>\n",
       "      <td>10100US060730052002017</td>\n",
       "      <td>6.283584e+06</td>\n",
       "      <td>1.840917e+06</td>\n",
       "      <td>POLYGON ((-117.153825 32.714699, -117.153815 3...</td>\n",
       "    </tr>\n",
       "    <tr>\n",
       "      <th>1</th>\n",
       "      <td>east_village</td>\n",
       "      <td>2014-01-01</td>\n",
       "      <td>individual</td>\n",
       "      <td>NaN</td>\n",
       "      <td>NaN</td>\n",
       "      <td>10100US060730052002017</td>\n",
       "      <td>6.283584e+06</td>\n",
       "      <td>1.840917e+06</td>\n",
       "      <td>POLYGON ((-117.153825 32.714699, -117.153815 3...</td>\n",
       "    </tr>\n",
       "    <tr>\n",
       "      <th>2</th>\n",
       "      <td>east_village</td>\n",
       "      <td>2014-01-01</td>\n",
       "      <td>individual</td>\n",
       "      <td>NaN</td>\n",
       "      <td>NaN</td>\n",
       "      <td>10100US060730052002017</td>\n",
       "      <td>6.283584e+06</td>\n",
       "      <td>1.840917e+06</td>\n",
       "      <td>POLYGON ((-117.153825 32.714699, -117.153815 3...</td>\n",
       "    </tr>\n",
       "    <tr>\n",
       "      <th>3</th>\n",
       "      <td>east_village</td>\n",
       "      <td>2014-01-01</td>\n",
       "      <td>individual</td>\n",
       "      <td>NaN</td>\n",
       "      <td>NaN</td>\n",
       "      <td>10100US060730052002017</td>\n",
       "      <td>6.283584e+06</td>\n",
       "      <td>1.840917e+06</td>\n",
       "      <td>POLYGON ((-117.153825 32.714699, -117.153815 3...</td>\n",
       "    </tr>\n",
       "    <tr>\n",
       "      <th>4</th>\n",
       "      <td>east_village</td>\n",
       "      <td>2014-01-01</td>\n",
       "      <td>individual</td>\n",
       "      <td>NaN</td>\n",
       "      <td>NaN</td>\n",
       "      <td>10100US060730052002017</td>\n",
       "      <td>6.283584e+06</td>\n",
       "      <td>1.840917e+06</td>\n",
       "      <td>POLYGON ((-117.153825 32.714699, -117.153815 3...</td>\n",
       "    </tr>\n",
       "  </tbody>\n",
       "</table>\n",
       "</div>"
      ],
      "text/plain": [
       "   neighborhood       date        type  temp rain                   geoid  \\\n",
       "0  east_village 2014-01-01  individual   NaN  NaN  10100US060730052002017   \n",
       "1  east_village 2014-01-01  individual   NaN  NaN  10100US060730052002017   \n",
       "2  east_village 2014-01-01  individual   NaN  NaN  10100US060730052002017   \n",
       "3  east_village 2014-01-01  individual   NaN  NaN  10100US060730052002017   \n",
       "4  east_village 2014-01-01  individual   NaN  NaN  10100US060730052002017   \n",
       "\n",
       "              x             y  \\\n",
       "0  6.283584e+06  1.840917e+06   \n",
       "1  6.283584e+06  1.840917e+06   \n",
       "2  6.283584e+06  1.840917e+06   \n",
       "3  6.283584e+06  1.840917e+06   \n",
       "4  6.283584e+06  1.840917e+06   \n",
       "\n",
       "                                            geometry  \n",
       "0  POLYGON ((-117.153825 32.714699, -117.153815 3...  \n",
       "1  POLYGON ((-117.153825 32.714699, -117.153815 3...  \n",
       "2  POLYGON ((-117.153825 32.714699, -117.153815 3...  \n",
       "3  POLYGON ((-117.153825 32.714699, -117.153815 3...  \n",
       "4  POLYGON ((-117.153825 32.714699, -117.153815 3...  "
      ]
     },
     "execution_count": 6,
     "metadata": {},
     "output_type": "execute_result"
    }
   ],
   "source": [
    "df.head()"
   ]
  },
  {
   "cell_type": "code",
   "execution_count": 7,
   "metadata": {},
   "outputs": [],
   "source": [
    "empty_col_names = [cn for cn in df.columns if df[cn].nunique() == 0]\n",
    "const_col_names= [cn for cn in df.columns if df[cn].nunique() == 1]\n",
    "ignore_cols = empty_col_names+const_col_names\n",
    "dt_col_names= list(df.select_dtypes(include=[np.datetime64]).columns)\n",
    "\n",
    "number_col_names = [ cn for cn in df.select_dtypes(include=[np.number]).columns if cn not in ignore_cols ]\n",
    "other_col_names = [cn for cn in df.columns if cn not in (empty_col_names+const_col_names+dt_col_names+number_col_names)]"
   ]
  },
  {
   "cell_type": "code",
   "execution_count": 8,
   "metadata": {},
   "outputs": [
    {
     "data": {
      "text/html": [
       "<div>\n",
       "<style scoped>\n",
       "    .dataframe tbody tr th:only-of-type {\n",
       "        vertical-align: middle;\n",
       "    }\n",
       "\n",
       "    .dataframe tbody tr th {\n",
       "        vertical-align: top;\n",
       "    }\n",
       "\n",
       "    .dataframe thead th {\n",
       "        text-align: right;\n",
       "    }\n",
       "</style>\n",
       "<table border=\"1\" class=\"dataframe\">\n",
       "  <thead>\n",
       "    <tr style=\"text-align: right;\">\n",
       "      <th></th>\n",
       "      <th>count</th>\n",
       "    </tr>\n",
       "  </thead>\n",
       "  <tbody>\n",
       "    <tr>\n",
       "      <th>empty</th>\n",
       "      <td>0</td>\n",
       "    </tr>\n",
       "    <tr>\n",
       "      <th>const</th>\n",
       "      <td>0</td>\n",
       "    </tr>\n",
       "    <tr>\n",
       "      <th>datetime</th>\n",
       "      <td>1</td>\n",
       "    </tr>\n",
       "    <tr>\n",
       "      <th>number</th>\n",
       "      <td>3</td>\n",
       "    </tr>\n",
       "    <tr>\n",
       "      <th>other</th>\n",
       "      <td>5</td>\n",
       "    </tr>\n",
       "  </tbody>\n",
       "</table>\n",
       "</div>"
      ],
      "text/plain": [
       "          count\n",
       "empty         0\n",
       "const         0\n",
       "datetime      1\n",
       "number        3\n",
       "other         5"
      ]
     },
     "execution_count": 8,
     "metadata": {},
     "output_type": "execute_result"
    }
   ],
   "source": [
    "pd.DataFrame.from_dict({'empty':[len(empty_col_names)], \n",
    "                        'const':[len(const_col_names)],\n",
    "                        'datetime':[len(dt_col_names)],\n",
    "                        'number':[len(number_col_names)],\n",
    "                        'other':[len(other_col_names)],\n",
    "                       }, \n",
    "                       orient='index', columns=['count'])"
   ]
  },
  {
   "cell_type": "markdown",
   "metadata": {},
   "source": [
    "# Constant Columns"
   ]
  },
  {
   "cell_type": "code",
   "execution_count": 9,
   "metadata": {},
   "outputs": [],
   "source": [
    "if const_col_names:\n",
    "    display(df[const_col_names].drop_duplicates().T)"
   ]
  },
  {
   "cell_type": "markdown",
   "metadata": {},
   "source": [
    "# Empty Columns"
   ]
  },
  {
   "cell_type": "code",
   "execution_count": 10,
   "metadata": {},
   "outputs": [],
   "source": [
    "if empty_col_names:\n",
    "    display(df[empty_col_names].drop_duplicates().T)"
   ]
  },
  {
   "cell_type": "markdown",
   "metadata": {},
   "source": [
    "# Date and Time Columns"
   ]
  },
  {
   "cell_type": "code",
   "execution_count": 11,
   "metadata": {},
   "outputs": [
    {
     "name": "stdout",
     "output_type": "stream",
     "text": [
      "<class 'pandas.core.frame.DataFrame'>\n",
      "RangeIndex: 39202 entries, 0 to 39201\n",
      "Data columns (total 1 columns):\n",
      "date    39202 non-null datetime64[ns]\n",
      "dtypes: datetime64[ns](1)\n",
      "memory usage: 306.3 KB\n"
     ]
    },
    {
     "data": {
      "text/plain": [
       "None"
      ]
     },
     "metadata": {},
     "output_type": "display_data"
    },
    {
     "data": {
      "text/html": [
       "<div>\n",
       "<style scoped>\n",
       "    .dataframe tbody tr th:only-of-type {\n",
       "        vertical-align: middle;\n",
       "    }\n",
       "\n",
       "    .dataframe tbody tr th {\n",
       "        vertical-align: top;\n",
       "    }\n",
       "\n",
       "    .dataframe thead th {\n",
       "        text-align: right;\n",
       "    }\n",
       "</style>\n",
       "<table border=\"1\" class=\"dataframe\">\n",
       "  <thead>\n",
       "    <tr style=\"text-align: right;\">\n",
       "      <th></th>\n",
       "      <th>count</th>\n",
       "      <th>unique</th>\n",
       "      <th>top</th>\n",
       "      <th>freq</th>\n",
       "      <th>first</th>\n",
       "      <th>last</th>\n",
       "    </tr>\n",
       "  </thead>\n",
       "  <tbody>\n",
       "    <tr>\n",
       "      <th>date</th>\n",
       "      <td>39202</td>\n",
       "      <td>85</td>\n",
       "      <td>2016-12-29 00:00:00</td>\n",
       "      <td>1414</td>\n",
       "      <td>2014-01-01 00:00:00</td>\n",
       "      <td>2018-02-21 00:00:00</td>\n",
       "    </tr>\n",
       "  </tbody>\n",
       "</table>\n",
       "</div>"
      ],
      "text/plain": [
       "      count unique                  top  freq                first  \\\n",
       "date  39202     85  2016-12-29 00:00:00  1414  2014-01-01 00:00:00   \n",
       "\n",
       "                     last  \n",
       "date  2018-02-21 00:00:00  "
      ]
     },
     "metadata": {},
     "output_type": "display_data"
    }
   ],
   "source": [
    "if dt_col_names:\n",
    "    display(df[dt_col_names].info())\n",
    "    display(df[dt_col_names].describe().T)"
   ]
  },
  {
   "cell_type": "markdown",
   "metadata": {},
   "source": [
    "# Number Columns"
   ]
  },
  {
   "cell_type": "code",
   "execution_count": 12,
   "metadata": {},
   "outputs": [
    {
     "name": "stdout",
     "output_type": "stream",
     "text": [
      "<class 'pandas.core.frame.DataFrame'>\n",
      "RangeIndex: 39202 entries, 0 to 39201\n",
      "Data columns (total 3 columns):\n",
      "temp    14190 non-null float64\n",
      "x       39202 non-null float64\n",
      "y       39202 non-null float64\n",
      "dtypes: float64(3)\n",
      "memory usage: 918.9 KB\n"
     ]
    },
    {
     "data": {
      "text/plain": [
       "None"
      ]
     },
     "metadata": {},
     "output_type": "display_data"
    },
    {
     "data": {
      "text/html": [
       "<div>\n",
       "<style scoped>\n",
       "    .dataframe tbody tr th:only-of-type {\n",
       "        vertical-align: middle;\n",
       "    }\n",
       "\n",
       "    .dataframe tbody tr th {\n",
       "        vertical-align: top;\n",
       "    }\n",
       "\n",
       "    .dataframe thead th {\n",
       "        text-align: right;\n",
       "    }\n",
       "</style>\n",
       "<table border=\"1\" class=\"dataframe\">\n",
       "  <thead>\n",
       "    <tr style=\"text-align: right;\">\n",
       "      <th></th>\n",
       "      <th>count</th>\n",
       "      <th>mean</th>\n",
       "      <th>std</th>\n",
       "      <th>min</th>\n",
       "      <th>25%</th>\n",
       "      <th>50%</th>\n",
       "      <th>75%</th>\n",
       "      <th>max</th>\n",
       "    </tr>\n",
       "  </thead>\n",
       "  <tbody>\n",
       "    <tr>\n",
       "      <th>temp</th>\n",
       "      <td>14190.0</td>\n",
       "      <td>5.671952e+01</td>\n",
       "      <td>7.238765</td>\n",
       "      <td>4.200000e+01</td>\n",
       "      <td>5.200000e+01</td>\n",
       "      <td>5.800000e+01</td>\n",
       "      <td>6.400000e+01</td>\n",
       "      <td>6.700000e+01</td>\n",
       "    </tr>\n",
       "    <tr>\n",
       "      <th>x</th>\n",
       "      <td>39202.0</td>\n",
       "      <td>6.283261e+06</td>\n",
       "      <td>1786.339832</td>\n",
       "      <td>6.278185e+06</td>\n",
       "      <td>6.281792e+06</td>\n",
       "      <td>6.283803e+06</td>\n",
       "      <td>6.284873e+06</td>\n",
       "      <td>6.285441e+06</td>\n",
       "    </tr>\n",
       "    <tr>\n",
       "      <th>y</th>\n",
       "      <td>39202.0</td>\n",
       "      <td>1.840108e+06</td>\n",
       "      <td>1463.591121</td>\n",
       "      <td>1.837472e+06</td>\n",
       "      <td>1.838919e+06</td>\n",
       "      <td>1.839708e+06</td>\n",
       "      <td>1.841218e+06</td>\n",
       "      <td>1.844135e+06</td>\n",
       "    </tr>\n",
       "  </tbody>\n",
       "</table>\n",
       "</div>"
      ],
      "text/plain": [
       "        count          mean          std           min           25%  \\\n",
       "temp  14190.0  5.671952e+01     7.238765  4.200000e+01  5.200000e+01   \n",
       "x     39202.0  6.283261e+06  1786.339832  6.278185e+06  6.281792e+06   \n",
       "y     39202.0  1.840108e+06  1463.591121  1.837472e+06  1.838919e+06   \n",
       "\n",
       "               50%           75%           max  \n",
       "temp  5.800000e+01  6.400000e+01  6.700000e+01  \n",
       "x     6.283803e+06  6.284873e+06  6.285441e+06  \n",
       "y     1.839708e+06  1.841218e+06  1.844135e+06  "
      ]
     },
     "metadata": {},
     "output_type": "display_data"
    }
   ],
   "source": [
    "if number_col_names:\n",
    "    display(df[number_col_names].info())\n",
    "    display(df[number_col_names].describe().T)"
   ]
  },
  {
   "cell_type": "markdown",
   "metadata": {},
   "source": [
    "## Distributions"
   ]
  },
  {
   "cell_type": "code",
   "execution_count": 13,
   "metadata": {
    "scrolled": false
   },
   "outputs": [],
   "source": [
    "def plot_histograms(df):\n",
    "\n",
    "    col_names = list(df.columns)\n",
    "\n",
    "    n_cols = np.ceil(np.sqrt(len(col_names)))\n",
    "    n_rows = np.ceil(np.sqrt(len(col_names)))\n",
    "\n",
    "    #plt.figure(figsize=(3*n_cols,3*n_rows))\n",
    "    fig, ax = plt.subplots(figsize=(3*n_cols,3*n_rows))\n",
    "    \n",
    "    for i in range(0,len(col_names)):\n",
    "        plt.subplot(n_rows + 1,n_cols,i+1)\n",
    "        try:\n",
    "            g = sns.distplot(df[col_names[i]].dropna(),kde=True) \n",
    "            g.set(xticklabels=[])\n",
    "            g.set(yticklabels=[])\n",
    "        except:\n",
    "            pass\n",
    "        \n",
    "    plt.tight_layout()\n",
    "        \n"
   ]
  },
  {
   "cell_type": "code",
   "execution_count": 14,
   "metadata": {},
   "outputs": [
    {
     "data": {
      "image/png": "[encoded data removed]",
      "text/plain": [
       "<Figure size 432x432 with 3 Axes>"
      ]
     },
     "metadata": {
      "needs_background": "light"
     },
     "output_type": "display_data"
    }
   ],
   "source": [
    "plot_histograms(df[number_col_names])"
   ]
  },
  {
   "cell_type": "markdown",
   "metadata": {},
   "source": [
    "## Box Plots"
   ]
  },
  {
   "cell_type": "code",
   "execution_count": 15,
   "metadata": {},
   "outputs": [],
   "source": [
    "def plot_boxes(df):\n",
    "\n",
    "    col_names = list(df.columns)\n",
    "\n",
    "    n_cols = np.ceil(np.sqrt(len(col_names)))\n",
    "    n_rows = np.ceil(np.sqrt(len(col_names)))\n",
    "\n",
    "    #plt.figure(figsize=(2*n_cols,3*n_rows))\n",
    "    fig, ax = plt.subplots(figsize=(2*n_cols,5*n_rows))\n",
    "    \n",
    "    for i in range(0,len(col_names)):\n",
    "        plt.subplot(n_rows + 1,n_cols,i+1)\n",
    "        try:\n",
    "            g = sns.boxplot(df[col_names[i]].dropna(),orient='v') \n",
    "        except:\n",
    "            pass\n",
    "        \n",
    "    plt.tight_layout()\n",
    "  "
   ]
  },
  {
   "cell_type": "code",
   "execution_count": 16,
   "metadata": {},
   "outputs": [
    {
     "data": {
      "image/png": "[encoded data removed]",
      "text/plain": [
       "<Figure size 288x720 with 3 Axes>"
      ]
     },
     "metadata": {
      "needs_background": "light"
     },
     "output_type": "display_data"
    }
   ],
   "source": [
    "  \n",
    "plot_boxes(df[number_col_names])"
   ]
  },
  {
   "cell_type": "code",
   "execution_count": 17,
   "metadata": {},
   "outputs": [],
   "source": [
    "## Correlations"
   ]
  },
  {
   "cell_type": "code",
   "execution_count": 18,
   "metadata": {},
   "outputs": [
    {
     "data": {
      "text/plain": [
       "<matplotlib.axes._subplots.AxesSubplot at 0x7f8b60788588>"
      ]
     },
     "execution_count": 18,
     "metadata": {},
     "output_type": "execute_result"
    },
    {
     "data": {
      "image/png": "[encoded data removed]",
      "text/plain": [
       "<Figure size 108x108 with 2 Axes>"
      ]
     },
     "metadata": {
      "needs_background": "light"
     },
     "output_type": "display_data"
    }
   ],
   "source": [
    "\n",
    "cm = df[number_col_names].corr()\n",
    "\n",
    "mask = np.zeros_like(cm, dtype=np.bool)\n",
    "mask[np.triu_indices_from(mask)] = True\n",
    "\n",
    "plt.figure(figsize=(.5*len(number_col_names),.5*len(number_col_names)))\n",
    "sns.heatmap(cm, mask=mask, cmap = 'viridis')   "
   ]
  },
  {
   "cell_type": "markdown",
   "metadata": {},
   "source": [
    "# Other Columns"
   ]
  },
  {
   "cell_type": "code",
   "execution_count": 19,
   "metadata": {},
   "outputs": [
    {
     "name": "stdout",
     "output_type": "stream",
     "text": [
      "<class 'pandas.core.frame.DataFrame'>\n",
      "RangeIndex: 39202 entries, 0 to 39201\n",
      "Data columns (total 5 columns):\n",
      "neighborhood    39202 non-null object\n",
      "type            39202 non-null object\n",
      "rain            17119 non-null object\n",
      "geoid           39202 non-null object\n",
      "geometry        39202 non-null object\n",
      "dtypes: object(5)\n",
      "memory usage: 1.5+ MB\n"
     ]
    },
    {
     "data": {
      "text/plain": [
       "None"
      ]
     },
     "metadata": {},
     "output_type": "display_data"
    },
    {
     "data": {
      "text/html": [
       "<div>\n",
       "<style scoped>\n",
       "    .dataframe tbody tr th:only-of-type {\n",
       "        vertical-align: middle;\n",
       "    }\n",
       "\n",
       "    .dataframe tbody tr th {\n",
       "        vertical-align: top;\n",
       "    }\n",
       "\n",
       "    .dataframe thead th {\n",
       "        text-align: right;\n",
       "    }\n",
       "</style>\n",
       "<table border=\"1\" class=\"dataframe\">\n",
       "  <thead>\n",
       "    <tr style=\"text-align: right;\">\n",
       "      <th></th>\n",
       "      <th>count</th>\n",
       "      <th>unique</th>\n",
       "      <th>top</th>\n",
       "      <th>freq</th>\n",
       "    </tr>\n",
       "  </thead>\n",
       "  <tbody>\n",
       "    <tr>\n",
       "      <th>neighborhood</th>\n",
       "      <td>39202</td>\n",
       "      <td>6</td>\n",
       "      <td>east_village</td>\n",
       "      <td>25522</td>\n",
       "    </tr>\n",
       "    <tr>\n",
       "      <th>type</th>\n",
       "      <td>39202</td>\n",
       "      <td>3</td>\n",
       "      <td>individual</td>\n",
       "      <td>37052</td>\n",
       "    </tr>\n",
       "    <tr>\n",
       "      <th>rain</th>\n",
       "      <td>17119</td>\n",
       "      <td>2</td>\n",
       "      <td>clear</td>\n",
       "      <td>14827</td>\n",
       "    </tr>\n",
       "    <tr>\n",
       "      <th>geoid</th>\n",
       "      <td>39202</td>\n",
       "      <td>287</td>\n",
       "      <td>10100US060730051001013</td>\n",
       "      <td>2297</td>\n",
       "    </tr>\n",
       "    <tr>\n",
       "      <th>geometry</th>\n",
       "      <td>39202</td>\n",
       "      <td>287</td>\n",
       "      <td>POLYGON ((-117.148533 32.706671, -117.148531 3...</td>\n",
       "      <td>2297</td>\n",
       "    </tr>\n",
       "  </tbody>\n",
       "</table>\n",
       "</div>"
      ],
      "text/plain": [
       "              count unique                                                top  \\\n",
       "neighborhood  39202      6                                       east_village   \n",
       "type          39202      3                                         individual   \n",
       "rain          17119      2                                              clear   \n",
       "geoid         39202    287                             10100US060730051001013   \n",
       "geometry      39202    287  POLYGON ((-117.148533 32.706671, -117.148531 3...   \n",
       "\n",
       "               freq  \n",
       "neighborhood  25522  \n",
       "type          37052  \n",
       "rain          14827  \n",
       "geoid          2297  \n",
       "geometry       2297  "
      ]
     },
     "metadata": {},
     "output_type": "display_data"
    }
   ],
   "source": [
    "if other_col_names:\n",
    "    display(df[other_col_names].info())\n",
    "    display(df[other_col_names].describe().T)"
   ]
  },
  {
   "cell_type": "markdown",
   "metadata": {},
   "source": [
    "# Nulls\n"
   ]
  },
  {
   "cell_type": "code",
   "execution_count": 20,
   "metadata": {},
   "outputs": [
    {
     "data": {
      "text/plain": [
       "<matplotlib.axes._subplots.AxesSubplot at 0x7f8b39909f28>"
      ]
     },
     "execution_count": 20,
     "metadata": {},
     "output_type": "execute_result"
    },
    {
     "data": {
      "image/png": "[encoded data removed]",
      "text/plain": [
       "<Figure size 1080x324 with 1 Axes>"
      ]
     },
     "metadata": {
      "needs_background": "light"
     },
     "output_type": "display_data"
    }
   ],
   "source": [
    "cols = dt_col_names + number_col_names + other_col_names\n",
    "\n",
    "fig, ax = plt.subplots(figsize=(15,.5*len(cols)))\n",
    "sns.heatmap(df[cols].isnull().T,cbar=False,xticklabels=False,cmap = 'viridis', ax=ax )"
   ]
  }
 ],
 "metadata": {
  "celltoolbar": "Tags",
  "kernelspec": {
   "display_name": "Python 3",
   "language": "python",
   "name": "python3"
  },
  "language_info": {
   "codemirror_mode": {
    "name": "ipython",
    "version": 3
   },
   "file_extension": ".py",
   "mimetype": "text/x-python",
   "name": "python",
   "nbconvert_exporter": "python",
   "pygments_lexer": "ipython3",
   "version": "3.6.8"
  }
 },
 "nbformat": 4,
 "nbformat_minor": 2
}
