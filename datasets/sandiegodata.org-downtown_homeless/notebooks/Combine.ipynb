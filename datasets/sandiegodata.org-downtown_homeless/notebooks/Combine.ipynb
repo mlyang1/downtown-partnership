{
 "cells": [
  {
   "cell_type": "code",
   "execution_count": 6,
   "metadata": {},
   "outputs": [],
   "source": [
    "import seaborn as sns\n",
    "import metapack as mp\n",
    "import pandas as pd\n",
    "import geopandas as gpd\n",
    "import numpy as np\n",
    "import matplotlib.pyplot as plt\n",
    "from IPython.display import display \n",
    "\n",
    "%matplotlib inline\n",
    "sns.set_context('notebook')\n",
    "mp.jupyter.init()\n"
   ]
  },
  {
   "cell_type": "markdown",
   "metadata": {},
   "source": [
    "# Combine Data and Randomize points\n",
    "\n",
    "Combine the ``files`` and ``counts`` datasets and disaggregate the points. \n"
   ]
  },
  {
   "cell_type": "code",
   "execution_count": 4,
   "metadata": {},
   "outputs": [
    {
     "data": {
      "text/html": [
       "<p><code>sandiegodata.org-dowtown_homeless-1</code> Last Update: 2019-09-24T21:57:54</p>\n",
       "<p>__</p>\n",
       "<p>This dataset provides geographic locations for homeless sleepers in Downtown San Diego, as counted by enumerators from the Downtown San Diego Partnership. These counts have been done monthly since 2012, and this dataset provides counts since 2014. </p>\n",
       "<p>The count is done on paper maps with handwritten count marks. The San Diego\n",
       "Regional Data Library's <a href=\"http://downtown-homelessness.sandiegodata.org/\">Downton Homelessness\n",
       "project</a> converted these\n",
       "scanned count maps using a <a href=\"http://www.robots.ox.ac.uk/~vgg/software/via/\">web based image annotation\n",
       "tool</a>.</p>\n",
       "<h2>Caveats</h2>\n",
       "<p>For the <code>files</code> data: </p>\n",
       "<ul>\n",
       "<li>The <code>total_count</code> often does not match the sum of counts on the map. These sums were made by hand, buy the enumerator who made the counts, so there are occasional arithmetic errors.  </li>\n",
       "<li>There are many instances of missing values for <code>rain</code> or <code>temp</code></li>\n",
       "<li>Some dates include the day of the month, but many don't These dates have a day of month of 1</li>\n",
       "</ul>\n",
       "<h2>Contacts</h2>\n",
       "<ul>\n",
       "<li><strong>Wrangler</strong> <a href=\"mailto:eric@civicknowledge.com\">Eric Busboom</a>, <a href=\"http://civicknowledge.com\">Civic Knowledge</a></li>\n",
       "</ul>\n",
       "<h2>Resources</h2>\n",
       "<ul>\n",
       "<li><strong> <a href=\"file:data/counts.csv#&amp;encoding=ascii\">counts</a></strong>. Final homeless sleeper counts</li>\n",
       "<li><strong> <a href=\"file:data/files.csv#&amp;encoding=ascii\">files</a></strong>. Final file annotations, including total counts, temperature and weather.</li>\n",
       "</ul>"
      ],
      "text/plain": [
       "\n",
       "`sandiegodata.org-dowtown_homeless-1` Last Update: 2019-09-24T21:57:54\n",
       "\n",
       "__\n",
       "\n",
       "\n",
       "This dataset provides geographic locations for homeless sleepers in Downtown San Diego, as counted by enumerators from the Downtown San Diego Partnership. These counts have been done monthly since 2012, and this dataset provides counts since 2014. \n",
       "\n",
       "The count is done on paper maps with handwritten count marks. The San Diego\n",
       "Regional Data Library's [Downton Homelessness\n",
       "project](http://downtown-homelessness.sandiegodata.org/) converted these\n",
       "scanned count maps using a [web based image annotation\n",
       "tool](http://www.robots.ox.ac.uk/~vgg/software/via/).\n",
       "\n",
       "\n",
       "## Caveats\n",
       "\n",
       "For the ``files`` data: \n",
       "\n",
       "* The ``total_count`` often does not match the sum of counts on the map. These sums were made by hand, buy the enumerator who made the counts, so there are occasional arithmetic errors.  \n",
       "* There are many instances of missing values for ``rain`` or ``temp``\n",
       "* Some dates include the day of the month, but many don't These dates have a day of month of 1\n",
       "\n",
       "\n",
       " \n",
       "\n",
       "## Contacts\n",
       "\n",
       "* **Wrangler** [Eric Busboom](mailto:eric@civicknowledge.com), [Civic Knowledge](http://civicknowledge.com)\n",
       "\n",
       "## Resources\n",
       "\n",
       "* ** [counts](file:data/counts.csv#&encoding=ascii)**. Final homeless sleeper counts\n",
       "* ** [files](file:data/files.csv#&encoding=ascii)**. Final file annotations, including total counts, temperature and weather.\n"
      ]
     },
     "execution_count": 4,
     "metadata": {},
     "output_type": "execute_result"
    }
   ],
   "source": [
    "#pkg = mp.jupyter.open_package()\n",
    "pkg = mp.jupyter.open_source_package()\n",
    "pkg"
   ]
  },
  {
   "cell_type": "code",
   "execution_count": 5,
   "metadata": {},
   "outputs": [],
   "source": [
    "files = pkg.resource('files')\n",
    "count = pkg.resource('counts')"
   ]
  },
  {
   "cell_type": "code",
   "execution_count": null,
   "metadata": {},
   "outputs": [],
   "source": []
  }
 ],
 "metadata": {
  "kernelspec": {
   "display_name": "Python 3 (ipykernel)",
   "language": "python",
   "name": "python3"
  },
  "language_info": {
   "codemirror_mode": {
    "name": "ipython",
    "version": 3
   },
   "file_extension": ".py",
   "mimetype": "text/x-python",
   "name": "python",
   "nbconvert_exporter": "python",
   "pygments_lexer": "ipython3",
   "version": "3.10.6"
  }
 },
 "nbformat": 4,
 "nbformat_minor": 4
}
