{
 "cells": [
  {
   "cell_type": "code",
   "execution_count": 1,
   "metadata": {},
   "outputs": [
    {
     "name": "stdout",
     "output_type": "stream",
     "text": [
      "{\n",
      "  \"shell_port\": 64662,\n",
      "  \"iopub_port\": 64663,\n",
      "  \"stdin_port\": 64664,\n",
      "  \"control_port\": 64666,\n",
      "  \"hb_port\": 64665,\n",
      "  \"ip\": \"127.0.0.1\",\n",
      "  \"key\": \"6ecf7d88-20d879e9ef48f89ce1b4e6b8\",\n",
      "  \"transport\": \"tcp\",\n",
      "  \"signature_scheme\": \"hmac-sha256\",\n",
      "  \"kernel_name\": \"\"\n",
      "}\n",
      "\n",
      "Paste the above JSON into a file, and connect with:\n",
      "    $> jupyter <app> --existing <file>\n",
      "or, if you are local, you can connect with just:\n",
      "    $> jupyter <app> --existing kernel-d94d2873-97c9-4d49-b575-6804f22a445a.json\n",
      "or even just:\n",
      "    $> jupyter <app> --existing\n",
      "if this is the most recent Jupyter kernel you have started.\n"
     ]
    }
   ],
   "source": [
    "import seaborn as sns\n",
    "import metapack as mp\n",
    "import pandas as pd\n",
    "import numpy as np\n",
    "import matplotlib.pyplot as plt\n",
    "from IPython.display import display \n",
    "from dtcv import get_image # Local package for \"downtown computer vision\"\n",
    "import cv2\n",
    "\n",
    "%matplotlib inline\n",
    "sns.set_context('notebook')\n",
    "mp.jupyter.init()\n",
    "%connect_info"
   ]
  },
  {
   "cell_type": "code",
   "execution_count": 2,
   "metadata": {},
   "outputs": [
    {
     "data": {
      "text/html": [
       "<h1>San Diego Downtown Homless Computer Vision Package</h1>\n",
       "<p><code>sandiegodata.org-downtown_cv-5</code> Last Update: 2019-09-13T04:52:01</p>\n",
       "<p><em>Files and code for analyzing San Diego downtown homelessness  data with computer vision</em></p>\n",
       "<p>This dataset collects records related to a conversion of 5 years of paper maps\n",
       "that record positions of homeless sleepers in downtown San Diego. The San Diego\n",
       "Regional Data Library is <a href=\"http://downtown-homelessness.sandiegodata.org/\">converting these paper maps to a digital\n",
       "form</a> with a manual process that\n",
       "uses an image annotation tool, and theses annotations can be used to train\n",
       "computer vision algorithms to georeference maps and recognize handwritten marks.</p>\n",
       "<p>These datasets link to map urls and annotations, for three kinds of annotations:</p>\n",
       "<ul>\n",
       "<li>Ground Control Points, which identify the map image locations for known intersections, linking image coordinates ( in pixels ) to geographic coordinates.</li>\n",
       "<li>Image locations of handwritten marks and the number written in the mark.</li>\n",
       "<li>File annotations, for other handwritten notes such as the temperature and presence of rain. </li>\n",
       "</ul>\n",
       "<h2>More Information:</h2>\n",
       "<ul>\n",
       "<li><a href=\"https://www.sandiegodata.org/2019/09/computer-vision-for-greater-good/\">Blog Post</a>. For more discussion about the GCP and handwritten marks, and the tasks in volved\n",
       "in developing computer vision algorithms for these data, see our recent blog\n",
       "post on the subject.</li>\n",
       "<li><a href=\"https://nbviewer.jupyter.org/github/sandiegodata-projects/homelessness/blob/master/datasets/sandiegodata.org-downtown_cv/notebooks/Template%20Matching%20Clusters.ipynb\">Clustering Notebook</a>. For some examples of using OpenCV to extract and match templates, to georeference maps, see the Templates and Clustering Jupyter Notebook].</li>\n",
       "<li><a href=\"https://nbviewer.jupyter.org/github/sandiegodata-projects/homelessness/blob/master/datasets/sandiegodata.org-downtown_cv/notebooks/Extract%20Marks.ipynb\">Extract Marks Notebook</a>. For examples of extracting ( but not recognizing ) handwritten marks, see this notebook. </li>\n",
       "</ul>\n",
       "<h2>Developer notes</h2>\n",
       "<p>After anotation JSON files are copied into S#, the list of S# urls must be\n",
       "updated. To refresh the list of urls run</p>\n",
       "<pre><code>$  bin/update_s3.sh &lt;s3-profile&gt;\n",
       "</code></pre>\n",
       "<h2>Contacts</h2>\n",
       "<ul>\n",
       "<li><strong>Wrangler</strong> <a href=\"mailto:eric@civicknowledge.com\">Eric Busboom</a>, <a href=\"http://civicknowledge.com\">Civic Knowledge</a></li>\n",
       "</ul>\n",
       "<h2>Resources</h2>\n",
       "<ul>\n",
       "<li><strong> <a href=\"data/gcp.csv\">gcp</a></strong>. Ground control points</li>\n",
       "<li><strong> <a href=\"data/intersection_regions.csv\">intersection_regions</a></strong>. Polygon transformations for each the intersections of each map</li>\n",
       "<li><strong> <a href=\"data/intersections.csv\">intersections</a></strong>. List of intersections.</li>\n",
       "<li><strong> <a href=\"data/file_annotations.csv\">file_annotations</a></strong>. File annotations on count files</li>\n",
       "<li><strong> <a href=\"data/counts.csv\">counts</a></strong>. Annotation position, types and counts of handwritten marks</li>\n",
       "</ul>"
      ],
      "text/plain": [
       "# San Diego Downtown Homless Computer Vision Package\n",
       "`sandiegodata.org-downtown_cv-5` Last Update: 2019-09-13T04:52:01\n",
       "\n",
       "_Files and code for analyzing San Diego downtown homelessness  data with computer vision_\n",
       "\n",
       "\n",
       "This dataset collects records related to a conversion of 5 years of paper maps\n",
       "that record positions of homeless sleepers in downtown San Diego. The San Diego\n",
       "Regional Data Library is [converting these paper maps to a digital\n",
       "form](http://downtown-homelessness.sandiegodata.org/) with a manual process that\n",
       "uses an image annotation tool, and theses annotations can be used to train\n",
       "computer vision algorithms to georeference maps and recognize handwritten marks.\n",
       "\n",
       "These datasets link to map urls and annotations, for three kinds of annotations:\n",
       "\n",
       "* Ground Control Points, which identify the map image locations for known intersections, linking image coordinates ( in pixels ) to geographic coordinates.\n",
       "* Image locations of handwritten marks and the number written in the mark.\n",
       "* File annotations, for other handwritten notes such as the temperature and presence of rain. \n",
       "\n",
       "## More Information:\n",
       "\n",
       "* [Blog Post](https://www.sandiegodata.org/2019/09/computer-vision-for-greater-good/). For more discussion about the GCP and handwritten marks, and the tasks in volved\n",
       "in developing computer vision algorithms for these data, see our recent blog\n",
       "post on the subject.\n",
       "* [Clustering Notebook](https://nbviewer.jupyter.org/github/sandiegodata-projects/homelessness/blob/master/datasets/sandiegodata.org-downtown_cv/notebooks/Template%20Matching%20Clusters.ipynb). For some examples of using OpenCV to extract and match templates, to georeference maps, see the Templates and Clustering Jupyter Notebook].\n",
       "* [Extract Marks Notebook](https://nbviewer.jupyter.org/github/sandiegodata-projects/homelessness/blob/master/datasets/sandiegodata.org-downtown_cv/notebooks/Extract%20Marks.ipynb). For examples of extracting ( but not recognizing ) handwritten marks, see this notebook. \n",
       "\n",
       "\n",
       "## Developer notes\n",
       "\n",
       "After anotation JSON files are copied into S#, the list of S# urls must be\n",
       "updated. To refresh the list of urls run\n",
       "\n",
       "    $  bin/update_s3.sh <s3-profile>\n",
       "\n",
       "\n",
       " \n",
       "\n",
       "## Contacts\n",
       "\n",
       "* **Wrangler** [Eric Busboom](mailto:eric@civicknowledge.com), [Civic Knowledge](http://civicknowledge.com)\n",
       "\n",
       "## Resources\n",
       "\n",
       "* ** [gcp](data/gcp.csv)**. Ground control points\n",
       "* ** [intersection_regions](data/intersection_regions.csv)**. Polygon transformations for each the intersections of each map\n",
       "* ** [intersections](data/intersections.csv)**. List of intersections.\n",
       "* ** [file_annotations](data/file_annotations.csv)**. File annotations on count files\n",
       "* ** [counts](data/counts.csv)**. Annotation position, types and counts of handwritten marks\n"
      ]
     },
     "execution_count": 2,
     "metadata": {},
     "output_type": "execute_result"
    }
   ],
   "source": [
    "#pkg = mp.jupyter.open_package()\n",
    "#pkg = mp.jupyter.open_source_package()\n",
    "pkg = mp.open_package('http://library.metatab.org/sandiegodata.org-downtown_cv-5.zip')\n",
    "\n",
    "pkg"
   ]
  },
  {
   "cell_type": "code",
   "execution_count": 3,
   "metadata": {},
   "outputs": [
    {
     "data": {
      "text/html": [
       "<h3><a name=\"resource-counts\"></a>counts</h3><p><a target=\"_blank\" href=\"http://library.metatab.org/sandiegodata.org-downtown_cv-5.zip#data%2Fcounts.csv\">http://library.metatab.org/sandiegodata.org-downtown_cv-5.zip#data%2Fcounts.csv</a></p><table>\n",
       "<tr><th>Header</th><th>Type</th><th>Description</th></tr><tr><td>image_url</td><td>string</td><td>Map image URL</td></tr> \n",
       "<tr><td>cx</td><td>integer</td><td>X value of the center of the circle region, in pixels</td></tr> \n",
       "<tr><td>cy</td><td>integer</td><td>Y value of the center of the circle region in pixels</td></tr> \n",
       "<tr><td>r</td><td>integer</td><td>Radius of the circle region, in pixels</td></tr> \n",
       "<tr><td>type</td><td>string</td><td>Type of sleeper: Individual, Vehicle or Structure</td></tr> \n",
       "<tr><td>count</td><td>string</td><td>Count of sleepers</td></tr> </table>"
      ],
      "text/plain": [
       "<Resource: metadata.csv 32:1 root.datafile data/counts.csv ['counts', 'Annotation position, types and counts of handwritten marks', '']>"
      ]
     },
     "metadata": {},
     "output_type": "display_data"
    }
   ],
   "source": [
    "display(pkg.resource('counts'))\n",
    "counts = pkg.resource('counts').dataframe()"
   ]
  },
  {
   "cell_type": "code",
   "execution_count": 4,
   "metadata": {},
   "outputs": [],
   "source": [
    "# This may take a few minutes; it will download about 330 images and save them to the /tmp directory\n",
    "counts['image'] = counts.image_url.apply(get_image)\n",
    "\n",
    "counts['count'] = pd.to_numeric(counts['count'])"
   ]
  },
  {
   "cell_type": "code",
   "execution_count": 5,
   "metadata": {},
   "outputs": [
    {
     "data": {
      "text/plain": [
       "5598"
      ]
     },
     "execution_count": 5,
     "metadata": {},
     "output_type": "execute_result"
    }
   ],
   "source": [
    "len(counts)"
   ]
  },
  {
   "cell_type": "code",
   "execution_count": 6,
   "metadata": {},
   "outputs": [
    {
     "data": {
      "text/plain": [
       "<matplotlib.image.AxesImage at 0x18bcee220>"
      ]
     },
     "execution_count": 6,
     "metadata": {},
     "output_type": "execute_result"
    },
    {
     "data": {
      "image/png": "[encoded data removed]",
      "text/plain": [
       "<Figure size 432x288 with 1 Axes>"
      ]
     },
     "metadata": {
      "needs_background": "light"
     },
     "output_type": "display_data"
    }
   ],
   "source": [
    "def crop(row):\n",
    "    \"\"\"Crop the handwritten mark, and hopefully the shape around it, from the image\"\"\"\n",
    "    x, y, r = row.cx, row.cy, row.r\n",
    "    \n",
    "    r = int(r*1.0)\n",
    "   \n",
    "    return row.image[y-r:y+r, x-r:x+r ]\n",
    "\n",
    "plt.imshow(crop(counts.iloc[60]))"
   ]
  },
  {
   "cell_type": "code",
   "execution_count": 7,
   "metadata": {},
   "outputs": [
    {
     "name": "stdout",
     "output_type": "stream",
     "text": [
      "4153\n"
     ]
    },
    {
     "data": {
      "text/plain": [
       "<matplotlib.image.AxesImage at 0x187b2ba60>"
      ]
     },
     "execution_count": 7,
     "metadata": {},
     "output_type": "execute_result"
    },
    {
     "data": {
      "image/png": "[encoded data removed]",
      "text/plain": [
       "<Figure size 432x288 with 1 Axes>"
      ]
     },
     "metadata": {
      "needs_background": "light"
     },
     "output_type": "display_data"
    }
   ],
   "source": [
    "numbers = []\n",
    "\n",
    "def invert(img):\n",
    "    # Convert the img to grayscale \n",
    "    gray = cv2.cvtColor(img,cv2.COLOR_BGR2GRAY) \n",
    "    r = cv2.resize(gray, (28,28))\n",
    "    r = np.max(r)-r\n",
    "    #_, tr = cv2.threshold (r, 70, 255, cv2.THRESH_BINARY_INV);\n",
    "    return r\n",
    "\n",
    "for  name, row in  counts.iterrows():\n",
    "    # Only get digits from 1 to 9\n",
    "    if row['count'] is not None and not np.isnan(row['count']) and row['count'] < 10 :\n",
    "        numbers.append((row['count'], invert(crop(row))))\n",
    "    \n",
    "print(len(numbers))\n",
    "plt.imshow(numbers[10][1])"
   ]
  },
  {
   "cell_type": "code",
   "execution_count": 8,
   "metadata": {},
   "outputs": [
    {
     "data": {
      "text/plain": [
       "<matplotlib.image.AxesImage at 0x18c070dc0>"
      ]
     },
     "execution_count": 8,
     "metadata": {},
     "output_type": "execute_result"
    },
    {
     "data": {
      "image/png": "[encoded data removed]",
      "text/plain": [
       "<Figure size 432x288 with 1 Axes>"
      ]
     },
     "metadata": {
      "needs_background": "light"
     },
     "output_type": "display_data"
    }
   ],
   "source": [
    "plt.imshow((numbers[10][1][:,:,np.newaxis]))"
   ]
  },
  {
   "cell_type": "code",
   "execution_count": 9,
   "metadata": {},
   "outputs": [],
   "source": [
    "# baseline cnn model for mnist\n",
    "from numpy import mean\n",
    "from numpy import std\n",
    "from matplotlib import pyplot as plt\n",
    "from sklearn.model_selection import KFold\n",
    "from tensorflow.keras.datasets import mnist\n",
    "from tensorflow.keras.utils import to_categorical\n",
    "from tensorflow.keras.models import Sequential\n",
    "from tensorflow.keras.layers import Conv2D\n",
    "from tensorflow.keras.layers import MaxPooling2D\n",
    "from tensorflow.keras.layers import Dense\n",
    "from tensorflow.keras.layers import Flatten\n",
    "from tensorflow.keras.optimizers import SGD \n",
    "from keras.utils.data_utils import get_file\n",
    "\n",
    "\n",
    "\n",
    "# plot diagnostic learning curves\n",
    "def summarize_diagnostics(histories):\n",
    "    for i in range(len(histories)):\n",
    "        # plot loss\n",
    "        plt.subplot(2, 1, 1)\n",
    "        plt.title('Cross Entropy Loss')\n",
    "        plt.plot(histories[i].history['loss'], color='blue', label='train')\n",
    "        plt.plot(histories[i].history['val_loss'], color='orange', label='test')\n",
    "        # plot accuracy\n",
    "        plt.subplot(2, 1, 2)\n",
    "        plt.title('Classification Accuracy')\n",
    "        plt.plot(histories[i].history['accuracy'], color='blue', label='train')\n",
    "        plt.plot(histories[i].history['val_accuracy'], color='orange', label='test')\n",
    "    plt.show()\n",
    " \n",
    "# summarize model performance\n",
    "def summarize_performance(scores):\n",
    "    # print summary\n",
    "    print('Accuracy: mean=%.3f std=%.3f, n=%d' % (mean(scores)*100, std(scores)*100, len(scores)))\n",
    "    # box and whisker plots of results\n",
    "    plt.boxplot(scores)\n",
    "    plt.show()\n",
    " \n",
    "\n",
    "origin_folder = 'https://storage.googleapis.com/tensorflow/tf-keras-datasets/'\n",
    "path = get_file(\n",
    "  'mnist.npz',\n",
    "  origin=origin_folder + 'mnist.npz',\n",
    "  file_hash=\n",
    "  '731c5ac602752760c8e48fbffcf8c3b850d9dc2a2aedcf2cc48468fc17b673d1')\n",
    "\n",
    "\n",
    "with np.load(path, allow_pickle=True) as f:  \n",
    "    x_train, y_train = f['x_train'], f['y_train']\n",
    "    x_test, y_test = f['x_test'], f['y_test']\n",
    "\n",
    "X = np.concatenate([x_train, x_test], axis=0)\n",
    "y = np.concatenate([y_train, y_test], axis=0)\n",
    " \n",
    "#X = x_train\n",
    "#y = y_train\n",
    "    \n",
    "X = X.reshape((X.shape[0], 28, 28, 1))\n",
    "X = X.astype('float32') / np.max(X)\n",
    "\n",
    "\n",
    "y = to_categorical(y)\n"
   ]
  },
  {
   "cell_type": "code",
   "execution_count": 10,
   "metadata": {},
   "outputs": [
    {
     "data": {
      "text/plain": [
       "(array([0., 0., 0., 1., 0., 0., 0., 0., 0., 0.], dtype=float32),\n",
       " <matplotlib.image.AxesImage at 0x1984bc370>)"
      ]
     },
     "execution_count": 10,
     "metadata": {},
     "output_type": "execute_result"
    },
    {
     "data": {
      "image/png": "[encoded data removed]",
      "text/plain": [
       "<Figure size 432x288 with 1 Axes>"
      ]
     },
     "metadata": {
      "needs_background": "light"
     },
     "output_type": "display_data"
    }
   ],
   "source": [
    "y[65000], plt.imshow(X[65000])"
   ]
  },
  {
   "cell_type": "markdown",
   "metadata": {},
   "source": [
    "# MNIST Model Example"
   ]
  },
  {
   "cell_type": "code",
   "execution_count": 11,
   "metadata": {},
   "outputs": [
    {
     "name": "stderr",
     "output_type": "stream",
     "text": [
      "2022-04-15 15:15:44.669852: I tensorflow/core/platform/cpu_feature_guard.cc:151] This TensorFlow binary is optimized with oneAPI Deep Neural Network Library (oneDNN) to use the following CPU instructions in performance-critical operations:  SSE4.1 SSE4.2 AVX AVX2 FMA\n",
      "To enable them in other operations, rebuild TensorFlow with the appropriate compiler flags.\n"
     ]
    },
    {
     "name": "stdout",
     "output_type": "stream",
     "text": [
      "Epoch 1/3\n",
      "1750/1750 [==============================] - 14s 8ms/step - loss: 0.1758 - accuracy: 0.9459 - val_loss: 0.0930 - val_accuracy: 0.9699\n",
      "Epoch 2/3\n",
      "1750/1750 [==============================] - 14s 8ms/step - loss: 0.0596 - accuracy: 0.9819 - val_loss: 0.0728 - val_accuracy: 0.9791\n",
      "Epoch 3/3\n",
      "1750/1750 [==============================] - 13s 8ms/step - loss: 0.0380 - accuracy: 0.9881 - val_loss: 0.0551 - val_accuracy: 0.9833\n",
      "438/438 [==============================] - 1s 2ms/step - loss: 0.0551 - accuracy: 0.9833\n",
      "> 98.329\n",
      "Epoch 1/3\n",
      "1750/1750 [==============================] - 13s 8ms/step - loss: 0.0338 - accuracy: 0.9898 - val_loss: 0.0268 - val_accuracy: 0.9923\n",
      "Epoch 2/3\n",
      "1750/1750 [==============================] - 14s 8ms/step - loss: 0.0216 - accuracy: 0.9934 - val_loss: 0.0303 - val_accuracy: 0.9900\n",
      "Epoch 3/3\n",
      "1750/1750 [==============================] - 14s 8ms/step - loss: 0.0146 - accuracy: 0.9959 - val_loss: 0.0267 - val_accuracy: 0.9914\n",
      "438/438 [==============================] - 1s 3ms/step - loss: 0.0267 - accuracy: 0.9914\n",
      "> 99.143\n",
      "Epoch 1/3\n",
      "1750/1750 [==============================] - 15s 8ms/step - loss: 0.0165 - accuracy: 0.9951 - val_loss: 0.0117 - val_accuracy: 0.9969\n",
      "Epoch 2/3\n",
      "1750/1750 [==============================] - 14s 8ms/step - loss: 0.0111 - accuracy: 0.9969 - val_loss: 0.0124 - val_accuracy: 0.9960\n",
      "Epoch 3/3\n",
      "1750/1750 [==============================] - 14s 8ms/step - loss: 0.0065 - accuracy: 0.9985 - val_loss: 0.0125 - val_accuracy: 0.9954\n",
      "438/438 [==============================] - 1s 3ms/step - loss: 0.0125 - accuracy: 0.9954\n",
      "> 99.536\n",
      "Epoch 1/3\n",
      "1750/1750 [==============================] - 15s 8ms/step - loss: 0.0085 - accuracy: 0.9974 - val_loss: 0.0058 - val_accuracy: 0.9986\n",
      "Epoch 2/3\n",
      "1750/1750 [==============================] - 14s 8ms/step - loss: 0.0051 - accuracy: 0.9987 - val_loss: 0.0051 - val_accuracy: 0.9986\n",
      "Epoch 3/3\n",
      "1750/1750 [==============================] - 13s 7ms/step - loss: 0.0026 - accuracy: 0.9996 - val_loss: 0.0034 - val_accuracy: 0.9990\n",
      "438/438 [==============================] - 1s 2ms/step - loss: 0.0034 - accuracy: 0.9990\n",
      "> 99.900\n",
      "Epoch 1/3\n",
      "1750/1750 [==============================] - 15s 9ms/step - loss: 0.0027 - accuracy: 0.9995 - val_loss: 0.0019 - val_accuracy: 0.9995\n",
      "Epoch 2/3\n",
      "1750/1750 [==============================] - 14s 8ms/step - loss: 0.0017 - accuracy: 0.9997 - val_loss: 0.0014 - val_accuracy: 0.9996\n",
      "Epoch 3/3\n",
      "1750/1750 [==============================] - 13s 8ms/step - loss: 0.0010 - accuracy: 0.9999 - val_loss: 0.0014 - val_accuracy: 0.9997\n",
      "438/438 [==============================] - 1s 3ms/step - loss: 0.0014 - accuracy: 0.9997\n",
      "> 99.971\n"
     ]
    },
    {
     "data": {
      "image/png": "[encoded data removed]",
      "text/plain": [
       "<Figure size 432x288 with 2 Axes>"
      ]
     },
     "metadata": {
      "needs_background": "light"
     },
     "output_type": "display_data"
    },
    {
     "name": "stdout",
     "output_type": "stream",
     "text": [
      "Accuracy: mean=99.376 std=0.601, n=5\n"
     ]
    },
    {
     "data": {
      "image/png": "[encoded data removed]",
      "text/plain": [
       "<Figure size 432x288 with 1 Axes>"
      ]
     },
     "metadata": {
      "needs_background": "light"
     },
     "output_type": "display_data"
    }
   ],
   "source": [
    "\n",
    "# define cnn model\n",
    "def define_model():\n",
    "    model = Sequential()\n",
    "    model.add(Conv2D(32, (3, 3), activation='relu', \n",
    "                     kernel_initializer='he_uniform', input_shape=(28, 28, 1)))\n",
    "    model.add(MaxPooling2D((2, 2)))\n",
    "    model.add(Flatten())\n",
    "    model.add(Dense(100, activation='relu', kernel_initializer='he_uniform'))\n",
    "    model.add(Dense(10, activation='softmax'))\n",
    "    # compile model\n",
    "    opt = SGD(learning_rate=0.01, momentum=0.9)\n",
    "    model.compile(optimizer=opt, loss='categorical_crossentropy', metrics=['accuracy'])\n",
    "    return model\n",
    " \n",
    "model = define_model()\n",
    "\n",
    "scores, histories = list(), list()\n",
    "# prepare cross validation\n",
    "kfold = KFold(5, shuffle=True, random_state=1)\n",
    "# enumerate splits\n",
    "for train_ix, test_ix in kfold.split(X):\n",
    "    # define model\n",
    "    \n",
    "    # select rows for train and test\n",
    "    trainX, trainY, testX, testY = X[train_ix], y[train_ix], X[test_ix], y[test_ix]\n",
    "    # fit model\n",
    "    history = model.fit(trainX, trainY, epochs=3, batch_size=32, \n",
    "                        validation_data=(testX, testY), verbose=True)\n",
    "    \n",
    "    # evaluate model\n",
    "    _, acc = model.evaluate(testX, testY, verbose=True)\n",
    "    print('> %.3f' % (acc * 100.0))\n",
    "    # stores scores\n",
    "    scores.append(acc)\n",
    "    histories.append(history)\n",
    "\n",
    "# learning curves\n",
    "summarize_diagnostics(histories)\n",
    "# summarize estimated performance\n",
    "summarize_performance(scores)"
   ]
  },
  {
   "cell_type": "code",
   "execution_count": 12,
   "metadata": {},
   "outputs": [
    {
     "name": "stdout",
     "output_type": "stream",
     "text": [
      "438/438 [==============================] - 1s 3ms/step - loss: 0.0014 - accuracy: 0.9997\n"
     ]
    },
    {
     "data": {
      "text/plain": [
       "[0.0014464037958532572, 0.9997143149375916]"
      ]
     },
     "execution_count": 12,
     "metadata": {},
     "output_type": "execute_result"
    }
   ],
   "source": [
    "model.evaluate(testX, testY, verbose=True)"
   ]
  },
  {
   "cell_type": "code",
   "execution_count": 13,
   "metadata": {},
   "outputs": [
    {
     "data": {
      "text/plain": [
       "(0, 0, <matplotlib.image.AxesImage at 0x198fc16d0>)"
      ]
     },
     "execution_count": 13,
     "metadata": {},
     "output_type": "execute_result"
    },
    {
     "data": {
      "image/png": "[encoded data removed]",
      "text/plain": [
       "<Figure size 432x288 with 1 Axes>"
      ]
     },
     "metadata": {
      "needs_background": "light"
     },
     "output_type": "display_data"
    }
   ],
   "source": [
    "idx = 62376\n",
    "am = np.argmax(model.predict(X[[idx]]))\n",
    "am, np.argmax(y[idx]), plt.imshow(X[idx])"
   ]
  },
  {
   "cell_type": "markdown",
   "metadata": {},
   "source": [
    "# Predict using homelessness digits"
   ]
  },
  {
   "cell_type": "code",
   "execution_count": 14,
   "metadata": {},
   "outputs": [
    {
     "data": {
      "text/plain": [
       "(3, 3, <matplotlib.image.AxesImage at 0x199058e20>)"
      ]
     },
     "execution_count": 14,
     "metadata": {},
     "output_type": "execute_result"
    },
    {
     "data": {
      "image/png": "[encoded data removed]",
      "text/plain": [
       "<Figure size 432x288 with 1 Axes>"
      ]
     },
     "metadata": {
      "needs_background": "light"
     },
     "output_type": "display_data"
    }
   ],
   "source": [
    "Xhm = np.array([e[1][:,:,np.newaxis] for e in numbers])\n",
    "yhm = to_categorical(np.array([e[0] for e in numbers]))\n",
    "\n",
    "idx = 10\n",
    "\n",
    "am = np.argmax(model.predict(Xhm[[idx]]))\n",
    "am, np.argmax(yhm[idx]), plt.imshow(Xhm[idx])\n"
   ]
  },
  {
   "cell_type": "code",
   "execution_count": 15,
   "metadata": {},
   "outputs": [
    {
     "data": {
      "image/png": "[encoded data removed]",
      "text/plain": [
       "<Figure size 720x720 with 25 Axes>"
      ]
     },
     "metadata": {
      "needs_background": "light"
     },
     "output_type": "display_data"
    }
   ],
   "source": [
    "idxes = np.random.choice(np.arange(len(Xhm)), size=25)\n",
    "\n",
    "fig, axes = plt.subplots(5,5, figsize=(10,10))\n",
    "axes = np.ravel(axes)\n",
    "\n",
    "for ax, idx in zip(axes, idxes):\n",
    "    ax.set_axis_off()\n",
    "    ax.imshow(Xhm[idx])\n",
    "    ax.set_title(np.argmax(yhm[idx]))\n",
    "\n",
    "plt.tight_layout()"
   ]
  },
  {
   "cell_type": "code",
   "execution_count": 16,
   "metadata": {},
   "outputs": [
    {
     "name": "stdout",
     "output_type": "stream",
     "text": [
      "130/130 [==============================] - 0s 3ms/step - loss: 2048.8259 - accuracy: 0.3829\n"
     ]
    },
    {
     "data": {
      "text/plain": [
       "[2048.825927734375, 0.38285577297210693]"
      ]
     },
     "execution_count": 16,
     "metadata": {},
     "output_type": "execute_result"
    }
   ],
   "source": [
    "model.evaluate(Xhm, yhm, verbose=True)"
   ]
  },
  {
   "cell_type": "markdown",
   "metadata": {},
   "source": [
    "# Retrain with homelessness digits"
   ]
  },
  {
   "cell_type": "code",
   "execution_count": 17,
   "metadata": {},
   "outputs": [
    {
     "data": {
      "text/plain": [
       "4153"
      ]
     },
     "execution_count": 17,
     "metadata": {},
     "output_type": "execute_result"
    }
   ],
   "source": [
    "len(Xhm)"
   ]
  },
  {
   "cell_type": "code",
   "execution_count": 18,
   "metadata": {},
   "outputs": [
    {
     "name": "stdout",
     "output_type": "stream",
     "text": [
      "Epoch 1/5\n",
      "130/130 [==============================] - 2s 10ms/step - loss: 99.6155 - accuracy: 0.2174 - val_loss: 2.1652 - val_accuracy: 0.2295\n",
      "Epoch 2/5\n",
      "130/130 [==============================] - 1s 9ms/step - loss: 2.1608 - accuracy: 0.2244 - val_loss: 2.1631 - val_accuracy: 0.2295\n",
      "Epoch 3/5\n",
      "130/130 [==============================] - 1s 10ms/step - loss: 2.1574 - accuracy: 0.2244 - val_loss: 2.1657 - val_accuracy: 0.2295\n",
      "Epoch 4/5\n",
      "130/130 [==============================] - 1s 11ms/step - loss: 2.1600 - accuracy: 0.2244 - val_loss: 2.1639 - val_accuracy: 0.2295\n",
      "Epoch 5/5\n",
      "130/130 [==============================] - 1s 11ms/step - loss: 2.1591 - accuracy: 0.2244 - val_loss: 2.1631 - val_accuracy: 0.2295\n",
      "130/130 [==============================] - 0s 2ms/step - loss: 2.1631 - accuracy: 0.2295\n",
      "> 22.947\n",
      "Epoch 1/5\n",
      "130/130 [==============================] - 1s 9ms/step - loss: 2.1599 - accuracy: 0.2280 - val_loss: 2.1598 - val_accuracy: 0.2244\n",
      "Epoch 2/5\n",
      "130/130 [==============================] - 1s 10ms/step - loss: 2.1580 - accuracy: 0.2295 - val_loss: 2.1603 - val_accuracy: 0.2244\n",
      "Epoch 3/5\n",
      "130/130 [==============================] - 1s 10ms/step - loss: 2.1575 - accuracy: 0.2295 - val_loss: 2.1659 - val_accuracy: 0.2244\n",
      "Epoch 4/5\n",
      "130/130 [==============================] - 1s 10ms/step - loss: 2.1580 - accuracy: 0.2295 - val_loss: 2.1619 - val_accuracy: 0.2244\n",
      "Epoch 5/5\n",
      "130/130 [==============================] - 2s 12ms/step - loss: 2.1583 - accuracy: 0.2295 - val_loss: 2.1613 - val_accuracy: 0.2244\n",
      "130/130 [==============================] - 0s 3ms/step - loss: 2.1613 - accuracy: 0.2244\n",
      "> 22.442\n"
     ]
    },
    {
     "data": {
      "image/png": "[encoded data removed]",
      "text/plain": [
       "<Figure size 432x288 with 2 Axes>"
      ]
     },
     "metadata": {
      "needs_background": "light"
     },
     "output_type": "display_data"
    },
    {
     "name": "stdout",
     "output_type": "stream",
     "text": [
      "Accuracy: mean=22.694 std=0.253, n=2\n"
     ]
    },
    {
     "data": {
      "image/png": "[encoded data removed]",
      "text/plain": [
       "<Figure size 432x288 with 1 Axes>"
      ]
     },
     "metadata": {
      "needs_background": "light"
     },
     "output_type": "display_data"
    }
   ],
   "source": [
    "# Make half of the dataset from MNIST\n",
    "idxes = np.random.choice(np.arange(len(X)), size=len(Xhm) )\n",
    "\n",
    "\n",
    "X = np.concatenate([Xhm, X[idxes]], axis=0)\n",
    "y = np.concatenate([yhm, y[idxes]], axis=0)\n",
    "\n",
    "# define cnn model\n",
    "def define_model():\n",
    "    model = Sequential()\n",
    "    model.add(Conv2D(32, (3, 3), activation='relu', \n",
    "                     kernel_initializer='he_uniform', input_shape=(28, 28, 1)))\n",
    "    model.add(MaxPooling2D((2, 2)))\n",
    "    model.add(Flatten())\n",
    "    model.add(Dense(100, activation='relu', kernel_initializer='he_uniform'))\n",
    "    model.add(Dense(10, activation='softmax'))\n",
    "    # compile model\n",
    "    opt = SGD(learning_rate=0.01, momentum=0.9)\n",
    "    model.compile(optimizer=opt, loss='categorical_crossentropy', metrics=['accuracy'])\n",
    "    return model\n",
    " \n",
    "model = define_model()\n",
    "\n",
    "scores, histories = list(), list()\n",
    "# prepare cross validation\n",
    "kfold = KFold(2, shuffle=True, random_state=1)\n",
    "# enumerate splits\n",
    "for train_ix, test_ix in kfold.split(X):\n",
    "    # define model\n",
    "    \n",
    "    # select rows for train and test\n",
    "    trainX, trainY, testX, testY = X[train_ix], y[train_ix], X[test_ix], y[test_ix]\n",
    "    # fit model\n",
    "    history = model.fit(trainX, trainY, epochs=5, batch_size=32, \n",
    "                        validation_data=(testX, testY), verbose=True)\n",
    "    \n",
    "    # evaluate model\n",
    "    _, acc = model.evaluate(testX, testY, verbose=True)\n",
    "    print('> %.3f' % (acc * 100.0))\n",
    "    # stores scores\n",
    "    scores.append(acc)\n",
    "    histories.append(history)\n",
    "\n",
    "# learning curves\n",
    "summarize_diagnostics(histories)\n",
    "# summarize estimated performance\n",
    "summarize_performance(scores)"
   ]
  },
  {
   "cell_type": "code",
   "execution_count": null,
   "metadata": {},
   "outputs": [],
   "source": []
  },
  {
   "cell_type": "code",
   "execution_count": null,
   "metadata": {},
   "outputs": [],
   "source": []
  }
 ],
 "metadata": {
  "kernelspec": {
   "display_name": "Python 3 (ipykernel)",
   "language": "python",
   "name": "python3"
  },
  "language_info": {
   "codemirror_mode": {
    "name": "ipython",
    "version": 3
   },
   "file_extension": ".py",
   "mimetype": "text/x-python",
   "name": "python",
   "nbconvert_exporter": "python",
   "pygments_lexer": "ipython3",
   "version": "3.9.12"
  }
 },
 "nbformat": 4,
 "nbformat_minor": 4
}
